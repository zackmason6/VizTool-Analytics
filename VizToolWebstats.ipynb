{
 "cells": [
  {
   "cell_type": "code",
   "execution_count": 49,
   "metadata": {},
   "outputs": [],
   "source": [
    "import pandas as pd\n",
    "import plotly as py\n",
    "import plotly.graph_objs as go\n",
    "import plotly.express as px"
   ]
  },
  {
   "cell_type": "code",
   "execution_count": 85,
   "metadata": {},
   "outputs": [],
   "source": [
    "df = pd.read_csv(\"VizTool_users.csv\")\n",
    "#print(myData)"
   ]
  },
  {
   "cell_type": "markdown",
   "metadata": {},
   "source": [
    "This workflow is to visualize NCRMP Viz Tool user data for the United States\n",
    "1. Filter the data to only include locations within the US"
   ]
  },
  {
   "cell_type": "code",
   "execution_count": 79,
   "metadata": {},
   "outputs": [],
   "source": [
    "# Get data for only the United States\n",
    "df = df[df['Country'] == 'United States']\n",
    "# display the dataframe\n",
    "#print(df)\n"
   ]
  },
  {
   "cell_type": "markdown",
   "metadata": {},
   "source": [
    "2. Sort values in ascending order by number of users and build bar chart of US states by total number of users"
   ]
  },
  {
   "cell_type": "code",
   "execution_count": 80,
   "metadata": {},
   "outputs": [
    {
     "data": {
      "application/vnd.plotly.v1+json": {
       "config": {
        "plotlyServerURL": "https://plot.ly"
       },
       "data": [
        {
         "alignmentgroup": "True",
         "customdata": [
          [
           1,
           1,
           16
          ],
          [
           0,
           0,
           0
          ],
          [
           0,
           0,
           0
          ],
          [
           0,
           0,
           0
          ],
          [
           0,
           0,
           0
          ],
          [
           2,
           1,
           14.5
          ],
          [
           1,
           0.333333333,
           0.5
          ],
          [
           3,
           0.6,
           60
          ],
          [
           2,
           1,
           3
          ],
          [
           3,
           1,
           55.33333333
          ],
          [
           1,
           0.333333333,
           5.666666667
          ],
          [
           2,
           0.4,
           17
          ],
          [
           1,
           0.25,
           0
          ],
          [
           1,
           0.2,
           3
          ],
          [
           2,
           0.4,
           7
          ],
          [
           3,
           0.6,
           15.5
          ],
          [
           2,
           0.4,
           4
          ],
          [
           1,
           0.166666667,
           1.25
          ],
          [
           0,
           0,
           0
          ],
          [
           1,
           0.142857143,
           12.8
          ],
          [
           4,
           0.571428571,
           10.8
          ],
          [
           3,
           0.5,
           10.66666667
          ],
          [
           2,
           0.222222222,
           12.83333333
          ],
          [
           3,
           0.333333333,
           11.42857143
          ],
          [
           7,
           0.636363636,
           20.625
          ],
          [
           0,
           0,
           0
          ],
          [
           5,
           0.333333333,
           17
          ],
          [
           7,
           0.583333333,
           19
          ],
          [
           11,
           0.523809524,
           26.53846154
          ],
          [
           8,
           0.421052632,
           43.84615385
          ],
          [
           7,
           0.388888889,
           11.5
          ],
          [
           11,
           0.611111111,
           18.85714286
          ],
          [
           11,
           0.611111111,
           20.25
          ],
          [
           10,
           0.5,
           26.125
          ],
          [
           16,
           0.484848485,
           35.35294118
          ],
          [
           29,
           0.491525424,
           32.77777778
          ],
          [
           25,
           0.423728814,
           29.6
          ],
          [
           35,
           0.514705882,
           30.63636364
          ],
          [
           23,
           0.328571429,
           10.84313725
          ],
          [
           35,
           0.52238806,
           29.96153846
          ],
          [
           53,
           0.410852713,
           30.38961039
          ],
          [
           59,
           0.398648649,
           23.89166667
          ],
          [
           22,
           0.176,
           4.472
          ],
          [
           31,
           0.216783217,
           8.18115942
          ],
          [
           114,
           0.476987448,
           40.85517241
          ],
          [
           88,
           0.405529954,
           38.94701987
          ],
          [
           36,
           0.18,
           4.204301075
          ],
          [
           18,
           0.086538462,
           2.555555556
          ],
          [
           30,
           0.129310345,
           5.023923445
          ]
         ],
         "hovertemplate": "Region=%{x}<br>Users=%{marker.color}<br>Engaged sessions=%{customdata[0]}<br>Engagement rate=%{customdata[1]}<br>Average engagement time=%{customdata[2]}<extra></extra>",
         "legendgroup": "",
         "marker": {
          "color": [
           1,
           1,
           1,
           2,
           2,
           2,
           2,
           2,
           2,
           3,
           3,
           3,
           3,
           4,
           4,
           4,
           4,
           4,
           5,
           5,
           5,
           6,
           6,
           7,
           8,
           8,
           9,
           9,
           13,
           13,
           14,
           14,
           16,
           16,
           17,
           36,
           40,
           44,
           51,
           52,
           77,
           120,
           125,
           138,
           145,
           151,
           186,
           207,
           209
          ],
          "coloraxis": "coloraxis",
          "pattern": {
           "shape": ""
          }
         },
         "name": "",
         "offsetgroup": "",
         "orientation": "v",
         "showlegend": false,
         "textposition": "auto",
         "type": "bar",
         "x": [
          "Vermont",
          "Nebraska",
          "Alaska",
          "West Virginia",
          "New Mexico",
          "Nevada",
          "Montana",
          "Idaho",
          "Arkansas",
          "Maine",
          "(not set)",
          "Rhode Island",
          "Oklahoma",
          "New Hampshire",
          "Indiana",
          "Delaware",
          "Connecticut",
          "Tennessee",
          "Wisconsin",
          "Kentucky",
          "Alabama",
          "Missouri",
          "Arizona",
          "Mississippi",
          "Louisiana",
          "Kansas",
          "Ohio",
          "Michigan",
          "Minnesota",
          "Georgia",
          "Oregon",
          "New Jersey",
          "Illinois",
          "Colorado",
          "Pennsylvania",
          "District of Columbia",
          "South Carolina",
          "North Carolina",
          "New York",
          "Massachusetts",
          "Hawaii",
          "California",
          "Iowa",
          "Texas",
          "Maryland",
          "Florida",
          "Virginia",
          "Wyoming",
          "Washington"
         ],
         "xaxis": "x",
         "y": [
          1,
          1,
          1,
          2,
          2,
          2,
          2,
          2,
          2,
          3,
          3,
          3,
          3,
          4,
          4,
          4,
          4,
          4,
          5,
          5,
          5,
          6,
          6,
          7,
          8,
          8,
          9,
          9,
          13,
          13,
          14,
          14,
          16,
          16,
          17,
          36,
          40,
          44,
          51,
          52,
          77,
          120,
          125,
          138,
          145,
          151,
          186,
          207,
          209
         ],
         "yaxis": "y"
        }
       ],
       "layout": {
        "barmode": "relative",
        "coloraxis": {
         "colorbar": {
          "title": {
           "text": "Users"
          }
         },
         "colorscale": [
          [
           0,
           "#0d0887"
          ],
          [
           0.1111111111111111,
           "#46039f"
          ],
          [
           0.2222222222222222,
           "#7201a8"
          ],
          [
           0.3333333333333333,
           "#9c179e"
          ],
          [
           0.4444444444444444,
           "#bd3786"
          ],
          [
           0.5555555555555556,
           "#d8576b"
          ],
          [
           0.6666666666666666,
           "#ed7953"
          ],
          [
           0.7777777777777778,
           "#fb9f3a"
          ],
          [
           0.8888888888888888,
           "#fdca26"
          ],
          [
           1,
           "#f0f921"
          ]
         ]
        },
        "height": 400,
        "legend": {
         "tracegroupgap": 0
        },
        "margin": {
         "t": 60
        },
        "template": {
         "data": {
          "bar": [
           {
            "error_x": {
             "color": "#2a3f5f"
            },
            "error_y": {
             "color": "#2a3f5f"
            },
            "marker": {
             "line": {
              "color": "#E5ECF6",
              "width": 0.5
             },
             "pattern": {
              "fillmode": "overlay",
              "size": 10,
              "solidity": 0.2
             }
            },
            "type": "bar"
           }
          ],
          "barpolar": [
           {
            "marker": {
             "line": {
              "color": "#E5ECF6",
              "width": 0.5
             },
             "pattern": {
              "fillmode": "overlay",
              "size": 10,
              "solidity": 0.2
             }
            },
            "type": "barpolar"
           }
          ],
          "carpet": [
           {
            "aaxis": {
             "endlinecolor": "#2a3f5f",
             "gridcolor": "white",
             "linecolor": "white",
             "minorgridcolor": "white",
             "startlinecolor": "#2a3f5f"
            },
            "baxis": {
             "endlinecolor": "#2a3f5f",
             "gridcolor": "white",
             "linecolor": "white",
             "minorgridcolor": "white",
             "startlinecolor": "#2a3f5f"
            },
            "type": "carpet"
           }
          ],
          "choropleth": [
           {
            "colorbar": {
             "outlinewidth": 0,
             "ticks": ""
            },
            "type": "choropleth"
           }
          ],
          "contour": [
           {
            "colorbar": {
             "outlinewidth": 0,
             "ticks": ""
            },
            "colorscale": [
             [
              0,
              "#0d0887"
             ],
             [
              0.1111111111111111,
              "#46039f"
             ],
             [
              0.2222222222222222,
              "#7201a8"
             ],
             [
              0.3333333333333333,
              "#9c179e"
             ],
             [
              0.4444444444444444,
              "#bd3786"
             ],
             [
              0.5555555555555556,
              "#d8576b"
             ],
             [
              0.6666666666666666,
              "#ed7953"
             ],
             [
              0.7777777777777778,
              "#fb9f3a"
             ],
             [
              0.8888888888888888,
              "#fdca26"
             ],
             [
              1,
              "#f0f921"
             ]
            ],
            "type": "contour"
           }
          ],
          "contourcarpet": [
           {
            "colorbar": {
             "outlinewidth": 0,
             "ticks": ""
            },
            "type": "contourcarpet"
           }
          ],
          "heatmap": [
           {
            "colorbar": {
             "outlinewidth": 0,
             "ticks": ""
            },
            "colorscale": [
             [
              0,
              "#0d0887"
             ],
             [
              0.1111111111111111,
              "#46039f"
             ],
             [
              0.2222222222222222,
              "#7201a8"
             ],
             [
              0.3333333333333333,
              "#9c179e"
             ],
             [
              0.4444444444444444,
              "#bd3786"
             ],
             [
              0.5555555555555556,
              "#d8576b"
             ],
             [
              0.6666666666666666,
              "#ed7953"
             ],
             [
              0.7777777777777778,
              "#fb9f3a"
             ],
             [
              0.8888888888888888,
              "#fdca26"
             ],
             [
              1,
              "#f0f921"
             ]
            ],
            "type": "heatmap"
           }
          ],
          "heatmapgl": [
           {
            "colorbar": {
             "outlinewidth": 0,
             "ticks": ""
            },
            "colorscale": [
             [
              0,
              "#0d0887"
             ],
             [
              0.1111111111111111,
              "#46039f"
             ],
             [
              0.2222222222222222,
              "#7201a8"
             ],
             [
              0.3333333333333333,
              "#9c179e"
             ],
             [
              0.4444444444444444,
              "#bd3786"
             ],
             [
              0.5555555555555556,
              "#d8576b"
             ],
             [
              0.6666666666666666,
              "#ed7953"
             ],
             [
              0.7777777777777778,
              "#fb9f3a"
             ],
             [
              0.8888888888888888,
              "#fdca26"
             ],
             [
              1,
              "#f0f921"
             ]
            ],
            "type": "heatmapgl"
           }
          ],
          "histogram": [
           {
            "marker": {
             "pattern": {
              "fillmode": "overlay",
              "size": 10,
              "solidity": 0.2
             }
            },
            "type": "histogram"
           }
          ],
          "histogram2d": [
           {
            "colorbar": {
             "outlinewidth": 0,
             "ticks": ""
            },
            "colorscale": [
             [
              0,
              "#0d0887"
             ],
             [
              0.1111111111111111,
              "#46039f"
             ],
             [
              0.2222222222222222,
              "#7201a8"
             ],
             [
              0.3333333333333333,
              "#9c179e"
             ],
             [
              0.4444444444444444,
              "#bd3786"
             ],
             [
              0.5555555555555556,
              "#d8576b"
             ],
             [
              0.6666666666666666,
              "#ed7953"
             ],
             [
              0.7777777777777778,
              "#fb9f3a"
             ],
             [
              0.8888888888888888,
              "#fdca26"
             ],
             [
              1,
              "#f0f921"
             ]
            ],
            "type": "histogram2d"
           }
          ],
          "histogram2dcontour": [
           {
            "colorbar": {
             "outlinewidth": 0,
             "ticks": ""
            },
            "colorscale": [
             [
              0,
              "#0d0887"
             ],
             [
              0.1111111111111111,
              "#46039f"
             ],
             [
              0.2222222222222222,
              "#7201a8"
             ],
             [
              0.3333333333333333,
              "#9c179e"
             ],
             [
              0.4444444444444444,
              "#bd3786"
             ],
             [
              0.5555555555555556,
              "#d8576b"
             ],
             [
              0.6666666666666666,
              "#ed7953"
             ],
             [
              0.7777777777777778,
              "#fb9f3a"
             ],
             [
              0.8888888888888888,
              "#fdca26"
             ],
             [
              1,
              "#f0f921"
             ]
            ],
            "type": "histogram2dcontour"
           }
          ],
          "mesh3d": [
           {
            "colorbar": {
             "outlinewidth": 0,
             "ticks": ""
            },
            "type": "mesh3d"
           }
          ],
          "parcoords": [
           {
            "line": {
             "colorbar": {
              "outlinewidth": 0,
              "ticks": ""
             }
            },
            "type": "parcoords"
           }
          ],
          "pie": [
           {
            "automargin": true,
            "type": "pie"
           }
          ],
          "scatter": [
           {
            "fillpattern": {
             "fillmode": "overlay",
             "size": 10,
             "solidity": 0.2
            },
            "type": "scatter"
           }
          ],
          "scatter3d": [
           {
            "line": {
             "colorbar": {
              "outlinewidth": 0,
              "ticks": ""
             }
            },
            "marker": {
             "colorbar": {
              "outlinewidth": 0,
              "ticks": ""
             }
            },
            "type": "scatter3d"
           }
          ],
          "scattercarpet": [
           {
            "marker": {
             "colorbar": {
              "outlinewidth": 0,
              "ticks": ""
             }
            },
            "type": "scattercarpet"
           }
          ],
          "scattergeo": [
           {
            "marker": {
             "colorbar": {
              "outlinewidth": 0,
              "ticks": ""
             }
            },
            "type": "scattergeo"
           }
          ],
          "scattergl": [
           {
            "marker": {
             "colorbar": {
              "outlinewidth": 0,
              "ticks": ""
             }
            },
            "type": "scattergl"
           }
          ],
          "scattermapbox": [
           {
            "marker": {
             "colorbar": {
              "outlinewidth": 0,
              "ticks": ""
             }
            },
            "type": "scattermapbox"
           }
          ],
          "scatterpolar": [
           {
            "marker": {
             "colorbar": {
              "outlinewidth": 0,
              "ticks": ""
             }
            },
            "type": "scatterpolar"
           }
          ],
          "scatterpolargl": [
           {
            "marker": {
             "colorbar": {
              "outlinewidth": 0,
              "ticks": ""
             }
            },
            "type": "scatterpolargl"
           }
          ],
          "scatterternary": [
           {
            "marker": {
             "colorbar": {
              "outlinewidth": 0,
              "ticks": ""
             }
            },
            "type": "scatterternary"
           }
          ],
          "surface": [
           {
            "colorbar": {
             "outlinewidth": 0,
             "ticks": ""
            },
            "colorscale": [
             [
              0,
              "#0d0887"
             ],
             [
              0.1111111111111111,
              "#46039f"
             ],
             [
              0.2222222222222222,
              "#7201a8"
             ],
             [
              0.3333333333333333,
              "#9c179e"
             ],
             [
              0.4444444444444444,
              "#bd3786"
             ],
             [
              0.5555555555555556,
              "#d8576b"
             ],
             [
              0.6666666666666666,
              "#ed7953"
             ],
             [
              0.7777777777777778,
              "#fb9f3a"
             ],
             [
              0.8888888888888888,
              "#fdca26"
             ],
             [
              1,
              "#f0f921"
             ]
            ],
            "type": "surface"
           }
          ],
          "table": [
           {
            "cells": {
             "fill": {
              "color": "#EBF0F8"
             },
             "line": {
              "color": "white"
             }
            },
            "header": {
             "fill": {
              "color": "#C8D4E3"
             },
             "line": {
              "color": "white"
             }
            },
            "type": "table"
           }
          ]
         },
         "layout": {
          "annotationdefaults": {
           "arrowcolor": "#2a3f5f",
           "arrowhead": 0,
           "arrowwidth": 1
          },
          "autotypenumbers": "strict",
          "coloraxis": {
           "colorbar": {
            "outlinewidth": 0,
            "ticks": ""
           }
          },
          "colorscale": {
           "diverging": [
            [
             0,
             "#8e0152"
            ],
            [
             0.1,
             "#c51b7d"
            ],
            [
             0.2,
             "#de77ae"
            ],
            [
             0.3,
             "#f1b6da"
            ],
            [
             0.4,
             "#fde0ef"
            ],
            [
             0.5,
             "#f7f7f7"
            ],
            [
             0.6,
             "#e6f5d0"
            ],
            [
             0.7,
             "#b8e186"
            ],
            [
             0.8,
             "#7fbc41"
            ],
            [
             0.9,
             "#4d9221"
            ],
            [
             1,
             "#276419"
            ]
           ],
           "sequential": [
            [
             0,
             "#0d0887"
            ],
            [
             0.1111111111111111,
             "#46039f"
            ],
            [
             0.2222222222222222,
             "#7201a8"
            ],
            [
             0.3333333333333333,
             "#9c179e"
            ],
            [
             0.4444444444444444,
             "#bd3786"
            ],
            [
             0.5555555555555556,
             "#d8576b"
            ],
            [
             0.6666666666666666,
             "#ed7953"
            ],
            [
             0.7777777777777778,
             "#fb9f3a"
            ],
            [
             0.8888888888888888,
             "#fdca26"
            ],
            [
             1,
             "#f0f921"
            ]
           ],
           "sequentialminus": [
            [
             0,
             "#0d0887"
            ],
            [
             0.1111111111111111,
             "#46039f"
            ],
            [
             0.2222222222222222,
             "#7201a8"
            ],
            [
             0.3333333333333333,
             "#9c179e"
            ],
            [
             0.4444444444444444,
             "#bd3786"
            ],
            [
             0.5555555555555556,
             "#d8576b"
            ],
            [
             0.6666666666666666,
             "#ed7953"
            ],
            [
             0.7777777777777778,
             "#fb9f3a"
            ],
            [
             0.8888888888888888,
             "#fdca26"
            ],
            [
             1,
             "#f0f921"
            ]
           ]
          },
          "colorway": [
           "#636efa",
           "#EF553B",
           "#00cc96",
           "#ab63fa",
           "#FFA15A",
           "#19d3f3",
           "#FF6692",
           "#B6E880",
           "#FF97FF",
           "#FECB52"
          ],
          "font": {
           "color": "#2a3f5f"
          },
          "geo": {
           "bgcolor": "white",
           "lakecolor": "white",
           "landcolor": "#E5ECF6",
           "showlakes": true,
           "showland": true,
           "subunitcolor": "white"
          },
          "hoverlabel": {
           "align": "left"
          },
          "hovermode": "closest",
          "mapbox": {
           "style": "light"
          },
          "paper_bgcolor": "white",
          "plot_bgcolor": "#E5ECF6",
          "polar": {
           "angularaxis": {
            "gridcolor": "white",
            "linecolor": "white",
            "ticks": ""
           },
           "bgcolor": "#E5ECF6",
           "radialaxis": {
            "gridcolor": "white",
            "linecolor": "white",
            "ticks": ""
           }
          },
          "scene": {
           "xaxis": {
            "backgroundcolor": "#E5ECF6",
            "gridcolor": "white",
            "gridwidth": 2,
            "linecolor": "white",
            "showbackground": true,
            "ticks": "",
            "zerolinecolor": "white"
           },
           "yaxis": {
            "backgroundcolor": "#E5ECF6",
            "gridcolor": "white",
            "gridwidth": 2,
            "linecolor": "white",
            "showbackground": true,
            "ticks": "",
            "zerolinecolor": "white"
           },
           "zaxis": {
            "backgroundcolor": "#E5ECF6",
            "gridcolor": "white",
            "gridwidth": 2,
            "linecolor": "white",
            "showbackground": true,
            "ticks": "",
            "zerolinecolor": "white"
           }
          },
          "shapedefaults": {
           "line": {
            "color": "#2a3f5f"
           }
          },
          "ternary": {
           "aaxis": {
            "gridcolor": "white",
            "linecolor": "white",
            "ticks": ""
           },
           "baxis": {
            "gridcolor": "white",
            "linecolor": "white",
            "ticks": ""
           },
           "bgcolor": "#E5ECF6",
           "caxis": {
            "gridcolor": "white",
            "linecolor": "white",
            "ticks": ""
           }
          },
          "title": {
           "x": 0.05
          },
          "xaxis": {
           "automargin": true,
           "gridcolor": "white",
           "linecolor": "white",
           "ticks": "",
           "title": {
            "standoff": 15
           },
           "zerolinecolor": "white",
           "zerolinewidth": 2
          },
          "yaxis": {
           "automargin": true,
           "gridcolor": "white",
           "linecolor": "white",
           "ticks": "",
           "title": {
            "standoff": 15
           },
           "zerolinecolor": "white",
           "zerolinewidth": 2
          }
         }
        },
        "xaxis": {
         "anchor": "y",
         "domain": [
          0,
          1
         ],
         "title": {
          "text": "Region"
         }
        },
        "yaxis": {
         "anchor": "x",
         "domain": [
          0,
          1
         ],
         "title": {
          "text": "Users"
         }
        }
       }
      }
     },
     "metadata": {},
     "output_type": "display_data"
    }
   ],
   "source": [
    "# Sort values in ascending order by number of users\n",
    "df.sort_values(by='Users', inplace=True)\n",
    "\n",
    "# Build bar chart\n",
    "fig = px.bar(df, x='Region', y='Users',\n",
    "             hover_data=['Users','Engaged sessions','Engagement rate','Average engagement time'], color='Users',\n",
    "             height=400)\n",
    "fig.show()"
   ]
  },
  {
   "cell_type": "markdown",
   "metadata": {},
   "source": [
    "3. Convert long state names to 2 letter abbreviations. Filter out entries with no state or region name."
   ]
  },
  {
   "cell_type": "code",
   "execution_count": 81,
   "metadata": {},
   "outputs": [
    {
     "name": "stdout",
     "output_type": "stream",
     "text": [
      "           Country                Region  Users  New users  Engaged sessions  \\\n",
      "191  United States               Vermont      1          1                 1   \n",
      "190  United States              Nebraska      1          1                 0   \n",
      "189  United States                Alaska      1          1                 0   \n",
      "101  United States         West Virginia      2          0                 0   \n",
      "100  United States            New Mexico      2          2                 0   \n",
      "99   United States                Nevada      2          2                 2   \n",
      "98   United States               Montana      2          2                 1   \n",
      "97   United States                 Idaho      2          2                 3   \n",
      "96   United States              Arkansas      2          2                 2   \n",
      "66   United States                 Maine      3          1                 3   \n",
      "68   United States          Rhode Island      3          3                 2   \n",
      "67   United States              Oklahoma      3          2                 1   \n",
      "57   United States         New Hampshire      4          3                 1   \n",
      "56   United States               Indiana      4          4                 2   \n",
      "55   United States              Delaware      4          3                 3   \n",
      "54   United States           Connecticut      4          4                 2   \n",
      "58   United States             Tennessee      4          3                 1   \n",
      "49   United States             Wisconsin      5          4                 0   \n",
      "48   United States              Kentucky      5          4                 1   \n",
      "47   United States               Alabama      5          4                 4   \n",
      "44   United States              Missouri      6          5                 3   \n",
      "43   United States               Arizona      6          6                 2   \n",
      "41   United States           Mississippi      7          4                 3   \n",
      "36   United States             Louisiana      8          8                 7   \n",
      "35   United States                Kansas      8          8                 0   \n",
      "32   United States                  Ohio      9          6                 5   \n",
      "31   United States              Michigan      9          9                 7   \n",
      "23   United States             Minnesota     13         13                11   \n",
      "22   United States               Georgia     13         11                 8   \n",
      "21   United States                Oregon     14         14                 7   \n",
      "20   United States            New Jersey     14         12                11   \n",
      "18   United States              Illinois     16         15                11   \n",
      "17   United States              Colorado     16         12                10   \n",
      "16   United States          Pennsylvania     17         17                16   \n",
      "13   United States  District of Columbia     36         32                29   \n",
      "12   United States        South Carolina     40         36                25   \n",
      "11   United States        North Carolina     44         36                35   \n",
      "10   United States              New York     51         47                23   \n",
      "9    United States         Massachusetts     52         49                35   \n",
      "8    United States                Hawaii     77         75                53   \n",
      "7    United States            California    120        113                59   \n",
      "6    United States                  Iowa    125        119                22   \n",
      "5    United States                 Texas    138        132                31   \n",
      "4    United States              Maryland    145        126               114   \n",
      "3    United States               Florida    151        144                88   \n",
      "2    United States              Virginia    186        181                36   \n",
      "1    United States               Wyoming    207        204                18   \n",
      "0    United States            Washington    209        201                30   \n",
      "\n",
      "     Engagement rate  Engaged sessions per user  Average engagement time  \\\n",
      "191         1.000000                   1.000000                16.000000   \n",
      "190         0.000000                   0.000000                 0.000000   \n",
      "189         0.000000                   0.000000                 0.000000   \n",
      "101         0.000000                   0.000000                 0.000000   \n",
      "100         0.000000                   0.000000                 0.000000   \n",
      "99          1.000000                   1.000000                14.500000   \n",
      "98          0.333333                   0.500000                 0.500000   \n",
      "97          0.600000                   1.500000                60.000000   \n",
      "96          1.000000                   1.000000                 3.000000   \n",
      "66          1.000000                   1.000000                55.333333   \n",
      "68          0.400000                   0.666667                17.000000   \n",
      "67          0.250000                   0.333333                 0.000000   \n",
      "57          0.200000                   0.250000                 3.000000   \n",
      "56          0.400000                   0.500000                 7.000000   \n",
      "55          0.600000                   0.750000                15.500000   \n",
      "54          0.400000                   0.500000                 4.000000   \n",
      "58          0.166667                   0.250000                 1.250000   \n",
      "49          0.000000                   0.000000                 0.000000   \n",
      "48          0.142857                   0.200000                12.800000   \n",
      "47          0.571429                   0.800000                10.800000   \n",
      "44          0.500000                   0.500000                10.666667   \n",
      "43          0.222222                   0.333333                12.833333   \n",
      "41          0.333333                   0.428571                11.428571   \n",
      "36          0.636364                   0.875000                20.625000   \n",
      "35          0.000000                   0.000000                 0.000000   \n",
      "32          0.333333                   0.555556                17.000000   \n",
      "31          0.583333                   0.777778                19.000000   \n",
      "23          0.523810                   0.846154                26.538462   \n",
      "22          0.421053                   0.615385                43.846154   \n",
      "21          0.388889                   0.500000                11.500000   \n",
      "20          0.611111                   0.785714                18.857143   \n",
      "18          0.611111                   0.687500                20.250000   \n",
      "17          0.500000                   0.625000                26.125000   \n",
      "16          0.484848                   0.941176                35.352941   \n",
      "13          0.491525                   0.805556                32.777778   \n",
      "12          0.423729                   0.625000                29.600000   \n",
      "11          0.514706                   0.795455                30.636364   \n",
      "10          0.328571                   0.450980                10.843137   \n",
      "9           0.522388                   0.673077                29.961538   \n",
      "8           0.410853                   0.688312                30.389610   \n",
      "7           0.398649                   0.491667                23.891667   \n",
      "6           0.176000                   0.176000                 4.472000   \n",
      "5           0.216783                   0.224638                 8.181159   \n",
      "4           0.476987                   0.786207                40.855172   \n",
      "3           0.405530                   0.582781                38.947020   \n",
      "2           0.180000                   0.193548                 4.204301   \n",
      "1           0.086538                   0.086957                 2.555556   \n",
      "0           0.129310                   0.143541                 5.023923   \n",
      "\n",
      "     Event count  \n",
      "191            5  \n",
      "190            4  \n",
      "189            4  \n",
      "101            6  \n",
      "100           10  \n",
      "99            11  \n",
      "98            11  \n",
      "97            28  \n",
      "96            12  \n",
      "66            19  \n",
      "68            22  \n",
      "67            11  \n",
      "57            19  \n",
      "56            23  \n",
      "55            27  \n",
      "54            20  \n",
      "58            20  \n",
      "49            19  \n",
      "48            31  \n",
      "47            30  \n",
      "44            31  \n",
      "43            34  \n",
      "41            33  \n",
      "36            52  \n",
      "35            31  \n",
      "32            75  \n",
      "31            54  \n",
      "23           122  \n",
      "22            93  \n",
      "21            83  \n",
      "20            91  \n",
      "18            89  \n",
      "17           107  \n",
      "16           211  \n",
      "13           267  \n",
      "12           287  \n",
      "11           327  \n",
      "10           296  \n",
      "9            333  \n",
      "8            602  \n",
      "7            673  \n",
      "6            468  \n",
      "5            549  \n",
      "4           1186  \n",
      "3           1001  \n",
      "2            867  \n",
      "1            758  \n",
      "0            910  \n"
     ]
    }
   ],
   "source": [
    "\n",
    "stateDict = {\n",
    "    \"Alabama\": \"AL\",\n",
    "    \"Alaska\": \"AK\",\n",
    "    \"Arizona\": \"AZ\",\n",
    "    \"Arkansas\": \"AR\",\n",
    "    \"California\": \"CA\",\n",
    "    \"Colorado\": \"CO\",\n",
    "    \"Connecticut\": \"CT\",\n",
    "    \"Delaware\": \"DE\",\n",
    "    \"Florida\": \"FL\",\n",
    "    \"Georgia\": \"GA\",\n",
    "    \"Hawaii\": \"HI\",\n",
    "    \"Idaho\": \"ID\",\n",
    "    \"Illinois\": \"IL\",\n",
    "    \"Indiana\": \"IN\",\n",
    "    \"Iowa\": \"IA\",\n",
    "    \"Kansas\": \"KS\",\n",
    "    \"Kentucky\": \"KY\",\n",
    "    \"Louisiana\": \"LA\",\n",
    "    \"Maine\": \"ME\",\n",
    "    \"Maryland\": \"MD\",\n",
    "    \"Massachusetts\": \"MA\",\n",
    "    \"Michigan\": \"MI\",\n",
    "    \"Minnesota\": \"MN\",\n",
    "    \"Mississippi\": \"MS\",\n",
    "    \"Missouri\": \"MO\",\n",
    "    \"Montana\": \"MT\",\n",
    "    \"Nebraska\": \"NE\",\n",
    "    \"Nevada\": \"NV\",\n",
    "    \"New Hampshire\": \"NH\",\n",
    "    \"New Jersey\": \"NJ\",\n",
    "    \"New Mexico\": \"NM\",\n",
    "    \"New York\": \"NY\",\n",
    "    \"North Carolina\": \"NC\",\n",
    "    \"North Dakota\": \"ND\",\n",
    "    \"Ohio\": \"OH\",\n",
    "    \"Oklahoma\": \"OK\",\n",
    "    \"Oregon\": \"OR\",\n",
    "    \"Pennsylvania\": \"PA\",\n",
    "    \"Rhode Island\": \"RI\",\n",
    "    \"South Carolina\": \"SC\",\n",
    "    \"South Dakota\": \"SD\",\n",
    "    \"Tennessee\": \"TN\",\n",
    "    \"Texas\": \"TX\",\n",
    "    \"Utah\": \"UT\",\n",
    "    \"Vermont\": \"VT\",\n",
    "    \"Virginia\": \"VA\",\n",
    "    \"Washington\": \"WA\",\n",
    "    \"West Virginia\": \"WV\",\n",
    "    \"Wisconsin\": \"WI\",\n",
    "    \"Wyoming\": \"WY\",\n",
    "    \"District of Columbia\": \"DC\",\n",
    "    \"American Samoa\": \"AS\",\n",
    "    \"Guam\": \"GU\",\n",
    "    \"Northern Mariana Islands\": \"MP\",\n",
    "    \"Puerto Rico\": \"PR\",\n",
    "    \"United States Minor Outlying Islands\": \"UM\",\n",
    "    \"U.S. Virgin Islands\": \"VI\",\n",
    "}\n",
    "\n",
    "df = df[df.Region != '(not set)']\n",
    "print(df)\n",
    "\n",
    "stateList = []\n",
    "regionList = df['Region'].tolist()\n",
    "for region in regionList:\n",
    "    calculatedState = stateDict[region]\n",
    "    stateList.append(calculatedState)\n",
    "countList = df['Users'].tolist()\n",
    "#print(countList)"
   ]
  },
  {
   "cell_type": "markdown",
   "metadata": {},
   "source": [
    "4. Build a US map of total users per state"
   ]
  },
  {
   "cell_type": "code",
   "execution_count": 17,
   "metadata": {},
   "outputs": [
    {
     "data": {
      "application/vnd.plotly.v1+json": {
       "config": {
        "plotlyServerURL": "https://plot.ly"
       },
       "data": [
        {
         "coloraxis": "coloraxis",
         "customdata": [
          [
           209,
           30,
           0.129310345,
           5.023923445
          ],
          [
           207,
           18,
           0.086538462,
           2.555555556
          ],
          [
           186,
           36,
           0.18,
           4.204301075
          ],
          [
           151,
           88,
           0.405529954,
           38.94701987
          ],
          [
           145,
           114,
           0.476987448,
           40.85517241
          ],
          [
           138,
           31,
           0.216783217,
           8.18115942
          ],
          [
           125,
           22,
           0.176,
           4.472
          ],
          [
           120,
           59,
           0.398648649,
           23.89166667
          ],
          [
           77,
           53,
           0.410852713,
           30.38961039
          ],
          [
           52,
           35,
           0.52238806,
           29.96153846
          ],
          [
           51,
           23,
           0.328571429,
           10.84313725
          ],
          [
           44,
           35,
           0.514705882,
           30.63636364
          ],
          [
           40,
           25,
           0.423728814,
           29.6
          ],
          [
           36,
           29,
           0.491525424,
           32.77777778
          ],
          [
           17,
           16,
           0.484848485,
           35.35294118
          ],
          [
           16,
           10,
           0.5,
           26.125
          ],
          [
           16,
           11,
           0.611111111,
           20.25
          ],
          [
           14,
           11,
           0.611111111,
           18.85714286
          ],
          [
           14,
           7,
           0.388888889,
           11.5
          ],
          [
           13,
           8,
           0.421052632,
           43.84615385
          ],
          [
           13,
           11,
           0.523809524,
           26.53846154
          ],
          [
           9,
           7,
           0.583333333,
           19
          ],
          [
           9,
           5,
           0.333333333,
           17
          ],
          [
           8,
           0,
           0,
           0
          ],
          [
           8,
           7,
           0.636363636,
           20.625
          ],
          [
           7,
           3,
           0.333333333,
           11.42857143
          ],
          [
           6,
           2,
           0.222222222,
           12.83333333
          ],
          [
           6,
           3,
           0.5,
           10.66666667
          ],
          [
           5,
           4,
           0.571428571,
           10.8
          ],
          [
           5,
           1,
           0.142857143,
           12.8
          ],
          [
           5,
           0,
           0,
           0
          ],
          [
           4,
           2,
           0.4,
           4
          ],
          [
           4,
           3,
           0.6,
           15.5
          ],
          [
           4,
           2,
           0.4,
           7
          ],
          [
           4,
           1,
           0.2,
           3
          ],
          [
           4,
           1,
           0.166666667,
           1.25
          ],
          [
           3,
           3,
           1,
           55.33333333
          ],
          [
           3,
           1,
           0.25,
           0
          ],
          [
           3,
           2,
           0.4,
           17
          ],
          [
           2,
           2,
           1,
           3
          ],
          [
           2,
           3,
           0.6,
           60
          ],
          [
           2,
           1,
           0.333333333,
           0.5
          ],
          [
           2,
           2,
           1,
           14.5
          ],
          [
           2,
           0,
           0,
           0
          ],
          [
           2,
           0,
           0,
           0
          ],
          [
           1,
           0,
           0,
           0
          ],
          [
           1,
           0,
           0,
           0
          ],
          [
           1,
           1,
           1,
           16
          ]
         ],
         "geo": "geo",
         "hovertemplate": "locations=%{location}<br>Users=%{z}<br>Engaged sessions=%{customdata[1]}<br>Engagement rate=%{customdata[2]}<br>Average engagement time=%{customdata[3]}<extra></extra>",
         "locationmode": "USA-states",
         "locations": [
          "WA",
          "WY",
          "VA",
          "FL",
          "MD",
          "TX",
          "IA",
          "CA",
          "HI",
          "MA",
          "NY",
          "NC",
          "SC",
          "DC",
          "PA",
          "CO",
          "IL",
          "NJ",
          "OR",
          "GA",
          "MN",
          "MI",
          "OH",
          "KS",
          "LA",
          "MS",
          "AZ",
          "MO",
          "AL",
          "KY",
          "WI",
          "CT",
          "DE",
          "IN",
          "NH",
          "TN",
          "ME",
          "OK",
          "RI",
          "AR",
          "ID",
          "MT",
          "NV",
          "NM",
          "WV",
          "AK",
          "NE",
          "VT"
         ],
         "name": "",
         "type": "choropleth",
         "z": [
          209,
          207,
          186,
          151,
          145,
          138,
          125,
          120,
          77,
          52,
          51,
          44,
          40,
          36,
          17,
          16,
          16,
          14,
          14,
          13,
          13,
          9,
          9,
          8,
          8,
          7,
          6,
          6,
          5,
          5,
          5,
          4,
          4,
          4,
          4,
          4,
          3,
          3,
          3,
          2,
          2,
          2,
          2,
          2,
          2,
          1,
          1,
          1
         ]
        }
       ],
       "layout": {
        "coloraxis": {
         "colorbar": {
          "title": {
           "text": "Users"
          }
         },
         "colorscale": [
          [
           0,
           "#0d0887"
          ],
          [
           0.1111111111111111,
           "#46039f"
          ],
          [
           0.2222222222222222,
           "#7201a8"
          ],
          [
           0.3333333333333333,
           "#9c179e"
          ],
          [
           0.4444444444444444,
           "#bd3786"
          ],
          [
           0.5555555555555556,
           "#d8576b"
          ],
          [
           0.6666666666666666,
           "#ed7953"
          ],
          [
           0.7777777777777778,
           "#fb9f3a"
          ],
          [
           0.8888888888888888,
           "#fdca26"
          ],
          [
           1,
           "#f0f921"
          ]
         ]
        },
        "geo": {
         "center": {},
         "domain": {
          "x": [
           0,
           1
          ],
          "y": [
           0,
           1
          ]
         },
         "scope": "usa"
        },
        "legend": {
         "tracegroupgap": 0
        },
        "margin": {
         "t": 60
        },
        "template": {
         "data": {
          "bar": [
           {
            "error_x": {
             "color": "#2a3f5f"
            },
            "error_y": {
             "color": "#2a3f5f"
            },
            "marker": {
             "line": {
              "color": "#E5ECF6",
              "width": 0.5
             },
             "pattern": {
              "fillmode": "overlay",
              "size": 10,
              "solidity": 0.2
             }
            },
            "type": "bar"
           }
          ],
          "barpolar": [
           {
            "marker": {
             "line": {
              "color": "#E5ECF6",
              "width": 0.5
             },
             "pattern": {
              "fillmode": "overlay",
              "size": 10,
              "solidity": 0.2
             }
            },
            "type": "barpolar"
           }
          ],
          "carpet": [
           {
            "aaxis": {
             "endlinecolor": "#2a3f5f",
             "gridcolor": "white",
             "linecolor": "white",
             "minorgridcolor": "white",
             "startlinecolor": "#2a3f5f"
            },
            "baxis": {
             "endlinecolor": "#2a3f5f",
             "gridcolor": "white",
             "linecolor": "white",
             "minorgridcolor": "white",
             "startlinecolor": "#2a3f5f"
            },
            "type": "carpet"
           }
          ],
          "choropleth": [
           {
            "colorbar": {
             "outlinewidth": 0,
             "ticks": ""
            },
            "type": "choropleth"
           }
          ],
          "contour": [
           {
            "colorbar": {
             "outlinewidth": 0,
             "ticks": ""
            },
            "colorscale": [
             [
              0,
              "#0d0887"
             ],
             [
              0.1111111111111111,
              "#46039f"
             ],
             [
              0.2222222222222222,
              "#7201a8"
             ],
             [
              0.3333333333333333,
              "#9c179e"
             ],
             [
              0.4444444444444444,
              "#bd3786"
             ],
             [
              0.5555555555555556,
              "#d8576b"
             ],
             [
              0.6666666666666666,
              "#ed7953"
             ],
             [
              0.7777777777777778,
              "#fb9f3a"
             ],
             [
              0.8888888888888888,
              "#fdca26"
             ],
             [
              1,
              "#f0f921"
             ]
            ],
            "type": "contour"
           }
          ],
          "contourcarpet": [
           {
            "colorbar": {
             "outlinewidth": 0,
             "ticks": ""
            },
            "type": "contourcarpet"
           }
          ],
          "heatmap": [
           {
            "colorbar": {
             "outlinewidth": 0,
             "ticks": ""
            },
            "colorscale": [
             [
              0,
              "#0d0887"
             ],
             [
              0.1111111111111111,
              "#46039f"
             ],
             [
              0.2222222222222222,
              "#7201a8"
             ],
             [
              0.3333333333333333,
              "#9c179e"
             ],
             [
              0.4444444444444444,
              "#bd3786"
             ],
             [
              0.5555555555555556,
              "#d8576b"
             ],
             [
              0.6666666666666666,
              "#ed7953"
             ],
             [
              0.7777777777777778,
              "#fb9f3a"
             ],
             [
              0.8888888888888888,
              "#fdca26"
             ],
             [
              1,
              "#f0f921"
             ]
            ],
            "type": "heatmap"
           }
          ],
          "heatmapgl": [
           {
            "colorbar": {
             "outlinewidth": 0,
             "ticks": ""
            },
            "colorscale": [
             [
              0,
              "#0d0887"
             ],
             [
              0.1111111111111111,
              "#46039f"
             ],
             [
              0.2222222222222222,
              "#7201a8"
             ],
             [
              0.3333333333333333,
              "#9c179e"
             ],
             [
              0.4444444444444444,
              "#bd3786"
             ],
             [
              0.5555555555555556,
              "#d8576b"
             ],
             [
              0.6666666666666666,
              "#ed7953"
             ],
             [
              0.7777777777777778,
              "#fb9f3a"
             ],
             [
              0.8888888888888888,
              "#fdca26"
             ],
             [
              1,
              "#f0f921"
             ]
            ],
            "type": "heatmapgl"
           }
          ],
          "histogram": [
           {
            "marker": {
             "pattern": {
              "fillmode": "overlay",
              "size": 10,
              "solidity": 0.2
             }
            },
            "type": "histogram"
           }
          ],
          "histogram2d": [
           {
            "colorbar": {
             "outlinewidth": 0,
             "ticks": ""
            },
            "colorscale": [
             [
              0,
              "#0d0887"
             ],
             [
              0.1111111111111111,
              "#46039f"
             ],
             [
              0.2222222222222222,
              "#7201a8"
             ],
             [
              0.3333333333333333,
              "#9c179e"
             ],
             [
              0.4444444444444444,
              "#bd3786"
             ],
             [
              0.5555555555555556,
              "#d8576b"
             ],
             [
              0.6666666666666666,
              "#ed7953"
             ],
             [
              0.7777777777777778,
              "#fb9f3a"
             ],
             [
              0.8888888888888888,
              "#fdca26"
             ],
             [
              1,
              "#f0f921"
             ]
            ],
            "type": "histogram2d"
           }
          ],
          "histogram2dcontour": [
           {
            "colorbar": {
             "outlinewidth": 0,
             "ticks": ""
            },
            "colorscale": [
             [
              0,
              "#0d0887"
             ],
             [
              0.1111111111111111,
              "#46039f"
             ],
             [
              0.2222222222222222,
              "#7201a8"
             ],
             [
              0.3333333333333333,
              "#9c179e"
             ],
             [
              0.4444444444444444,
              "#bd3786"
             ],
             [
              0.5555555555555556,
              "#d8576b"
             ],
             [
              0.6666666666666666,
              "#ed7953"
             ],
             [
              0.7777777777777778,
              "#fb9f3a"
             ],
             [
              0.8888888888888888,
              "#fdca26"
             ],
             [
              1,
              "#f0f921"
             ]
            ],
            "type": "histogram2dcontour"
           }
          ],
          "mesh3d": [
           {
            "colorbar": {
             "outlinewidth": 0,
             "ticks": ""
            },
            "type": "mesh3d"
           }
          ],
          "parcoords": [
           {
            "line": {
             "colorbar": {
              "outlinewidth": 0,
              "ticks": ""
             }
            },
            "type": "parcoords"
           }
          ],
          "pie": [
           {
            "automargin": true,
            "type": "pie"
           }
          ],
          "scatter": [
           {
            "fillpattern": {
             "fillmode": "overlay",
             "size": 10,
             "solidity": 0.2
            },
            "type": "scatter"
           }
          ],
          "scatter3d": [
           {
            "line": {
             "colorbar": {
              "outlinewidth": 0,
              "ticks": ""
             }
            },
            "marker": {
             "colorbar": {
              "outlinewidth": 0,
              "ticks": ""
             }
            },
            "type": "scatter3d"
           }
          ],
          "scattercarpet": [
           {
            "marker": {
             "colorbar": {
              "outlinewidth": 0,
              "ticks": ""
             }
            },
            "type": "scattercarpet"
           }
          ],
          "scattergeo": [
           {
            "marker": {
             "colorbar": {
              "outlinewidth": 0,
              "ticks": ""
             }
            },
            "type": "scattergeo"
           }
          ],
          "scattergl": [
           {
            "marker": {
             "colorbar": {
              "outlinewidth": 0,
              "ticks": ""
             }
            },
            "type": "scattergl"
           }
          ],
          "scattermapbox": [
           {
            "marker": {
             "colorbar": {
              "outlinewidth": 0,
              "ticks": ""
             }
            },
            "type": "scattermapbox"
           }
          ],
          "scatterpolar": [
           {
            "marker": {
             "colorbar": {
              "outlinewidth": 0,
              "ticks": ""
             }
            },
            "type": "scatterpolar"
           }
          ],
          "scatterpolargl": [
           {
            "marker": {
             "colorbar": {
              "outlinewidth": 0,
              "ticks": ""
             }
            },
            "type": "scatterpolargl"
           }
          ],
          "scatterternary": [
           {
            "marker": {
             "colorbar": {
              "outlinewidth": 0,
              "ticks": ""
             }
            },
            "type": "scatterternary"
           }
          ],
          "surface": [
           {
            "colorbar": {
             "outlinewidth": 0,
             "ticks": ""
            },
            "colorscale": [
             [
              0,
              "#0d0887"
             ],
             [
              0.1111111111111111,
              "#46039f"
             ],
             [
              0.2222222222222222,
              "#7201a8"
             ],
             [
              0.3333333333333333,
              "#9c179e"
             ],
             [
              0.4444444444444444,
              "#bd3786"
             ],
             [
              0.5555555555555556,
              "#d8576b"
             ],
             [
              0.6666666666666666,
              "#ed7953"
             ],
             [
              0.7777777777777778,
              "#fb9f3a"
             ],
             [
              0.8888888888888888,
              "#fdca26"
             ],
             [
              1,
              "#f0f921"
             ]
            ],
            "type": "surface"
           }
          ],
          "table": [
           {
            "cells": {
             "fill": {
              "color": "#EBF0F8"
             },
             "line": {
              "color": "white"
             }
            },
            "header": {
             "fill": {
              "color": "#C8D4E3"
             },
             "line": {
              "color": "white"
             }
            },
            "type": "table"
           }
          ]
         },
         "layout": {
          "annotationdefaults": {
           "arrowcolor": "#2a3f5f",
           "arrowhead": 0,
           "arrowwidth": 1
          },
          "autotypenumbers": "strict",
          "coloraxis": {
           "colorbar": {
            "outlinewidth": 0,
            "ticks": ""
           }
          },
          "colorscale": {
           "diverging": [
            [
             0,
             "#8e0152"
            ],
            [
             0.1,
             "#c51b7d"
            ],
            [
             0.2,
             "#de77ae"
            ],
            [
             0.3,
             "#f1b6da"
            ],
            [
             0.4,
             "#fde0ef"
            ],
            [
             0.5,
             "#f7f7f7"
            ],
            [
             0.6,
             "#e6f5d0"
            ],
            [
             0.7,
             "#b8e186"
            ],
            [
             0.8,
             "#7fbc41"
            ],
            [
             0.9,
             "#4d9221"
            ],
            [
             1,
             "#276419"
            ]
           ],
           "sequential": [
            [
             0,
             "#0d0887"
            ],
            [
             0.1111111111111111,
             "#46039f"
            ],
            [
             0.2222222222222222,
             "#7201a8"
            ],
            [
             0.3333333333333333,
             "#9c179e"
            ],
            [
             0.4444444444444444,
             "#bd3786"
            ],
            [
             0.5555555555555556,
             "#d8576b"
            ],
            [
             0.6666666666666666,
             "#ed7953"
            ],
            [
             0.7777777777777778,
             "#fb9f3a"
            ],
            [
             0.8888888888888888,
             "#fdca26"
            ],
            [
             1,
             "#f0f921"
            ]
           ],
           "sequentialminus": [
            [
             0,
             "#0d0887"
            ],
            [
             0.1111111111111111,
             "#46039f"
            ],
            [
             0.2222222222222222,
             "#7201a8"
            ],
            [
             0.3333333333333333,
             "#9c179e"
            ],
            [
             0.4444444444444444,
             "#bd3786"
            ],
            [
             0.5555555555555556,
             "#d8576b"
            ],
            [
             0.6666666666666666,
             "#ed7953"
            ],
            [
             0.7777777777777778,
             "#fb9f3a"
            ],
            [
             0.8888888888888888,
             "#fdca26"
            ],
            [
             1,
             "#f0f921"
            ]
           ]
          },
          "colorway": [
           "#636efa",
           "#EF553B",
           "#00cc96",
           "#ab63fa",
           "#FFA15A",
           "#19d3f3",
           "#FF6692",
           "#B6E880",
           "#FF97FF",
           "#FECB52"
          ],
          "font": {
           "color": "#2a3f5f"
          },
          "geo": {
           "bgcolor": "white",
           "lakecolor": "white",
           "landcolor": "#E5ECF6",
           "showlakes": true,
           "showland": true,
           "subunitcolor": "white"
          },
          "hoverlabel": {
           "align": "left"
          },
          "hovermode": "closest",
          "mapbox": {
           "style": "light"
          },
          "paper_bgcolor": "white",
          "plot_bgcolor": "#E5ECF6",
          "polar": {
           "angularaxis": {
            "gridcolor": "white",
            "linecolor": "white",
            "ticks": ""
           },
           "bgcolor": "#E5ECF6",
           "radialaxis": {
            "gridcolor": "white",
            "linecolor": "white",
            "ticks": ""
           }
          },
          "scene": {
           "xaxis": {
            "backgroundcolor": "#E5ECF6",
            "gridcolor": "white",
            "gridwidth": 2,
            "linecolor": "white",
            "showbackground": true,
            "ticks": "",
            "zerolinecolor": "white"
           },
           "yaxis": {
            "backgroundcolor": "#E5ECF6",
            "gridcolor": "white",
            "gridwidth": 2,
            "linecolor": "white",
            "showbackground": true,
            "ticks": "",
            "zerolinecolor": "white"
           },
           "zaxis": {
            "backgroundcolor": "#E5ECF6",
            "gridcolor": "white",
            "gridwidth": 2,
            "linecolor": "white",
            "showbackground": true,
            "ticks": "",
            "zerolinecolor": "white"
           }
          },
          "shapedefaults": {
           "line": {
            "color": "#2a3f5f"
           }
          },
          "ternary": {
           "aaxis": {
            "gridcolor": "white",
            "linecolor": "white",
            "ticks": ""
           },
           "baxis": {
            "gridcolor": "white",
            "linecolor": "white",
            "ticks": ""
           },
           "bgcolor": "#E5ECF6",
           "caxis": {
            "gridcolor": "white",
            "linecolor": "white",
            "ticks": ""
           }
          },
          "title": {
           "x": 0.05
          },
          "xaxis": {
           "automargin": true,
           "gridcolor": "white",
           "linecolor": "white",
           "ticks": "",
           "title": {
            "standoff": 15
           },
           "zerolinecolor": "white",
           "zerolinewidth": 2
          },
          "yaxis": {
           "automargin": true,
           "gridcolor": "white",
           "linecolor": "white",
           "ticks": "",
           "title": {
            "standoff": 15
           },
           "zerolinecolor": "white",
           "zerolinewidth": 2
          }
         }
        }
       }
      }
     },
     "metadata": {},
     "output_type": "display_data"
    }
   ],
   "source": [
    "fig = px.choropleth(df, locations=stateList, locationmode=\"USA-states\", hover_data=['Users','Engaged sessions','Engagement rate','Average engagement time'], color=df['Users'], scope=\"usa\")\n",
    "\n",
    "fig.show()"
   ]
  },
  {
   "cell_type": "markdown",
   "metadata": {},
   "source": [
    "5. Build map of total engaged sessions per state"
   ]
  },
  {
   "cell_type": "code",
   "execution_count": 43,
   "metadata": {},
   "outputs": [
    {
     "data": {
      "application/vnd.plotly.v1+json": {
       "config": {
        "plotlyServerURL": "https://plot.ly"
       },
       "data": [
        {
         "coloraxis": "coloraxis",
         "customdata": [
          [
           209,
           30,
           0.129310345,
           5.023923445
          ],
          [
           207,
           18,
           0.086538462,
           2.555555556
          ],
          [
           186,
           36,
           0.18,
           4.204301075
          ],
          [
           151,
           88,
           0.405529954,
           38.94701987
          ],
          [
           145,
           114,
           0.476987448,
           40.85517241
          ],
          [
           138,
           31,
           0.216783217,
           8.18115942
          ],
          [
           125,
           22,
           0.176,
           4.472
          ],
          [
           120,
           59,
           0.398648649,
           23.89166667
          ],
          [
           77,
           53,
           0.410852713,
           30.38961039
          ],
          [
           52,
           35,
           0.52238806,
           29.96153846
          ],
          [
           51,
           23,
           0.328571429,
           10.84313725
          ],
          [
           44,
           35,
           0.514705882,
           30.63636364
          ],
          [
           40,
           25,
           0.423728814,
           29.6
          ],
          [
           36,
           29,
           0.491525424,
           32.77777778
          ],
          [
           17,
           16,
           0.484848485,
           35.35294118
          ],
          [
           16,
           10,
           0.5,
           26.125
          ],
          [
           16,
           11,
           0.611111111,
           20.25
          ],
          [
           14,
           11,
           0.611111111,
           18.85714286
          ],
          [
           14,
           7,
           0.388888889,
           11.5
          ],
          [
           13,
           8,
           0.421052632,
           43.84615385
          ],
          [
           13,
           11,
           0.523809524,
           26.53846154
          ],
          [
           9,
           7,
           0.583333333,
           19
          ],
          [
           9,
           5,
           0.333333333,
           17
          ],
          [
           8,
           0,
           0,
           0
          ],
          [
           8,
           7,
           0.636363636,
           20.625
          ],
          [
           7,
           3,
           0.333333333,
           11.42857143
          ],
          [
           6,
           2,
           0.222222222,
           12.83333333
          ],
          [
           6,
           3,
           0.5,
           10.66666667
          ],
          [
           5,
           4,
           0.571428571,
           10.8
          ],
          [
           5,
           1,
           0.142857143,
           12.8
          ],
          [
           5,
           0,
           0,
           0
          ],
          [
           4,
           2,
           0.4,
           4
          ],
          [
           4,
           3,
           0.6,
           15.5
          ],
          [
           4,
           2,
           0.4,
           7
          ],
          [
           4,
           1,
           0.2,
           3
          ],
          [
           4,
           1,
           0.166666667,
           1.25
          ],
          [
           3,
           3,
           1,
           55.33333333
          ],
          [
           3,
           1,
           0.25,
           0
          ],
          [
           3,
           2,
           0.4,
           17
          ],
          [
           2,
           2,
           1,
           3
          ],
          [
           2,
           3,
           0.6,
           60
          ],
          [
           2,
           1,
           0.333333333,
           0.5
          ],
          [
           2,
           2,
           1,
           14.5
          ],
          [
           2,
           0,
           0,
           0
          ],
          [
           2,
           0,
           0,
           0
          ],
          [
           1,
           0,
           0,
           0
          ],
          [
           1,
           0,
           0,
           0
          ],
          [
           1,
           1,
           1,
           16
          ]
         ],
         "geo": "geo",
         "hovertemplate": "locations=%{location}<br>Users=%{customdata[0]}<br>Engaged sessions=%{z}<br>Engagement rate=%{customdata[2]}<br>Average engagement time=%{customdata[3]}<extra></extra>",
         "locationmode": "USA-states",
         "locations": [
          "WA",
          "WY",
          "VA",
          "FL",
          "MD",
          "TX",
          "IA",
          "CA",
          "HI",
          "MA",
          "NY",
          "NC",
          "SC",
          "DC",
          "PA",
          "CO",
          "IL",
          "NJ",
          "OR",
          "GA",
          "MN",
          "MI",
          "OH",
          "KS",
          "LA",
          "MS",
          "AZ",
          "MO",
          "AL",
          "KY",
          "WI",
          "CT",
          "DE",
          "IN",
          "NH",
          "TN",
          "ME",
          "OK",
          "RI",
          "AR",
          "ID",
          "MT",
          "NV",
          "NM",
          "WV",
          "AK",
          "NE",
          "VT"
         ],
         "name": "",
         "type": "choropleth",
         "z": [
          30,
          18,
          36,
          88,
          114,
          31,
          22,
          59,
          53,
          35,
          23,
          35,
          25,
          29,
          16,
          10,
          11,
          11,
          7,
          8,
          11,
          7,
          5,
          0,
          7,
          3,
          2,
          3,
          4,
          1,
          0,
          2,
          3,
          2,
          1,
          1,
          3,
          1,
          2,
          2,
          3,
          1,
          2,
          0,
          0,
          0,
          0,
          1
         ]
        }
       ],
       "layout": {
        "coloraxis": {
         "colorbar": {
          "title": {
           "text": "Engaged sessions"
          }
         },
         "colorscale": [
          [
           0,
           "#0d0887"
          ],
          [
           0.1111111111111111,
           "#46039f"
          ],
          [
           0.2222222222222222,
           "#7201a8"
          ],
          [
           0.3333333333333333,
           "#9c179e"
          ],
          [
           0.4444444444444444,
           "#bd3786"
          ],
          [
           0.5555555555555556,
           "#d8576b"
          ],
          [
           0.6666666666666666,
           "#ed7953"
          ],
          [
           0.7777777777777778,
           "#fb9f3a"
          ],
          [
           0.8888888888888888,
           "#fdca26"
          ],
          [
           1,
           "#f0f921"
          ]
         ]
        },
        "geo": {
         "center": {},
         "domain": {
          "x": [
           0,
           1
          ],
          "y": [
           0,
           1
          ]
         },
         "scope": "usa"
        },
        "legend": {
         "tracegroupgap": 0
        },
        "mapbox": {
         "layers": [
          {
           "below": "traces",
           "source": [
            "https://basemap.nationalmap.gov/arcgis/rest/services/USGSImageryOnly/MapServer/tile/{z}/{y}/{x}"
           ],
           "sourceattribution": "United States Geological Survey",
           "sourcetype": "raster"
          }
         ],
         "style": "white-bg"
        },
        "margin": {
         "t": 60
        },
        "template": {
         "data": {
          "bar": [
           {
            "error_x": {
             "color": "#2a3f5f"
            },
            "error_y": {
             "color": "#2a3f5f"
            },
            "marker": {
             "line": {
              "color": "#E5ECF6",
              "width": 0.5
             },
             "pattern": {
              "fillmode": "overlay",
              "size": 10,
              "solidity": 0.2
             }
            },
            "type": "bar"
           }
          ],
          "barpolar": [
           {
            "marker": {
             "line": {
              "color": "#E5ECF6",
              "width": 0.5
             },
             "pattern": {
              "fillmode": "overlay",
              "size": 10,
              "solidity": 0.2
             }
            },
            "type": "barpolar"
           }
          ],
          "carpet": [
           {
            "aaxis": {
             "endlinecolor": "#2a3f5f",
             "gridcolor": "white",
             "linecolor": "white",
             "minorgridcolor": "white",
             "startlinecolor": "#2a3f5f"
            },
            "baxis": {
             "endlinecolor": "#2a3f5f",
             "gridcolor": "white",
             "linecolor": "white",
             "minorgridcolor": "white",
             "startlinecolor": "#2a3f5f"
            },
            "type": "carpet"
           }
          ],
          "choropleth": [
           {
            "colorbar": {
             "outlinewidth": 0,
             "ticks": ""
            },
            "type": "choropleth"
           }
          ],
          "contour": [
           {
            "colorbar": {
             "outlinewidth": 0,
             "ticks": ""
            },
            "colorscale": [
             [
              0,
              "#0d0887"
             ],
             [
              0.1111111111111111,
              "#46039f"
             ],
             [
              0.2222222222222222,
              "#7201a8"
             ],
             [
              0.3333333333333333,
              "#9c179e"
             ],
             [
              0.4444444444444444,
              "#bd3786"
             ],
             [
              0.5555555555555556,
              "#d8576b"
             ],
             [
              0.6666666666666666,
              "#ed7953"
             ],
             [
              0.7777777777777778,
              "#fb9f3a"
             ],
             [
              0.8888888888888888,
              "#fdca26"
             ],
             [
              1,
              "#f0f921"
             ]
            ],
            "type": "contour"
           }
          ],
          "contourcarpet": [
           {
            "colorbar": {
             "outlinewidth": 0,
             "ticks": ""
            },
            "type": "contourcarpet"
           }
          ],
          "heatmap": [
           {
            "colorbar": {
             "outlinewidth": 0,
             "ticks": ""
            },
            "colorscale": [
             [
              0,
              "#0d0887"
             ],
             [
              0.1111111111111111,
              "#46039f"
             ],
             [
              0.2222222222222222,
              "#7201a8"
             ],
             [
              0.3333333333333333,
              "#9c179e"
             ],
             [
              0.4444444444444444,
              "#bd3786"
             ],
             [
              0.5555555555555556,
              "#d8576b"
             ],
             [
              0.6666666666666666,
              "#ed7953"
             ],
             [
              0.7777777777777778,
              "#fb9f3a"
             ],
             [
              0.8888888888888888,
              "#fdca26"
             ],
             [
              1,
              "#f0f921"
             ]
            ],
            "type": "heatmap"
           }
          ],
          "heatmapgl": [
           {
            "colorbar": {
             "outlinewidth": 0,
             "ticks": ""
            },
            "colorscale": [
             [
              0,
              "#0d0887"
             ],
             [
              0.1111111111111111,
              "#46039f"
             ],
             [
              0.2222222222222222,
              "#7201a8"
             ],
             [
              0.3333333333333333,
              "#9c179e"
             ],
             [
              0.4444444444444444,
              "#bd3786"
             ],
             [
              0.5555555555555556,
              "#d8576b"
             ],
             [
              0.6666666666666666,
              "#ed7953"
             ],
             [
              0.7777777777777778,
              "#fb9f3a"
             ],
             [
              0.8888888888888888,
              "#fdca26"
             ],
             [
              1,
              "#f0f921"
             ]
            ],
            "type": "heatmapgl"
           }
          ],
          "histogram": [
           {
            "marker": {
             "pattern": {
              "fillmode": "overlay",
              "size": 10,
              "solidity": 0.2
             }
            },
            "type": "histogram"
           }
          ],
          "histogram2d": [
           {
            "colorbar": {
             "outlinewidth": 0,
             "ticks": ""
            },
            "colorscale": [
             [
              0,
              "#0d0887"
             ],
             [
              0.1111111111111111,
              "#46039f"
             ],
             [
              0.2222222222222222,
              "#7201a8"
             ],
             [
              0.3333333333333333,
              "#9c179e"
             ],
             [
              0.4444444444444444,
              "#bd3786"
             ],
             [
              0.5555555555555556,
              "#d8576b"
             ],
             [
              0.6666666666666666,
              "#ed7953"
             ],
             [
              0.7777777777777778,
              "#fb9f3a"
             ],
             [
              0.8888888888888888,
              "#fdca26"
             ],
             [
              1,
              "#f0f921"
             ]
            ],
            "type": "histogram2d"
           }
          ],
          "histogram2dcontour": [
           {
            "colorbar": {
             "outlinewidth": 0,
             "ticks": ""
            },
            "colorscale": [
             [
              0,
              "#0d0887"
             ],
             [
              0.1111111111111111,
              "#46039f"
             ],
             [
              0.2222222222222222,
              "#7201a8"
             ],
             [
              0.3333333333333333,
              "#9c179e"
             ],
             [
              0.4444444444444444,
              "#bd3786"
             ],
             [
              0.5555555555555556,
              "#d8576b"
             ],
             [
              0.6666666666666666,
              "#ed7953"
             ],
             [
              0.7777777777777778,
              "#fb9f3a"
             ],
             [
              0.8888888888888888,
              "#fdca26"
             ],
             [
              1,
              "#f0f921"
             ]
            ],
            "type": "histogram2dcontour"
           }
          ],
          "mesh3d": [
           {
            "colorbar": {
             "outlinewidth": 0,
             "ticks": ""
            },
            "type": "mesh3d"
           }
          ],
          "parcoords": [
           {
            "line": {
             "colorbar": {
              "outlinewidth": 0,
              "ticks": ""
             }
            },
            "type": "parcoords"
           }
          ],
          "pie": [
           {
            "automargin": true,
            "type": "pie"
           }
          ],
          "scatter": [
           {
            "fillpattern": {
             "fillmode": "overlay",
             "size": 10,
             "solidity": 0.2
            },
            "type": "scatter"
           }
          ],
          "scatter3d": [
           {
            "line": {
             "colorbar": {
              "outlinewidth": 0,
              "ticks": ""
             }
            },
            "marker": {
             "colorbar": {
              "outlinewidth": 0,
              "ticks": ""
             }
            },
            "type": "scatter3d"
           }
          ],
          "scattercarpet": [
           {
            "marker": {
             "colorbar": {
              "outlinewidth": 0,
              "ticks": ""
             }
            },
            "type": "scattercarpet"
           }
          ],
          "scattergeo": [
           {
            "marker": {
             "colorbar": {
              "outlinewidth": 0,
              "ticks": ""
             }
            },
            "type": "scattergeo"
           }
          ],
          "scattergl": [
           {
            "marker": {
             "colorbar": {
              "outlinewidth": 0,
              "ticks": ""
             }
            },
            "type": "scattergl"
           }
          ],
          "scattermapbox": [
           {
            "marker": {
             "colorbar": {
              "outlinewidth": 0,
              "ticks": ""
             }
            },
            "type": "scattermapbox"
           }
          ],
          "scatterpolar": [
           {
            "marker": {
             "colorbar": {
              "outlinewidth": 0,
              "ticks": ""
             }
            },
            "type": "scatterpolar"
           }
          ],
          "scatterpolargl": [
           {
            "marker": {
             "colorbar": {
              "outlinewidth": 0,
              "ticks": ""
             }
            },
            "type": "scatterpolargl"
           }
          ],
          "scatterternary": [
           {
            "marker": {
             "colorbar": {
              "outlinewidth": 0,
              "ticks": ""
             }
            },
            "type": "scatterternary"
           }
          ],
          "surface": [
           {
            "colorbar": {
             "outlinewidth": 0,
             "ticks": ""
            },
            "colorscale": [
             [
              0,
              "#0d0887"
             ],
             [
              0.1111111111111111,
              "#46039f"
             ],
             [
              0.2222222222222222,
              "#7201a8"
             ],
             [
              0.3333333333333333,
              "#9c179e"
             ],
             [
              0.4444444444444444,
              "#bd3786"
             ],
             [
              0.5555555555555556,
              "#d8576b"
             ],
             [
              0.6666666666666666,
              "#ed7953"
             ],
             [
              0.7777777777777778,
              "#fb9f3a"
             ],
             [
              0.8888888888888888,
              "#fdca26"
             ],
             [
              1,
              "#f0f921"
             ]
            ],
            "type": "surface"
           }
          ],
          "table": [
           {
            "cells": {
             "fill": {
              "color": "#EBF0F8"
             },
             "line": {
              "color": "white"
             }
            },
            "header": {
             "fill": {
              "color": "#C8D4E3"
             },
             "line": {
              "color": "white"
             }
            },
            "type": "table"
           }
          ]
         },
         "layout": {
          "annotationdefaults": {
           "arrowcolor": "#2a3f5f",
           "arrowhead": 0,
           "arrowwidth": 1
          },
          "autotypenumbers": "strict",
          "coloraxis": {
           "colorbar": {
            "outlinewidth": 0,
            "ticks": ""
           }
          },
          "colorscale": {
           "diverging": [
            [
             0,
             "#8e0152"
            ],
            [
             0.1,
             "#c51b7d"
            ],
            [
             0.2,
             "#de77ae"
            ],
            [
             0.3,
             "#f1b6da"
            ],
            [
             0.4,
             "#fde0ef"
            ],
            [
             0.5,
             "#f7f7f7"
            ],
            [
             0.6,
             "#e6f5d0"
            ],
            [
             0.7,
             "#b8e186"
            ],
            [
             0.8,
             "#7fbc41"
            ],
            [
             0.9,
             "#4d9221"
            ],
            [
             1,
             "#276419"
            ]
           ],
           "sequential": [
            [
             0,
             "#0d0887"
            ],
            [
             0.1111111111111111,
             "#46039f"
            ],
            [
             0.2222222222222222,
             "#7201a8"
            ],
            [
             0.3333333333333333,
             "#9c179e"
            ],
            [
             0.4444444444444444,
             "#bd3786"
            ],
            [
             0.5555555555555556,
             "#d8576b"
            ],
            [
             0.6666666666666666,
             "#ed7953"
            ],
            [
             0.7777777777777778,
             "#fb9f3a"
            ],
            [
             0.8888888888888888,
             "#fdca26"
            ],
            [
             1,
             "#f0f921"
            ]
           ],
           "sequentialminus": [
            [
             0,
             "#0d0887"
            ],
            [
             0.1111111111111111,
             "#46039f"
            ],
            [
             0.2222222222222222,
             "#7201a8"
            ],
            [
             0.3333333333333333,
             "#9c179e"
            ],
            [
             0.4444444444444444,
             "#bd3786"
            ],
            [
             0.5555555555555556,
             "#d8576b"
            ],
            [
             0.6666666666666666,
             "#ed7953"
            ],
            [
             0.7777777777777778,
             "#fb9f3a"
            ],
            [
             0.8888888888888888,
             "#fdca26"
            ],
            [
             1,
             "#f0f921"
            ]
           ]
          },
          "colorway": [
           "#636efa",
           "#EF553B",
           "#00cc96",
           "#ab63fa",
           "#FFA15A",
           "#19d3f3",
           "#FF6692",
           "#B6E880",
           "#FF97FF",
           "#FECB52"
          ],
          "font": {
           "color": "#2a3f5f"
          },
          "geo": {
           "bgcolor": "white",
           "lakecolor": "white",
           "landcolor": "#E5ECF6",
           "showlakes": true,
           "showland": true,
           "subunitcolor": "white"
          },
          "hoverlabel": {
           "align": "left"
          },
          "hovermode": "closest",
          "mapbox": {
           "style": "light"
          },
          "paper_bgcolor": "white",
          "plot_bgcolor": "#E5ECF6",
          "polar": {
           "angularaxis": {
            "gridcolor": "white",
            "linecolor": "white",
            "ticks": ""
           },
           "bgcolor": "#E5ECF6",
           "radialaxis": {
            "gridcolor": "white",
            "linecolor": "white",
            "ticks": ""
           }
          },
          "scene": {
           "xaxis": {
            "backgroundcolor": "#E5ECF6",
            "gridcolor": "white",
            "gridwidth": 2,
            "linecolor": "white",
            "showbackground": true,
            "ticks": "",
            "zerolinecolor": "white"
           },
           "yaxis": {
            "backgroundcolor": "#E5ECF6",
            "gridcolor": "white",
            "gridwidth": 2,
            "linecolor": "white",
            "showbackground": true,
            "ticks": "",
            "zerolinecolor": "white"
           },
           "zaxis": {
            "backgroundcolor": "#E5ECF6",
            "gridcolor": "white",
            "gridwidth": 2,
            "linecolor": "white",
            "showbackground": true,
            "ticks": "",
            "zerolinecolor": "white"
           }
          },
          "shapedefaults": {
           "line": {
            "color": "#2a3f5f"
           }
          },
          "ternary": {
           "aaxis": {
            "gridcolor": "white",
            "linecolor": "white",
            "ticks": ""
           },
           "baxis": {
            "gridcolor": "white",
            "linecolor": "white",
            "ticks": ""
           },
           "bgcolor": "#E5ECF6",
           "caxis": {
            "gridcolor": "white",
            "linecolor": "white",
            "ticks": ""
           }
          },
          "title": {
           "x": 0.05
          },
          "xaxis": {
           "automargin": true,
           "gridcolor": "white",
           "linecolor": "white",
           "ticks": "",
           "title": {
            "standoff": 15
           },
           "zerolinecolor": "white",
           "zerolinewidth": 2
          },
          "yaxis": {
           "automargin": true,
           "gridcolor": "white",
           "linecolor": "white",
           "ticks": "",
           "title": {
            "standoff": 15
           },
           "zerolinecolor": "white",
           "zerolinewidth": 2
          }
         }
        }
       }
      }
     },
     "metadata": {},
     "output_type": "display_data"
    }
   ],
   "source": [
    "fig = px.choropleth(df, locations=stateList, locationmode=\"USA-states\", hover_data=['Users','Engaged sessions','Engagement rate','Average engagement time'], color=df['Engaged sessions'], scope=\"usa\")\n",
    "fig.show()"
   ]
  },
  {
   "cell_type": "code",
   "execution_count": 83,
   "metadata": {},
   "outputs": [
    {
     "name": "stdout",
     "output_type": "stream",
     "text": [
      "TOTAL NUMBER OF USERS: 1796\n",
      "TOTAL NUMBER OF SESSIONS: 728\n"
     ]
    }
   ],
   "source": [
    "df.describe()\n",
    "totalUsers = df['Users'].sum()\n",
    "totalSessions = df['Engaged sessions'].sum()\n",
    "print(\"TOTAL NUMBER OF USERS: \" + str(totalUsers))\n",
    "print(\"TOTAL NUMBER OF SESSIONS: \" + str(totalSessions))"
   ]
  },
  {
   "cell_type": "markdown",
   "metadata": {},
   "source": [
    "This workflow is to visualize the geographic extent of users outside of the United States.\n",
    "\n",
    "1. Filter out United States data.\n",
    "2. Create bar chart of Users by country with a region breakdown."
   ]
  },
  {
   "cell_type": "code",
   "execution_count": 86,
   "metadata": {},
   "outputs": [
    {
     "data": {
      "application/vnd.plotly.v1+json": {
       "config": {
        "plotlyServerURL": "https://plot.ly"
       },
       "data": [
        {
         "alignmentgroup": "True",
         "customdata": [
          [
           "(not set)",
           1,
           1,
           16
          ],
          [
           "North Sumatra",
           0,
           0,
           0
          ],
          [
           "West Java",
           1,
           1,
           8
          ],
          [
           "West Nusa Tenggara",
           0,
           0,
           0
          ],
          [
           "West Papua",
           1,
           0.5,
           16
          ],
          [
           "County Galway",
           0,
           0,
           0
          ],
          [
           "Emilia-Romagna",
           1,
           1,
           30
          ],
          [
           "Bali",
           0,
           0,
           0
          ],
          [
           "Lazio",
           1,
           1,
           18
          ],
          [
           "Westmoreland Parish",
           0,
           0,
           0
          ],
          [
           "(not set)",
           0,
           0,
           0
          ],
          [
           "Male",
           0,
           0,
           0
          ],
          [
           "(not set)",
           0,
           0,
           0
          ],
          [
           "San Luis Potosi",
           0,
           0,
           0
          ],
          [
           "Yucatan",
           0,
           0,
           0
          ],
          [
           "Lombardy",
           0,
           0,
           0
          ],
          [
           "Maputo",
           1,
           1,
           12
          ],
          [
           "Maharashtra",
           1,
           1,
           340
          ],
          [
           "Decentralized Administration of Macedonia and Thrace",
           1,
           1,
           21
          ],
          [
           "Nicosia",
           0,
           0,
           0
          ],
          [
           "Barahona Province",
           0,
           0,
           0
          ],
          [
           "La Altagracia Province",
           1,
           1,
           17
          ],
          [
           "Red Sea Governorate",
           0,
           0,
           0
          ],
          [
           "Suez Governorate",
           0,
           0,
           0
          ],
          [
           "Uusimaa",
           1,
           1,
           39
          ],
          [
           "Basse-Terre",
           1,
           1,
           14
          ],
          [
           "Bourgogne-Franche-Comte",
           0,
           0,
           0
          ],
          [
           "(not set)",
           1,
           1,
           23
          ],
          [
           "Baden-Wurttemberg",
           0,
           0,
           0
          ],
          [
           "Hamburg",
           0,
           0,
           0
          ],
          [
           "Rhineland-Palatinate",
           0,
           0,
           0
          ],
          [
           "Saxony",
           0,
           0,
           0
          ],
          [
           "(not set)",
           0,
           0,
           0
          ],
          [
           "Nouvelle-Aquitaine",
           0,
           0,
           0
          ],
          [
           "Limassol",
           0,
           0,
           4
          ],
          [
           "Auckland",
           1,
           1,
           22
          ],
          [
           "More og Romsdal",
           1,
           1,
           90
          ],
          [
           "Gyeonggi-do",
           0,
           0,
           9
          ],
          [
           "Catalonia",
           1,
           1,
           29
          ],
          [
           "Valencian Community",
           1,
           1,
           12
          ],
          [
           "(not set)",
           1,
           1,
           2
          ],
          [
           "Stockholm County",
           1,
           1,
           138
          ],
          [
           "(not set)",
           1,
           1,
           35
          ],
          [
           "Western Cape",
           0,
           0,
           0
          ],
          [
           "Chanthaburi",
           0,
           0,
           0
          ],
          [
           "Narathiwat",
           0,
           0,
           0
          ],
          [
           "Pattani",
           0,
           0,
           0
          ],
          [
           "Prachuap Khiri Khan",
           0,
           0,
           0
          ],
          [
           "Satun",
           0,
           0,
           0
          ],
          [
           "(not set)",
           0,
           0,
           0
          ],
          [
           "Abu Dhabi",
           0,
           0,
           0
          ],
          [
           "Krabi",
           0,
           0,
           0
          ],
          [
           "Otago",
           1,
           1,
           30
          ],
          [
           "Ljubljana",
           0,
           0,
           0
          ],
          [
           "Cluj County",
           1,
           1,
           147
          ],
          [
           "Rogaland",
           0,
           0,
           4
          ],
          [
           "Troms og Finnmark fylke",
           1,
           1,
           29
          ],
          [
           "East New Britain Province",
           1,
           0.125,
           0
          ],
          [
           "National Capital District",
           0,
           0,
           0
          ],
          [
           "Lima Province",
           2,
           0.5,
           38
          ],
          [
           "(not set)",
           1,
           1,
           64
          ],
          [
           "(not set)",
           0,
           0,
           0
          ],
          [
           "Bicol",
           1,
           1,
           180
          ],
          [
           "Central Luzon",
           1,
           1,
           58
          ],
          [
           "Central Visayas",
           0,
           0,
           0
          ],
          [
           "Western Visayas",
           0,
           0,
           0
          ],
          [
           "Coimbra District",
           0,
           0,
           0
          ],
          [
           "Cabo Rojo",
           0,
           0,
           5
          ],
          [
           "Caguas",
           1,
           1,
           13
          ],
          [
           "Calabarzon",
           1,
           1,
           4
          ],
          [
           "Wales",
           0,
           0,
           0
          ],
          [
           "Khanh Hoa",
           1,
           1,
           537
          ],
          [
           "(not set)",
           0,
           0,
           0
          ],
          [
           "Eastern District",
           1,
           1,
           37
          ],
          [
           "Mendoza Province",
           0,
           0,
           0
          ],
          [
           "Western Australia",
           0,
           0,
           0
          ],
          [
           "State of Ceara",
           0,
           0,
           0
          ],
          [
           "Nova Scotia",
           0,
           0,
           0
          ],
          [
           "Wallonia",
           0,
           0,
           0
          ],
          [
           "Santiago Metropolitan Region",
           0,
           0,
           0
          ],
          [
           "Beijing",
           1,
           1,
           10
          ],
          [
           "Jiangsu",
           0,
           0,
           0
          ],
          [
           "Magdalena",
           0,
           0,
           0
          ],
          [
           "San Andres and Providencia",
           0,
           0,
           0
          ],
          [
           "(not set)",
           1,
           1,
           36
          ],
          [
           "Split-Dalmatia County",
           0,
           0,
           0
          ],
          [
           "Menofia Governorate",
           0,
           0,
           0
          ],
          [
           "East Nusa Tenggara",
           1,
           0.125,
           18
          ],
          [
           "Tamil Nadu",
           2,
           1,
           36
          ],
          [
           "(not set)",
           2,
           1,
           121
          ],
          [
           "North Rhine-Westphalia",
           2,
           1,
           9.5
          ],
          [
           "Vienna",
           0,
           0,
           0
          ],
          [
           "Fujian",
           2,
           1,
           88
          ],
          [
           "Ontario",
           2,
           1,
           9
          ],
          [
           "State of Sao Paulo",
           2,
           1,
           60.5
          ],
          [
           "(not set)",
           2,
           0.666666667,
           10.5
          ],
          [
           "South District",
           0,
           0,
           0
          ],
          [
           "Tianjin",
           3,
           1,
           120
          ],
          [
           "St. Andrew Parish",
           0,
           0,
           0
          ],
          [
           "Shanghai",
           3,
           0.5,
           144.5
          ],
          [
           "Oslo",
           0,
           0,
           0
          ],
          [
           "Ho Chi Minh City",
           1,
           0.5,
           71.5
          ],
          [
           "Scotland",
           1,
           0.5,
           29.5
          ],
          [
           "Ankara",
           1,
           0.333333333,
           14
          ],
          [
           "Taipei City",
           1,
           0.5,
           6
          ],
          [
           "Kaohsiung City",
           2,
           1,
           44
          ],
          [
           "Istanbul",
           1,
           0.5,
           42
          ],
          [
           "Norrbotten County",
           0,
           0,
           0
          ],
          [
           "Makkah Province",
           4,
           0.666666667,
           295.5
          ],
          [
           "Masovian Voivodeship",
           1,
           0.5,
           3
          ],
          [
           "Metro Manila",
           1,
           0.5,
           69
          ],
          [
           "(not set)",
           3,
           0.6,
           47
          ],
          [
           "Zurich",
           0,
           0,
           0
          ],
          [
           "Quintana Roo",
           1,
           0.5,
           0
          ],
          [
           "Vestland",
           1,
           0.333333333,
           0
          ],
          [
           "Mexico City",
           2,
           0.666666667,
           77
          ],
          [
           "Tokyo",
           0,
           0,
           0
          ],
          [
           "Berlin",
           3,
           0.375,
           23.66666667
          ],
          [
           "Provence-Alpes-Cote d'Azur",
           2,
           0.666666667,
           56.66666667
          ],
          [
           "Bogota",
           3,
           0.75,
           35.33333333
          ],
          [
           "British Columbia",
           2,
           0.5,
           44.5
          ],
          [
           "Quebec",
           4,
           1,
           31.75
          ],
          [
           "Hessen",
           1,
           0.25,
           0
          ],
          [
           "Antioquia",
           2,
           0.333333333,
           7.75
          ],
          [
           "Mayaguez",
           1,
           0.2,
           31.8
          ],
          [
           "Jakarta",
           2,
           0.285714286,
           42.8
          ],
          [
           "County Dublin",
           1,
           0.166666667,
           0.166666667
          ],
          [
           "St. Croix",
           4,
           0.444444444,
           11.57142857
          ],
          [
           "North Holland",
           2,
           0.285714286,
           12.57142857
          ],
          [
           "Victoria",
           0,
           0,
           0
          ],
          [
           "New South Wales",
           3,
           0.333333333,
           56.42857143
          ],
          [
           "Australian Capital Territory",
           0,
           0,
           0
          ],
          [
           "Western District",
           2,
           0.25,
           2.625
          ],
          [
           "San Jose Province",
           5,
           0.555555556,
           17.33333333
          ],
          [
           null,
           6,
           0.352941176,
           9.888888889
          ],
          [
           "Ile-de-France",
           0,
           0,
           0
          ],
          [
           "(not set)",
           1,
           0.066666667,
           18.11111111
          ],
          [
           "(not set)",
           8,
           0.533333333,
           43.8
          ],
          [
           "(not set)",
           11,
           0.647058824,
           89.45454545
          ],
          [
           "Queensland",
           5,
           0.357142857,
           30.91666667
          ],
          [
           "St. Thomas",
           7,
           0.388888889,
           21.92857143
          ],
          [
           "England",
           16,
           0.5,
           22.17391304
          ],
          [
           "San Juan",
           15,
           0.365853659,
           25.13793103
          ]
         ],
         "hovertemplate": "Country=%{x}<br>Users=%{marker.color}<br>Region=%{customdata[0]}<br>Engaged sessions=%{customdata[1]}<br>Engagement rate=%{customdata[2]}<br>Average engagement time=%{customdata[3]}<extra></extra>",
         "legendgroup": "",
         "marker": {
          "color": [
           1,
           1,
           1,
           1,
           1,
           1,
           1,
           1,
           1,
           1,
           1,
           1,
           1,
           1,
           1,
           1,
           1,
           1,
           1,
           1,
           1,
           1,
           1,
           1,
           1,
           1,
           1,
           1,
           1,
           1,
           1,
           1,
           1,
           1,
           1,
           1,
           1,
           1,
           1,
           1,
           1,
           1,
           1,
           1,
           1,
           1,
           1,
           1,
           1,
           1,
           1,
           1,
           1,
           1,
           1,
           1,
           1,
           1,
           1,
           1,
           1,
           1,
           1,
           1,
           1,
           1,
           1,
           1,
           1,
           1,
           1,
           1,
           1,
           1,
           1,
           1,
           1,
           1,
           1,
           1,
           1,
           1,
           1,
           1,
           1,
           1,
           2,
           2,
           2,
           2,
           2,
           2,
           2,
           2,
           2,
           2,
           2,
           2,
           2,
           2,
           2,
           2,
           2,
           2,
           2,
           2,
           2,
           2,
           2,
           2,
           2,
           2,
           2,
           2,
           3,
           3,
           3,
           3,
           3,
           3,
           4,
           4,
           4,
           4,
           5,
           5,
           6,
           7,
           7,
           7,
           7,
           8,
           8,
           9,
           9,
           9,
           9,
           10,
           11,
           12,
           14,
           23,
           29
          ],
          "coloraxis": "coloraxis",
          "pattern": {
           "shape": ""
          }
         },
         "name": "",
         "offsetgroup": "",
         "orientation": "v",
         "showlegend": false,
         "textposition": "auto",
         "type": "bar",
         "x": [
          "CuraÃ§ao",
          "Indonesia",
          "Indonesia",
          "Indonesia",
          "Indonesia",
          "Ireland",
          "Italy",
          "Indonesia",
          "Italy",
          "Jamaica",
          "Maldives",
          "Maldives",
          "Marshall Islands",
          "Mexico",
          "Mexico",
          "Italy",
          "Mozambique",
          "India",
          "Greece",
          "Cyprus",
          "Dominican Republic",
          "Dominican Republic",
          "Egypt",
          "Egypt",
          "Finland",
          "Guadeloupe",
          "France",
          "French Polynesia",
          "Germany",
          "Germany",
          "Germany",
          "Germany",
          "Greece",
          "France",
          "Cyprus",
          "New Zealand",
          "Norway",
          "South Korea",
          "Spain",
          "Spain",
          "St. Martin",
          "Sweden",
          "Tanzania",
          "South Africa",
          "Thailand",
          "Thailand",
          "Thailand",
          "Thailand",
          "Thailand",
          "Trinidad & Tobago",
          "United Arab Emirates",
          "Thailand",
          "New Zealand",
          "Slovenia",
          "Romania",
          "Norway",
          "Norway",
          "Papua New Guinea",
          "Papua New Guinea",
          "Peru",
          "Philippines",
          "Samoa",
          "Philippines",
          "Philippines",
          "Philippines",
          "Philippines",
          "Portugal",
          "Puerto Rico",
          "Puerto Rico",
          "Philippines",
          "United Kingdom",
          "Vietnam",
          "Costa Rica",
          "American Samoa",
          "Argentina",
          "Australia",
          "Brazil",
          "Canada",
          "Belgium",
          "Chile",
          "China",
          "China",
          "Colombia",
          "Colombia",
          "Cayman Islands",
          "Croatia",
          "Egypt",
          "Indonesia",
          "India",
          "Hong Kong",
          "Germany",
          "Austria",
          "China",
          "Canada",
          "Brazil",
          "Barbados",
          "Israel",
          "China",
          "Jamaica",
          "China",
          "Norway",
          "Vietnam",
          "United Kingdom",
          "Turkey",
          "Taiwan",
          "Taiwan",
          "Turkey",
          "Sweden",
          "Saudi Arabia",
          "Poland",
          "Philippines",
          "Panama",
          "Switzerland",
          "Mexico",
          "Norway",
          "Mexico",
          "Japan",
          "Germany",
          "France",
          "Colombia",
          "Canada",
          "Canada",
          "Germany",
          "Colombia",
          "Puerto Rico",
          "Indonesia",
          "Ireland",
          "U.S. Virgin Islands",
          "Netherlands",
          "Australia",
          "Australia",
          "Australia",
          "American Samoa",
          "Costa Rica",
          "Guam",
          "France",
          "Dominican Republic",
          "Puerto Rico",
          "China",
          "Australia",
          "U.S. Virgin Islands",
          "United Kingdom",
          "Puerto Rico"
         ],
         "xaxis": "x",
         "y": [
          1,
          1,
          1,
          1,
          1,
          1,
          1,
          1,
          1,
          1,
          1,
          1,
          1,
          1,
          1,
          1,
          1,
          1,
          1,
          1,
          1,
          1,
          1,
          1,
          1,
          1,
          1,
          1,
          1,
          1,
          1,
          1,
          1,
          1,
          1,
          1,
          1,
          1,
          1,
          1,
          1,
          1,
          1,
          1,
          1,
          1,
          1,
          1,
          1,
          1,
          1,
          1,
          1,
          1,
          1,
          1,
          1,
          1,
          1,
          1,
          1,
          1,
          1,
          1,
          1,
          1,
          1,
          1,
          1,
          1,
          1,
          1,
          1,
          1,
          1,
          1,
          1,
          1,
          1,
          1,
          1,
          1,
          1,
          1,
          1,
          1,
          2,
          2,
          2,
          2,
          2,
          2,
          2,
          2,
          2,
          2,
          2,
          2,
          2,
          2,
          2,
          2,
          2,
          2,
          2,
          2,
          2,
          2,
          2,
          2,
          2,
          2,
          2,
          2,
          3,
          3,
          3,
          3,
          3,
          3,
          4,
          4,
          4,
          4,
          5,
          5,
          6,
          7,
          7,
          7,
          7,
          8,
          8,
          9,
          9,
          9,
          9,
          10,
          11,
          12,
          14,
          23,
          29
         ],
         "yaxis": "y"
        }
       ],
       "layout": {
        "barmode": "relative",
        "coloraxis": {
         "colorbar": {
          "title": {
           "text": "Users"
          }
         },
         "colorscale": [
          [
           0,
           "#0d0887"
          ],
          [
           0.1111111111111111,
           "#46039f"
          ],
          [
           0.2222222222222222,
           "#7201a8"
          ],
          [
           0.3333333333333333,
           "#9c179e"
          ],
          [
           0.4444444444444444,
           "#bd3786"
          ],
          [
           0.5555555555555556,
           "#d8576b"
          ],
          [
           0.6666666666666666,
           "#ed7953"
          ],
          [
           0.7777777777777778,
           "#fb9f3a"
          ],
          [
           0.8888888888888888,
           "#fdca26"
          ],
          [
           1,
           "#f0f921"
          ]
         ]
        },
        "height": 400,
        "legend": {
         "tracegroupgap": 0
        },
        "margin": {
         "t": 60
        },
        "template": {
         "data": {
          "bar": [
           {
            "error_x": {
             "color": "#2a3f5f"
            },
            "error_y": {
             "color": "#2a3f5f"
            },
            "marker": {
             "line": {
              "color": "#E5ECF6",
              "width": 0.5
             },
             "pattern": {
              "fillmode": "overlay",
              "size": 10,
              "solidity": 0.2
             }
            },
            "type": "bar"
           }
          ],
          "barpolar": [
           {
            "marker": {
             "line": {
              "color": "#E5ECF6",
              "width": 0.5
             },
             "pattern": {
              "fillmode": "overlay",
              "size": 10,
              "solidity": 0.2
             }
            },
            "type": "barpolar"
           }
          ],
          "carpet": [
           {
            "aaxis": {
             "endlinecolor": "#2a3f5f",
             "gridcolor": "white",
             "linecolor": "white",
             "minorgridcolor": "white",
             "startlinecolor": "#2a3f5f"
            },
            "baxis": {
             "endlinecolor": "#2a3f5f",
             "gridcolor": "white",
             "linecolor": "white",
             "minorgridcolor": "white",
             "startlinecolor": "#2a3f5f"
            },
            "type": "carpet"
           }
          ],
          "choropleth": [
           {
            "colorbar": {
             "outlinewidth": 0,
             "ticks": ""
            },
            "type": "choropleth"
           }
          ],
          "contour": [
           {
            "colorbar": {
             "outlinewidth": 0,
             "ticks": ""
            },
            "colorscale": [
             [
              0,
              "#0d0887"
             ],
             [
              0.1111111111111111,
              "#46039f"
             ],
             [
              0.2222222222222222,
              "#7201a8"
             ],
             [
              0.3333333333333333,
              "#9c179e"
             ],
             [
              0.4444444444444444,
              "#bd3786"
             ],
             [
              0.5555555555555556,
              "#d8576b"
             ],
             [
              0.6666666666666666,
              "#ed7953"
             ],
             [
              0.7777777777777778,
              "#fb9f3a"
             ],
             [
              0.8888888888888888,
              "#fdca26"
             ],
             [
              1,
              "#f0f921"
             ]
            ],
            "type": "contour"
           }
          ],
          "contourcarpet": [
           {
            "colorbar": {
             "outlinewidth": 0,
             "ticks": ""
            },
            "type": "contourcarpet"
           }
          ],
          "heatmap": [
           {
            "colorbar": {
             "outlinewidth": 0,
             "ticks": ""
            },
            "colorscale": [
             [
              0,
              "#0d0887"
             ],
             [
              0.1111111111111111,
              "#46039f"
             ],
             [
              0.2222222222222222,
              "#7201a8"
             ],
             [
              0.3333333333333333,
              "#9c179e"
             ],
             [
              0.4444444444444444,
              "#bd3786"
             ],
             [
              0.5555555555555556,
              "#d8576b"
             ],
             [
              0.6666666666666666,
              "#ed7953"
             ],
             [
              0.7777777777777778,
              "#fb9f3a"
             ],
             [
              0.8888888888888888,
              "#fdca26"
             ],
             [
              1,
              "#f0f921"
             ]
            ],
            "type": "heatmap"
           }
          ],
          "heatmapgl": [
           {
            "colorbar": {
             "outlinewidth": 0,
             "ticks": ""
            },
            "colorscale": [
             [
              0,
              "#0d0887"
             ],
             [
              0.1111111111111111,
              "#46039f"
             ],
             [
              0.2222222222222222,
              "#7201a8"
             ],
             [
              0.3333333333333333,
              "#9c179e"
             ],
             [
              0.4444444444444444,
              "#bd3786"
             ],
             [
              0.5555555555555556,
              "#d8576b"
             ],
             [
              0.6666666666666666,
              "#ed7953"
             ],
             [
              0.7777777777777778,
              "#fb9f3a"
             ],
             [
              0.8888888888888888,
              "#fdca26"
             ],
             [
              1,
              "#f0f921"
             ]
            ],
            "type": "heatmapgl"
           }
          ],
          "histogram": [
           {
            "marker": {
             "pattern": {
              "fillmode": "overlay",
              "size": 10,
              "solidity": 0.2
             }
            },
            "type": "histogram"
           }
          ],
          "histogram2d": [
           {
            "colorbar": {
             "outlinewidth": 0,
             "ticks": ""
            },
            "colorscale": [
             [
              0,
              "#0d0887"
             ],
             [
              0.1111111111111111,
              "#46039f"
             ],
             [
              0.2222222222222222,
              "#7201a8"
             ],
             [
              0.3333333333333333,
              "#9c179e"
             ],
             [
              0.4444444444444444,
              "#bd3786"
             ],
             [
              0.5555555555555556,
              "#d8576b"
             ],
             [
              0.6666666666666666,
              "#ed7953"
             ],
             [
              0.7777777777777778,
              "#fb9f3a"
             ],
             [
              0.8888888888888888,
              "#fdca26"
             ],
             [
              1,
              "#f0f921"
             ]
            ],
            "type": "histogram2d"
           }
          ],
          "histogram2dcontour": [
           {
            "colorbar": {
             "outlinewidth": 0,
             "ticks": ""
            },
            "colorscale": [
             [
              0,
              "#0d0887"
             ],
             [
              0.1111111111111111,
              "#46039f"
             ],
             [
              0.2222222222222222,
              "#7201a8"
             ],
             [
              0.3333333333333333,
              "#9c179e"
             ],
             [
              0.4444444444444444,
              "#bd3786"
             ],
             [
              0.5555555555555556,
              "#d8576b"
             ],
             [
              0.6666666666666666,
              "#ed7953"
             ],
             [
              0.7777777777777778,
              "#fb9f3a"
             ],
             [
              0.8888888888888888,
              "#fdca26"
             ],
             [
              1,
              "#f0f921"
             ]
            ],
            "type": "histogram2dcontour"
           }
          ],
          "mesh3d": [
           {
            "colorbar": {
             "outlinewidth": 0,
             "ticks": ""
            },
            "type": "mesh3d"
           }
          ],
          "parcoords": [
           {
            "line": {
             "colorbar": {
              "outlinewidth": 0,
              "ticks": ""
             }
            },
            "type": "parcoords"
           }
          ],
          "pie": [
           {
            "automargin": true,
            "type": "pie"
           }
          ],
          "scatter": [
           {
            "fillpattern": {
             "fillmode": "overlay",
             "size": 10,
             "solidity": 0.2
            },
            "type": "scatter"
           }
          ],
          "scatter3d": [
           {
            "line": {
             "colorbar": {
              "outlinewidth": 0,
              "ticks": ""
             }
            },
            "marker": {
             "colorbar": {
              "outlinewidth": 0,
              "ticks": ""
             }
            },
            "type": "scatter3d"
           }
          ],
          "scattercarpet": [
           {
            "marker": {
             "colorbar": {
              "outlinewidth": 0,
              "ticks": ""
             }
            },
            "type": "scattercarpet"
           }
          ],
          "scattergeo": [
           {
            "marker": {
             "colorbar": {
              "outlinewidth": 0,
              "ticks": ""
             }
            },
            "type": "scattergeo"
           }
          ],
          "scattergl": [
           {
            "marker": {
             "colorbar": {
              "outlinewidth": 0,
              "ticks": ""
             }
            },
            "type": "scattergl"
           }
          ],
          "scattermapbox": [
           {
            "marker": {
             "colorbar": {
              "outlinewidth": 0,
              "ticks": ""
             }
            },
            "type": "scattermapbox"
           }
          ],
          "scatterpolar": [
           {
            "marker": {
             "colorbar": {
              "outlinewidth": 0,
              "ticks": ""
             }
            },
            "type": "scatterpolar"
           }
          ],
          "scatterpolargl": [
           {
            "marker": {
             "colorbar": {
              "outlinewidth": 0,
              "ticks": ""
             }
            },
            "type": "scatterpolargl"
           }
          ],
          "scatterternary": [
           {
            "marker": {
             "colorbar": {
              "outlinewidth": 0,
              "ticks": ""
             }
            },
            "type": "scatterternary"
           }
          ],
          "surface": [
           {
            "colorbar": {
             "outlinewidth": 0,
             "ticks": ""
            },
            "colorscale": [
             [
              0,
              "#0d0887"
             ],
             [
              0.1111111111111111,
              "#46039f"
             ],
             [
              0.2222222222222222,
              "#7201a8"
             ],
             [
              0.3333333333333333,
              "#9c179e"
             ],
             [
              0.4444444444444444,
              "#bd3786"
             ],
             [
              0.5555555555555556,
              "#d8576b"
             ],
             [
              0.6666666666666666,
              "#ed7953"
             ],
             [
              0.7777777777777778,
              "#fb9f3a"
             ],
             [
              0.8888888888888888,
              "#fdca26"
             ],
             [
              1,
              "#f0f921"
             ]
            ],
            "type": "surface"
           }
          ],
          "table": [
           {
            "cells": {
             "fill": {
              "color": "#EBF0F8"
             },
             "line": {
              "color": "white"
             }
            },
            "header": {
             "fill": {
              "color": "#C8D4E3"
             },
             "line": {
              "color": "white"
             }
            },
            "type": "table"
           }
          ]
         },
         "layout": {
          "annotationdefaults": {
           "arrowcolor": "#2a3f5f",
           "arrowhead": 0,
           "arrowwidth": 1
          },
          "autotypenumbers": "strict",
          "coloraxis": {
           "colorbar": {
            "outlinewidth": 0,
            "ticks": ""
           }
          },
          "colorscale": {
           "diverging": [
            [
             0,
             "#8e0152"
            ],
            [
             0.1,
             "#c51b7d"
            ],
            [
             0.2,
             "#de77ae"
            ],
            [
             0.3,
             "#f1b6da"
            ],
            [
             0.4,
             "#fde0ef"
            ],
            [
             0.5,
             "#f7f7f7"
            ],
            [
             0.6,
             "#e6f5d0"
            ],
            [
             0.7,
             "#b8e186"
            ],
            [
             0.8,
             "#7fbc41"
            ],
            [
             0.9,
             "#4d9221"
            ],
            [
             1,
             "#276419"
            ]
           ],
           "sequential": [
            [
             0,
             "#0d0887"
            ],
            [
             0.1111111111111111,
             "#46039f"
            ],
            [
             0.2222222222222222,
             "#7201a8"
            ],
            [
             0.3333333333333333,
             "#9c179e"
            ],
            [
             0.4444444444444444,
             "#bd3786"
            ],
            [
             0.5555555555555556,
             "#d8576b"
            ],
            [
             0.6666666666666666,
             "#ed7953"
            ],
            [
             0.7777777777777778,
             "#fb9f3a"
            ],
            [
             0.8888888888888888,
             "#fdca26"
            ],
            [
             1,
             "#f0f921"
            ]
           ],
           "sequentialminus": [
            [
             0,
             "#0d0887"
            ],
            [
             0.1111111111111111,
             "#46039f"
            ],
            [
             0.2222222222222222,
             "#7201a8"
            ],
            [
             0.3333333333333333,
             "#9c179e"
            ],
            [
             0.4444444444444444,
             "#bd3786"
            ],
            [
             0.5555555555555556,
             "#d8576b"
            ],
            [
             0.6666666666666666,
             "#ed7953"
            ],
            [
             0.7777777777777778,
             "#fb9f3a"
            ],
            [
             0.8888888888888888,
             "#fdca26"
            ],
            [
             1,
             "#f0f921"
            ]
           ]
          },
          "colorway": [
           "#636efa",
           "#EF553B",
           "#00cc96",
           "#ab63fa",
           "#FFA15A",
           "#19d3f3",
           "#FF6692",
           "#B6E880",
           "#FF97FF",
           "#FECB52"
          ],
          "font": {
           "color": "#2a3f5f"
          },
          "geo": {
           "bgcolor": "white",
           "lakecolor": "white",
           "landcolor": "#E5ECF6",
           "showlakes": true,
           "showland": true,
           "subunitcolor": "white"
          },
          "hoverlabel": {
           "align": "left"
          },
          "hovermode": "closest",
          "mapbox": {
           "style": "light"
          },
          "paper_bgcolor": "white",
          "plot_bgcolor": "#E5ECF6",
          "polar": {
           "angularaxis": {
            "gridcolor": "white",
            "linecolor": "white",
            "ticks": ""
           },
           "bgcolor": "#E5ECF6",
           "radialaxis": {
            "gridcolor": "white",
            "linecolor": "white",
            "ticks": ""
           }
          },
          "scene": {
           "xaxis": {
            "backgroundcolor": "#E5ECF6",
            "gridcolor": "white",
            "gridwidth": 2,
            "linecolor": "white",
            "showbackground": true,
            "ticks": "",
            "zerolinecolor": "white"
           },
           "yaxis": {
            "backgroundcolor": "#E5ECF6",
            "gridcolor": "white",
            "gridwidth": 2,
            "linecolor": "white",
            "showbackground": true,
            "ticks": "",
            "zerolinecolor": "white"
           },
           "zaxis": {
            "backgroundcolor": "#E5ECF6",
            "gridcolor": "white",
            "gridwidth": 2,
            "linecolor": "white",
            "showbackground": true,
            "ticks": "",
            "zerolinecolor": "white"
           }
          },
          "shapedefaults": {
           "line": {
            "color": "#2a3f5f"
           }
          },
          "ternary": {
           "aaxis": {
            "gridcolor": "white",
            "linecolor": "white",
            "ticks": ""
           },
           "baxis": {
            "gridcolor": "white",
            "linecolor": "white",
            "ticks": ""
           },
           "bgcolor": "#E5ECF6",
           "caxis": {
            "gridcolor": "white",
            "linecolor": "white",
            "ticks": ""
           }
          },
          "title": {
           "x": 0.05
          },
          "xaxis": {
           "automargin": true,
           "gridcolor": "white",
           "linecolor": "white",
           "ticks": "",
           "title": {
            "standoff": 15
           },
           "zerolinecolor": "white",
           "zerolinewidth": 2
          },
          "yaxis": {
           "automargin": true,
           "gridcolor": "white",
           "linecolor": "white",
           "ticks": "",
           "title": {
            "standoff": 15
           },
           "zerolinecolor": "white",
           "zerolinewidth": 2
          }
         }
        },
        "xaxis": {
         "anchor": "y",
         "categoryorder": "total ascending",
         "domain": [
          0,
          1
         ],
         "title": {
          "text": "Country"
         }
        },
        "yaxis": {
         "anchor": "x",
         "domain": [
          0,
          1
         ],
         "title": {
          "text": "Users"
         }
        }
       }
      }
     },
     "metadata": {},
     "output_type": "display_data"
    }
   ],
   "source": [
    "df = pd.read_csv(\"VizTool_users.csv\")\n",
    "#print(myData)\n",
    "\n",
    "df = df[df.Country != 'United States']\n",
    "#df = df[df.Region != '(not set)']\n",
    "\n",
    "df = df[df.Users >=1]\n",
    "df = df[df.Country != 'RÃ©union']\n",
    "df = df[df.Country != 'TÃ¼rkiye']\n",
    "df.sort_values(by='Users', inplace=True)\n",
    "\n",
    "fig = px.bar(df, x='Country', y='Users',\n",
    "             hover_data=['Users','Region','Engaged sessions','Engagement rate','Average engagement time'], color='Users',\n",
    "             height=400).update_xaxes(categoryorder=\"total ascending\")\n",
    "fig.show()"
   ]
  },
  {
   "cell_type": "markdown",
   "metadata": {},
   "source": [
    "3. Use country_converter to update the country names to machine readable country codes.\n",
    "4. Use the country codes to generate a world map of international users."
   ]
  },
  {
   "cell_type": "code",
   "execution_count": 92,
   "metadata": {},
   "outputs": [
    {
     "name": "stderr",
     "output_type": "stream",
     "text": [
      "CuraÃ§ao not found in regex\n"
     ]
    },
    {
     "name": "stdout",
     "output_type": "stream",
     "text": [
      "                 Country              Region  Users  New users  \\\n",
      "117             CuraÃ§ao           (not set)      1          1   \n",
      "137            Indonesia       North Sumatra      1          0   \n",
      "138            Indonesia           West Java      1          1   \n",
      "139            Indonesia  West Nusa Tenggara      1          0   \n",
      "140            Indonesia          West Papua      1          1   \n",
      "..                   ...                 ...    ...        ...   \n",
      "25                 China           (not set)     11          7   \n",
      "24             Australia          Queensland     12         11   \n",
      "19   U.S. Virgin Islands          St. Thomas     14         12   \n",
      "15        United Kingdom             England     23         23   \n",
      "14           Puerto Rico            San Juan     29         26   \n",
      "\n",
      "     Engaged sessions  Engagement rate  Engaged sessions per user  \\\n",
      "117                 1         1.000000                   1.000000   \n",
      "137                 0         0.000000                   0.000000   \n",
      "138                 1         1.000000                   1.000000   \n",
      "139                 0         0.000000                   0.000000   \n",
      "140                 1         0.500000                   1.000000   \n",
      "..                ...              ...                        ...   \n",
      "25                 11         0.647059                   1.000000   \n",
      "24                  5         0.357143                   0.416667   \n",
      "19                  7         0.388889                   0.500000   \n",
      "15                 16         0.500000                   0.695652   \n",
      "14                 15         0.365854                   0.517241   \n",
      "\n",
      "     Average engagement time  Event count  \n",
      "117                16.000000            6  \n",
      "137                 0.000000            9  \n",
      "138                 8.000000            5  \n",
      "139                 0.000000           10  \n",
      "140                16.000000            9  \n",
      "..                       ...          ...  \n",
      "25                 89.454545          108  \n",
      "24                 30.916667           67  \n",
      "19                 21.928571           95  \n",
      "15                 22.173913          150  \n",
      "14                 25.137931          185  \n",
      "\n",
      "[143 rows x 9 columns]\n"
     ]
    },
    {
     "data": {
      "application/vnd.plotly.v1+json": {
       "config": {
        "plotlyServerURL": "https://plot.ly"
       },
       "data": [
        {
         "coloraxis": "coloraxis",
         "customdata": [
          [
           9,
           3,
           1.25,
           39.625
          ],
          [
           1,
           0,
           0,
           0
          ],
          [
           35,
           8,
           0.69047619,
           87.3452381
          ],
          [
           2,
           0,
           0,
           0
          ],
          [
           2,
           2,
           0.666666667,
           10.5
          ],
          [
           1,
           0,
           0,
           0
          ],
          [
           3,
           2,
           1,
           60.5
          ],
          [
           11,
           8,
           2.5,
           85.25
          ],
          [
           1,
           1,
           1,
           36
          ],
          [
           1,
           0,
           0,
           0
          ],
          [
           19,
           20,
           4.147058824,
           451.95454545
          ],
          [
           9,
           5,
           1.0833333330000001,
           43.08333333
          ],
          [
           10,
           5,
           0.555555556,
           17.33333333
          ],
          [
           1,
           0,
           0,
           0
          ],
          [
           1,
           1,
           1,
           16
          ],
          [
           2,
           0,
           0,
           4
          ],
          [
           11,
           2,
           1.066666667,
           35.111111109999996
          ],
          [
           4,
           0,
           0,
           0
          ],
          [
           1,
           1,
           1,
           39
          ],
          [
           14,
           2,
           0.666666667,
           56.66666667
          ],
          [
           1,
           1,
           1,
           23
          ],
          [
           13,
           6,
           1.625,
           33.16666667
          ],
          [
           2,
           1,
           1,
           21
          ],
          [
           1,
           1,
           1,
           14
          ],
          [
           9,
           6,
           0.352941176,
           9.888888889
          ],
          [
           2,
           2,
           1,
           121
          ],
          [
           3,
           3,
           2,
           376
          ],
          [
           12,
           5,
           1.910714286,
           84.8
          ],
          [
           7,
           1,
           0.166666667,
           0.166666667
          ],
          [
           2,
           0,
           0,
           0
          ],
          [
           3,
           2,
           2,
           48
          ],
          [
           3,
           0,
           0,
           0
          ],
          [
           3,
           0,
           0,
           0
          ],
          [
           2,
           0,
           0,
           0
          ],
          [
           1,
           0,
           0,
           0
          ],
          [
           7,
           3,
           1.1666666669999999,
           77
          ],
          [
           1,
           1,
           1,
           12
          ],
          [
           7,
           2,
           0.285714286,
           12.57142857
          ],
          [
           2,
           2,
           2,
           52
          ],
          [
           8,
           3,
           2.333333333,
           123
          ],
          [
           2,
           3,
           0.6,
           47
          ],
          [
           2,
           1,
           0.125,
           0
          ],
          [
           1,
           2,
           0.5,
           38
          ],
          [
           8,
           5,
           4.5,
           375
          ],
          [
           2,
           1,
           0.5,
           3
          ],
          [
           1,
           0,
           0,
           0
          ],
          [
           46,
           25,
           2.099186992,
           118.73793103
          ],
          [
           1,
           1,
           1,
           147
          ],
          [
           1,
           0,
           0,
           0
          ],
          [
           2,
           4,
           0.666666667,
           295.5
          ],
          [
           1,
           0,
           0,
           0
          ],
          [
           1,
           0,
           0,
           0
          ],
          [
           1,
           0,
           0,
           9
          ],
          [
           2,
           2,
           2,
           41
          ],
          [
           1,
           1,
           1,
           2
          ],
          [
           3,
           1,
           1,
           138
          ],
          [
           2,
           0,
           0,
           0
          ],
          [
           4,
           3,
           1.5,
           50
          ],
          [
           1,
           1,
           1,
           35
          ],
          [
           6,
           0,
           0,
           0
          ],
          [
           1,
           0,
           0,
           0
          ],
          [
           4,
           2,
           0.833333333,
           56
          ],
          [
           21,
           11,
           0.833333333,
           33.5
          ],
          [
           1,
           0,
           0,
           0
          ],
          [
           26,
           17,
           1,
           51.67391304
          ],
          [
           3,
           2,
           1.5,
           608.5
          ]
         ],
         "geo": "geo",
         "hovertemplate": "<b>%{hovertext}</b><br><br>locations=%{location}<br>Users=%{customdata[0]}<br>Engaged Sessions=%{z}<br>Engagement Rate=%{customdata[2]}<br>Average Engagement Time=%{customdata[3]}<extra></extra>",
         "hovertext": [
          "American Samoa",
          "Argentina",
          "Australia",
          "Austria",
          "Barbados",
          "Belgium",
          "Brazil",
          "Canada",
          "Cayman Islands",
          "Chile",
          "China",
          "Colombia",
          "Costa Rica",
          "Croatia",
          "CuraÃ§ao",
          "Cyprus",
          "Dominican Republic",
          "Egypt",
          "Finland",
          "France",
          "French Polynesia",
          "Germany",
          "Greece",
          "Guadeloupe",
          "Guam",
          "Hong Kong",
          "India",
          "Indonesia",
          "Ireland",
          "Israel",
          "Italy",
          "Jamaica",
          "Japan",
          "Maldives",
          "Marshall Islands",
          "Mexico",
          "Mozambique",
          "Netherlands",
          "New Zealand",
          "Norway",
          "Panama",
          "Papua New Guinea",
          "Peru",
          "Philippines",
          "Poland",
          "Portugal",
          "Puerto Rico",
          "Romania",
          "Samoa",
          "Saudi Arabia",
          "Slovenia",
          "South Africa",
          "South Korea",
          "Spain",
          "St. Martin",
          "Sweden",
          "Switzerland",
          "Taiwan",
          "Tanzania",
          "Thailand",
          "Trinidad & Tobago",
          "Turkey",
          "U.S. Virgin Islands",
          "United Arab Emirates",
          "United Kingdom",
          "Vietnam"
         ],
         "locations": [
          "ASM",
          "ARG",
          "AUS",
          "AUT",
          "BRB",
          "BEL",
          "BRA",
          "CAN",
          "CYM",
          "CHL",
          "CHN",
          "COL",
          "CRI",
          "HRV",
          "not found",
          "CYP",
          "DOM",
          "EGY",
          "FIN",
          "FRA",
          "PYF",
          "DEU",
          "GRC",
          "GLP",
          "GUM",
          "HKG",
          "IND",
          "IDN",
          "IRL",
          "ISR",
          "ITA",
          "JAM",
          "JPN",
          "MDV",
          "MHL",
          "MEX",
          "MOZ",
          "NLD",
          "NZL",
          "NOR",
          "PAN",
          "PNG",
          "PER",
          "PHL",
          "POL",
          "PRT",
          "PRI",
          "ROU",
          "WSM",
          "SAU",
          "SVN",
          "ZAF",
          "KOR",
          "ESP",
          "MAF",
          "SWE",
          "CHE",
          "TWN",
          "TZA",
          "THA",
          "TTO",
          "TUR",
          "VIR",
          "ARE",
          "GBR",
          "VNM"
         ],
         "name": "",
         "type": "choropleth",
         "z": [
          3,
          0,
          8,
          0,
          2,
          0,
          2,
          8,
          1,
          0,
          20,
          5,
          5,
          0,
          1,
          0,
          2,
          0,
          1,
          2,
          1,
          6,
          1,
          1,
          6,
          2,
          3,
          5,
          1,
          0,
          2,
          0,
          0,
          0,
          0,
          3,
          1,
          2,
          2,
          3,
          3,
          1,
          2,
          5,
          1,
          0,
          25,
          1,
          0,
          4,
          0,
          0,
          0,
          2,
          1,
          1,
          0,
          3,
          1,
          0,
          0,
          2,
          11,
          0,
          17,
          2
         ]
        }
       ],
       "layout": {
        "coloraxis": {
         "colorbar": {
          "title": {
           "text": "Engaged Sessions"
          }
         },
         "colorscale": [
          [
           0,
           "#0d0887"
          ],
          [
           0.1111111111111111,
           "#46039f"
          ],
          [
           0.2222222222222222,
           "#7201a8"
          ],
          [
           0.3333333333333333,
           "#9c179e"
          ],
          [
           0.4444444444444444,
           "#bd3786"
          ],
          [
           0.5555555555555556,
           "#d8576b"
          ],
          [
           0.6666666666666666,
           "#ed7953"
          ],
          [
           0.7777777777777778,
           "#fb9f3a"
          ],
          [
           0.8888888888888888,
           "#fdca26"
          ],
          [
           1,
           "#f0f921"
          ]
         ]
        },
        "geo": {
         "center": {},
         "domain": {
          "x": [
           0,
           1
          ],
          "y": [
           0,
           1
          ]
         },
         "oceancolor": "LightBlue",
         "resolution": 50,
         "showocean": true
        },
        "legend": {
         "tracegroupgap": 0
        },
        "margin": {
         "t": 60
        },
        "template": {
         "data": {
          "bar": [
           {
            "error_x": {
             "color": "#2a3f5f"
            },
            "error_y": {
             "color": "#2a3f5f"
            },
            "marker": {
             "line": {
              "color": "#E5ECF6",
              "width": 0.5
             },
             "pattern": {
              "fillmode": "overlay",
              "size": 10,
              "solidity": 0.2
             }
            },
            "type": "bar"
           }
          ],
          "barpolar": [
           {
            "marker": {
             "line": {
              "color": "#E5ECF6",
              "width": 0.5
             },
             "pattern": {
              "fillmode": "overlay",
              "size": 10,
              "solidity": 0.2
             }
            },
            "type": "barpolar"
           }
          ],
          "carpet": [
           {
            "aaxis": {
             "endlinecolor": "#2a3f5f",
             "gridcolor": "white",
             "linecolor": "white",
             "minorgridcolor": "white",
             "startlinecolor": "#2a3f5f"
            },
            "baxis": {
             "endlinecolor": "#2a3f5f",
             "gridcolor": "white",
             "linecolor": "white",
             "minorgridcolor": "white",
             "startlinecolor": "#2a3f5f"
            },
            "type": "carpet"
           }
          ],
          "choropleth": [
           {
            "colorbar": {
             "outlinewidth": 0,
             "ticks": ""
            },
            "type": "choropleth"
           }
          ],
          "contour": [
           {
            "colorbar": {
             "outlinewidth": 0,
             "ticks": ""
            },
            "colorscale": [
             [
              0,
              "#0d0887"
             ],
             [
              0.1111111111111111,
              "#46039f"
             ],
             [
              0.2222222222222222,
              "#7201a8"
             ],
             [
              0.3333333333333333,
              "#9c179e"
             ],
             [
              0.4444444444444444,
              "#bd3786"
             ],
             [
              0.5555555555555556,
              "#d8576b"
             ],
             [
              0.6666666666666666,
              "#ed7953"
             ],
             [
              0.7777777777777778,
              "#fb9f3a"
             ],
             [
              0.8888888888888888,
              "#fdca26"
             ],
             [
              1,
              "#f0f921"
             ]
            ],
            "type": "contour"
           }
          ],
          "contourcarpet": [
           {
            "colorbar": {
             "outlinewidth": 0,
             "ticks": ""
            },
            "type": "contourcarpet"
           }
          ],
          "heatmap": [
           {
            "colorbar": {
             "outlinewidth": 0,
             "ticks": ""
            },
            "colorscale": [
             [
              0,
              "#0d0887"
             ],
             [
              0.1111111111111111,
              "#46039f"
             ],
             [
              0.2222222222222222,
              "#7201a8"
             ],
             [
              0.3333333333333333,
              "#9c179e"
             ],
             [
              0.4444444444444444,
              "#bd3786"
             ],
             [
              0.5555555555555556,
              "#d8576b"
             ],
             [
              0.6666666666666666,
              "#ed7953"
             ],
             [
              0.7777777777777778,
              "#fb9f3a"
             ],
             [
              0.8888888888888888,
              "#fdca26"
             ],
             [
              1,
              "#f0f921"
             ]
            ],
            "type": "heatmap"
           }
          ],
          "heatmapgl": [
           {
            "colorbar": {
             "outlinewidth": 0,
             "ticks": ""
            },
            "colorscale": [
             [
              0,
              "#0d0887"
             ],
             [
              0.1111111111111111,
              "#46039f"
             ],
             [
              0.2222222222222222,
              "#7201a8"
             ],
             [
              0.3333333333333333,
              "#9c179e"
             ],
             [
              0.4444444444444444,
              "#bd3786"
             ],
             [
              0.5555555555555556,
              "#d8576b"
             ],
             [
              0.6666666666666666,
              "#ed7953"
             ],
             [
              0.7777777777777778,
              "#fb9f3a"
             ],
             [
              0.8888888888888888,
              "#fdca26"
             ],
             [
              1,
              "#f0f921"
             ]
            ],
            "type": "heatmapgl"
           }
          ],
          "histogram": [
           {
            "marker": {
             "pattern": {
              "fillmode": "overlay",
              "size": 10,
              "solidity": 0.2
             }
            },
            "type": "histogram"
           }
          ],
          "histogram2d": [
           {
            "colorbar": {
             "outlinewidth": 0,
             "ticks": ""
            },
            "colorscale": [
             [
              0,
              "#0d0887"
             ],
             [
              0.1111111111111111,
              "#46039f"
             ],
             [
              0.2222222222222222,
              "#7201a8"
             ],
             [
              0.3333333333333333,
              "#9c179e"
             ],
             [
              0.4444444444444444,
              "#bd3786"
             ],
             [
              0.5555555555555556,
              "#d8576b"
             ],
             [
              0.6666666666666666,
              "#ed7953"
             ],
             [
              0.7777777777777778,
              "#fb9f3a"
             ],
             [
              0.8888888888888888,
              "#fdca26"
             ],
             [
              1,
              "#f0f921"
             ]
            ],
            "type": "histogram2d"
           }
          ],
          "histogram2dcontour": [
           {
            "colorbar": {
             "outlinewidth": 0,
             "ticks": ""
            },
            "colorscale": [
             [
              0,
              "#0d0887"
             ],
             [
              0.1111111111111111,
              "#46039f"
             ],
             [
              0.2222222222222222,
              "#7201a8"
             ],
             [
              0.3333333333333333,
              "#9c179e"
             ],
             [
              0.4444444444444444,
              "#bd3786"
             ],
             [
              0.5555555555555556,
              "#d8576b"
             ],
             [
              0.6666666666666666,
              "#ed7953"
             ],
             [
              0.7777777777777778,
              "#fb9f3a"
             ],
             [
              0.8888888888888888,
              "#fdca26"
             ],
             [
              1,
              "#f0f921"
             ]
            ],
            "type": "histogram2dcontour"
           }
          ],
          "mesh3d": [
           {
            "colorbar": {
             "outlinewidth": 0,
             "ticks": ""
            },
            "type": "mesh3d"
           }
          ],
          "parcoords": [
           {
            "line": {
             "colorbar": {
              "outlinewidth": 0,
              "ticks": ""
             }
            },
            "type": "parcoords"
           }
          ],
          "pie": [
           {
            "automargin": true,
            "type": "pie"
           }
          ],
          "scatter": [
           {
            "fillpattern": {
             "fillmode": "overlay",
             "size": 10,
             "solidity": 0.2
            },
            "type": "scatter"
           }
          ],
          "scatter3d": [
           {
            "line": {
             "colorbar": {
              "outlinewidth": 0,
              "ticks": ""
             }
            },
            "marker": {
             "colorbar": {
              "outlinewidth": 0,
              "ticks": ""
             }
            },
            "type": "scatter3d"
           }
          ],
          "scattercarpet": [
           {
            "marker": {
             "colorbar": {
              "outlinewidth": 0,
              "ticks": ""
             }
            },
            "type": "scattercarpet"
           }
          ],
          "scattergeo": [
           {
            "marker": {
             "colorbar": {
              "outlinewidth": 0,
              "ticks": ""
             }
            },
            "type": "scattergeo"
           }
          ],
          "scattergl": [
           {
            "marker": {
             "colorbar": {
              "outlinewidth": 0,
              "ticks": ""
             }
            },
            "type": "scattergl"
           }
          ],
          "scattermapbox": [
           {
            "marker": {
             "colorbar": {
              "outlinewidth": 0,
              "ticks": ""
             }
            },
            "type": "scattermapbox"
           }
          ],
          "scatterpolar": [
           {
            "marker": {
             "colorbar": {
              "outlinewidth": 0,
              "ticks": ""
             }
            },
            "type": "scatterpolar"
           }
          ],
          "scatterpolargl": [
           {
            "marker": {
             "colorbar": {
              "outlinewidth": 0,
              "ticks": ""
             }
            },
            "type": "scatterpolargl"
           }
          ],
          "scatterternary": [
           {
            "marker": {
             "colorbar": {
              "outlinewidth": 0,
              "ticks": ""
             }
            },
            "type": "scatterternary"
           }
          ],
          "surface": [
           {
            "colorbar": {
             "outlinewidth": 0,
             "ticks": ""
            },
            "colorscale": [
             [
              0,
              "#0d0887"
             ],
             [
              0.1111111111111111,
              "#46039f"
             ],
             [
              0.2222222222222222,
              "#7201a8"
             ],
             [
              0.3333333333333333,
              "#9c179e"
             ],
             [
              0.4444444444444444,
              "#bd3786"
             ],
             [
              0.5555555555555556,
              "#d8576b"
             ],
             [
              0.6666666666666666,
              "#ed7953"
             ],
             [
              0.7777777777777778,
              "#fb9f3a"
             ],
             [
              0.8888888888888888,
              "#fdca26"
             ],
             [
              1,
              "#f0f921"
             ]
            ],
            "type": "surface"
           }
          ],
          "table": [
           {
            "cells": {
             "fill": {
              "color": "#EBF0F8"
             },
             "line": {
              "color": "white"
             }
            },
            "header": {
             "fill": {
              "color": "#C8D4E3"
             },
             "line": {
              "color": "white"
             }
            },
            "type": "table"
           }
          ]
         },
         "layout": {
          "annotationdefaults": {
           "arrowcolor": "#2a3f5f",
           "arrowhead": 0,
           "arrowwidth": 1
          },
          "autotypenumbers": "strict",
          "coloraxis": {
           "colorbar": {
            "outlinewidth": 0,
            "ticks": ""
           }
          },
          "colorscale": {
           "diverging": [
            [
             0,
             "#8e0152"
            ],
            [
             0.1,
             "#c51b7d"
            ],
            [
             0.2,
             "#de77ae"
            ],
            [
             0.3,
             "#f1b6da"
            ],
            [
             0.4,
             "#fde0ef"
            ],
            [
             0.5,
             "#f7f7f7"
            ],
            [
             0.6,
             "#e6f5d0"
            ],
            [
             0.7,
             "#b8e186"
            ],
            [
             0.8,
             "#7fbc41"
            ],
            [
             0.9,
             "#4d9221"
            ],
            [
             1,
             "#276419"
            ]
           ],
           "sequential": [
            [
             0,
             "#0d0887"
            ],
            [
             0.1111111111111111,
             "#46039f"
            ],
            [
             0.2222222222222222,
             "#7201a8"
            ],
            [
             0.3333333333333333,
             "#9c179e"
            ],
            [
             0.4444444444444444,
             "#bd3786"
            ],
            [
             0.5555555555555556,
             "#d8576b"
            ],
            [
             0.6666666666666666,
             "#ed7953"
            ],
            [
             0.7777777777777778,
             "#fb9f3a"
            ],
            [
             0.8888888888888888,
             "#fdca26"
            ],
            [
             1,
             "#f0f921"
            ]
           ],
           "sequentialminus": [
            [
             0,
             "#0d0887"
            ],
            [
             0.1111111111111111,
             "#46039f"
            ],
            [
             0.2222222222222222,
             "#7201a8"
            ],
            [
             0.3333333333333333,
             "#9c179e"
            ],
            [
             0.4444444444444444,
             "#bd3786"
            ],
            [
             0.5555555555555556,
             "#d8576b"
            ],
            [
             0.6666666666666666,
             "#ed7953"
            ],
            [
             0.7777777777777778,
             "#fb9f3a"
            ],
            [
             0.8888888888888888,
             "#fdca26"
            ],
            [
             1,
             "#f0f921"
            ]
           ]
          },
          "colorway": [
           "#636efa",
           "#EF553B",
           "#00cc96",
           "#ab63fa",
           "#FFA15A",
           "#19d3f3",
           "#FF6692",
           "#B6E880",
           "#FF97FF",
           "#FECB52"
          ],
          "font": {
           "color": "#2a3f5f"
          },
          "geo": {
           "bgcolor": "white",
           "lakecolor": "white",
           "landcolor": "#E5ECF6",
           "showlakes": true,
           "showland": true,
           "subunitcolor": "white"
          },
          "hoverlabel": {
           "align": "left"
          },
          "hovermode": "closest",
          "mapbox": {
           "style": "light"
          },
          "paper_bgcolor": "white",
          "plot_bgcolor": "#E5ECF6",
          "polar": {
           "angularaxis": {
            "gridcolor": "white",
            "linecolor": "white",
            "ticks": ""
           },
           "bgcolor": "#E5ECF6",
           "radialaxis": {
            "gridcolor": "white",
            "linecolor": "white",
            "ticks": ""
           }
          },
          "scene": {
           "xaxis": {
            "backgroundcolor": "#E5ECF6",
            "gridcolor": "white",
            "gridwidth": 2,
            "linecolor": "white",
            "showbackground": true,
            "ticks": "",
            "zerolinecolor": "white"
           },
           "yaxis": {
            "backgroundcolor": "#E5ECF6",
            "gridcolor": "white",
            "gridwidth": 2,
            "linecolor": "white",
            "showbackground": true,
            "ticks": "",
            "zerolinecolor": "white"
           },
           "zaxis": {
            "backgroundcolor": "#E5ECF6",
            "gridcolor": "white",
            "gridwidth": 2,
            "linecolor": "white",
            "showbackground": true,
            "ticks": "",
            "zerolinecolor": "white"
           }
          },
          "shapedefaults": {
           "line": {
            "color": "#2a3f5f"
           }
          },
          "ternary": {
           "aaxis": {
            "gridcolor": "white",
            "linecolor": "white",
            "ticks": ""
           },
           "baxis": {
            "gridcolor": "white",
            "linecolor": "white",
            "ticks": ""
           },
           "bgcolor": "#E5ECF6",
           "caxis": {
            "gridcolor": "white",
            "linecolor": "white",
            "ticks": ""
           }
          },
          "title": {
           "x": 0.05
          },
          "xaxis": {
           "automargin": true,
           "gridcolor": "white",
           "linecolor": "white",
           "ticks": "",
           "title": {
            "standoff": 15
           },
           "zerolinecolor": "white",
           "zerolinewidth": 2
          },
          "yaxis": {
           "automargin": true,
           "gridcolor": "white",
           "linecolor": "white",
           "ticks": "",
           "title": {
            "standoff": 15
           },
           "zerolinecolor": "white",
           "zerolinewidth": 2
          }
         }
        }
       }
      }
     },
     "metadata": {},
     "output_type": "display_data"
    }
   ],
   "source": [
    "import country_converter as coco\n",
    "cc = coco.CountryConverter()\n",
    "\n",
    "countryCodeList =[]\n",
    "print(df)\n",
    "#df = df.groupby('Country', as_index=False)['Users'].sum()\n",
    "sortedData = df.groupby('Country')['Users'].sum()\n",
    "sessionsPerUserDF = df.groupby('Country')['Engaged sessions per user'].sum()\n",
    "engagedSessionDF = df.groupby('Country')['Engaged sessions'].sum()\n",
    "engagementRateDF = df.groupby('Country')['Engagement rate'].sum()\n",
    "engagementTimeDF = df.groupby('Country')['Average engagement time'].sum()\n",
    "#print(engagedSessionDF)\n",
    "\n",
    "sortedDataFrame = pd.DataFrame({'Country':sortedData.index, 'Users':sortedData.values, 'Engaged Sessions':engagedSessionDF.values, 'Engagement Rate':engagementRateDF.values, 'Average Engagement Time':engagementTimeDF.values, 'Engaged Sessions per User':sessionsPerUserDF.values})\n",
    "sortedDataFrame = sortedDataFrame[sortedDataFrame.Country != 'RÃ©union']\n",
    "sortedDataFrame = sortedDataFrame[sortedDataFrame.Country != 'TÃ¼rkiye']\n",
    "#print(sortedDataFrame)\n",
    "\n",
    "countryList = sortedDataFrame.Country.tolist()\n",
    "#print(str(countryList))\n",
    "for country in countryList:\n",
    "    countryCode = cc.convert(names = country, to = 'ISO3')\n",
    "    if countryCode not in countryCodeList:\n",
    "        countryCodeList.append(countryCode)\n",
    "\n",
    "numberOfUsersList = sortedDataFrame.Users.tolist()\n",
    "\n",
    "sortedDataFrame = pd.DataFrame({'Country':countryCodeList, 'Users': numberOfUsersList, 'Engaged Sessions':engagedSessionDF.values, 'Engagement Rate':engagementRateDF.values, 'Average Engagement Time':engagementTimeDF.values, 'Engaged Sessions per User':sessionsPerUserDF.values})\n",
    "\n",
    "fig = px.choropleth(sortedDataFrame, locations=countryCodeList,\n",
    "                    hover_data=['Users','Engaged Sessions','Engagement Rate','Average Engagement Time'],\n",
    "                    #color=sortedDataFrame['Users'],\n",
    "                    color=sortedDataFrame['Engaged Sessions'],\n",
    "                    hover_name=countryList, # column to add to hover information\n",
    "                    )\n",
    "\n",
    "fig.update_geos(\n",
    "    resolution=50,\n",
    "    #showcoastlines=True, coastlinecolor=\"RebeccaPurple\",\n",
    "    #showland=True, landcolor=\"LightGreen\",\n",
    "    showocean=True, oceancolor=\"LightBlue\",\n",
    "    #showlakes=True, lakecolor=\"Blue\",\n",
    "    #showrivers=True, rivercolor=\"Blue\"\n",
    ")\n",
    "\n",
    "fig.show()\n"
   ]
  },
  {
   "cell_type": "code",
   "execution_count": 77,
   "metadata": {},
   "outputs": [
    {
     "name": "stdout",
     "output_type": "stream",
     "text": [
      "TOTAL NUMBER OF USERS: 371\n",
      "TOTAL NUMBER OF SESSIONS: 181\n"
     ]
    }
   ],
   "source": [
    "meanEngagementRate = sortedDataFrame['Engagement Rate'].mean()\n",
    "meanEngagementRate = (meanEngagementRate)*100\n",
    "medianEngagementRate = sortedDataFrame['Engagement Rate'].median()\n",
    "\n",
    "meanEngagementTime = sortedDataFrame['Average Engagement Time'].mean()\n",
    "medianEngagementTime = sortedDataFrame['Average Engagement Time'].median()\n",
    "\n",
    "sortedDataFrame.describe()\n",
    "\n",
    "totalUsers = sortedDataFrame['Users'].sum()\n",
    "totalSessions = sortedDataFrame['Engaged Sessions'].sum()\n",
    "\n",
    "print(\"TOTAL NUMBER OF USERS: \" + str(totalUsers))\n",
    "print(\"TOTAL NUMBER OF SESSIONS: \" + str(totalSessions))\n",
    "\n",
    "#print(\"Mean engagement rate: \" + str(meanEngagementRate))"
   ]
  }
 ],
 "metadata": {
  "interpreter": {
   "hash": "f9ad98e64aabdb23c848b3150f3988bfada987669af20a948f315a09e337818a"
  },
  "kernelspec": {
   "display_name": "Python 3.10.4 64-bit",
   "language": "python",
   "name": "python3"
  },
  "language_info": {
   "codemirror_mode": {
    "name": "ipython",
    "version": 3
   },
   "file_extension": ".py",
   "mimetype": "text/x-python",
   "name": "python",
   "nbconvert_exporter": "python",
   "pygments_lexer": "ipython3",
   "version": "3.12.0"
  },
  "orig_nbformat": 4
 },
 "nbformat": 4,
 "nbformat_minor": 2
}
