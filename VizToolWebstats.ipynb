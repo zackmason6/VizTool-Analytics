{
 "cells": [
  {
   "cell_type": "code",
   "execution_count": 53,
   "metadata": {},
   "outputs": [],
   "source": [
    "import pandas as pd\n",
    "import plotly as py\n",
    "import plotly.graph_objs as go\n",
    "import plotly.express as px"
   ]
  },
  {
   "cell_type": "code",
   "execution_count": 142,
   "metadata": {},
   "outputs": [],
   "source": [
    "df = pd.read_csv(\"VizTool_Users.csv\")\n",
    "#print(myData)"
   ]
  },
  {
   "cell_type": "markdown",
   "metadata": {},
   "source": [
    "This workflow is to visualize NCRMP Viz Tool user data for the United States\n",
    "1. Filter the data to only include locations within the US"
   ]
  },
  {
   "cell_type": "code",
   "execution_count": 143,
   "metadata": {},
   "outputs": [
    {
     "name": "stdout",
     "output_type": "stream",
     "text": [
      "           Country                Region  Views  Total users  \\\n",
      "208  United States              Maryland    923          263   \n",
      "209  United States               Florida    663          264   \n",
      "210  United States            California    382          183   \n",
      "211  United States                Hawaii    372          159   \n",
      "212  United States              Virginia    320          264   \n",
      "213  United States            Washington    258          252   \n",
      "214  United States        South Carolina    241           74   \n",
      "215  United States         Massachusetts    164           81   \n",
      "216  United States  District of Columbia    161           76   \n",
      "217  United States        North Carolina    150           65   \n",
      "218  United States              Colorado    127           43   \n",
      "219  United States                 Texas    121          152   \n",
      "220  United States              New York    119           74   \n",
      "221  United States          Pennsylvania    115           24   \n",
      "222  United States                Oregon     93           55   \n",
      "223  United States               Wyoming     93          212   \n",
      "224  United States               Georgia     78           38   \n",
      "225  United States             Minnesota     64           17   \n",
      "226  United States                  Iowa     55          128   \n",
      "227  United States                  Ohio     43           16   \n",
      "228  United States              Illinois     43           26   \n",
      "229  United States            New Jersey     37           21   \n",
      "230  United States             Louisiana     33           17   \n",
      "231  United States              Nebraska     31            5   \n",
      "232  United States              Missouri     28           10   \n",
      "233  United States              Michigan     24           15   \n",
      "234  United States               Arizona     23           12   \n",
      "235  United States               Indiana     21           10   \n",
      "236  United States             Wisconsin     17           12   \n",
      "237  United States                 Idaho     16            3   \n",
      "238  United States              Kentucky     16            7   \n",
      "239  United States             Tennessee     16            8   \n",
      "240  United States           Mississippi     15           10   \n",
      "241  United States                Alaska     13            5   \n",
      "242  United States             (not set)     12           12   \n",
      "243  United States                Kansas     12           14   \n",
      "244  United States           Connecticut     10            7   \n",
      "245  United States                 Maine     10            6   \n",
      "246  United States               Alabama      9            7   \n",
      "247  United States               Montana      8            3   \n",
      "248  United States         New Hampshire      8            6   \n",
      "249  United States              Delaware      7            4   \n",
      "250  United States          Rhode Island      7            3   \n",
      "251  United States                Nevada      6            4   \n",
      "252  United States              Oklahoma      5            5   \n",
      "253  United States              Arkansas      4            2   \n",
      "254  United States            New Mexico      4            4   \n",
      "255  United States         West Virginia      2            2   \n",
      "256  United States                  Utah      2            2   \n",
      "257  United States          North Dakota      1            1   \n",
      "258  United States               Vermont      1            1   \n",
      "263  United States          South Dakota      0            0   \n",
      "\n",
      "     Engaged sessions  Engagement rate  Views per user  Sessions per user  \\\n",
      "208               283         0.548450        3.577519           2.000000   \n",
      "209               181         0.461735        2.559846           1.513514   \n",
      "210               102         0.411290        2.146067           1.393258   \n",
      "211               112         0.457143        2.400000           1.580645   \n",
      "212                70         0.227273        1.212121           1.166667   \n",
      "213                51         0.178947        1.032000           1.140000   \n",
      "214                52         0.460177        3.256757           1.527027   \n",
      "215                59         0.561905        2.050000           1.312500   \n",
      "216                60         0.483871        2.118421           1.631579   \n",
      "217                49         0.490000        2.343750           1.562500   \n",
      "218                27         0.402985        3.023810           1.595238   \n",
      "219                39         0.242236        0.801325           1.066225   \n",
      "220                42         0.420000        1.630137           1.369863   \n",
      "221                20         0.487805        4.791667           1.708333   \n",
      "222                27         0.303371        1.690909           1.618182   \n",
      "223                19         0.089202        0.438679           1.004717   \n",
      "224                20         0.416667        2.108108           1.297297   \n",
      "225                16         0.571429        4.000000           1.750000   \n",
      "226                23         0.179688        0.429688           1.000000   \n",
      "227                 8         0.347826        2.687500           1.437500   \n",
      "228                17         0.586207        1.720000           1.160000   \n",
      "229                13         0.500000        1.761905           1.238095   \n",
      "230                12         0.631579        2.062500           1.187500   \n",
      "231                10         0.526316        6.200000           3.800000   \n",
      "232                 8         0.666667        2.800000           1.200000   \n",
      "233                13         0.619048        1.600000           1.400000   \n",
      "234                 7         0.466667        1.916667           1.250000   \n",
      "235                 6         0.545455        2.333333           1.222222   \n",
      "236                 2         0.095238        1.416667           1.750000   \n",
      "237                 4         0.666667        5.333333           2.000000   \n",
      "238                 1         0.062500        2.285714           2.285714   \n",
      "239                 4         0.363636        2.000000           1.375000   \n",
      "240                 6         0.400000        1.500000           1.500000   \n",
      "241                 1         0.142857        2.600000           1.400000   \n",
      "242                 7         0.583333        1.000000           1.000000   \n",
      "243                 0         0.000000        0.857143           1.000000   \n",
      "244                 4         0.571429        1.666667           1.166667   \n",
      "245                 5         0.833333        1.666667           1.000000   \n",
      "246                 6         0.600000        1.285714           1.428571   \n",
      "247                 3         0.500000        2.666667           2.000000   \n",
      "248                 3         0.333333        1.333333           1.500000   \n",
      "249                 3         0.600000        1.750000           1.250000   \n",
      "250                 2         0.400000        2.333333           1.666667   \n",
      "251                 2         0.500000        1.500000           1.000000   \n",
      "252                 2         0.333333        1.000000           1.200000   \n",
      "253                 2         1.000000        2.000000           1.000000   \n",
      "254                 2         0.400000        1.000000           1.250000   \n",
      "255                 0         0.000000        1.000000           1.000000   \n",
      "256                 2         1.000000        1.000000           1.000000   \n",
      "257                 0         0.000000        1.000000           1.000000   \n",
      "258                 1         1.000000        1.000000           1.000000   \n",
      "263                 0         0.000000        0.000000           0.000000   \n",
      "\n",
      "     Event count per user  Event count  Average session duration  \n",
      "208             11.073643         2857               2064.383103  \n",
      "209              8.227799         2131               1580.710931  \n",
      "210              6.662921         1186               1023.440592  \n",
      "211              7.793548         1208               1258.481638  \n",
      "212              5.340909         1410                867.425113  \n",
      "213              4.632000         1158                391.563852  \n",
      "214              7.945946          588               1173.223076  \n",
      "215              7.087500          567               1527.048128  \n",
      "216              7.263158          552               1328.322556  \n",
      "217              7.406250          474               1454.478118  \n",
      "218              8.547619          359               1962.560314  \n",
      "219              4.410596          666                552.163800  \n",
      "220              6.178082          451               1098.075168  \n",
      "221             10.541667          253                451.911877  \n",
      "222              6.309091          347                464.773894  \n",
      "223              3.665094          777                 14.705559  \n",
      "224              7.297297          270                663.666180  \n",
      "225             10.562500          169               1208.500878  \n",
      "226              3.742188          479                 24.022020  \n",
      "227              7.625000          122                936.689102  \n",
      "228              5.760000          144               1363.873982  \n",
      "229              5.952381          125                368.175531  \n",
      "230              6.187500           99                836.801645  \n",
      "231             21.400000          107               1192.576476  \n",
      "232              8.100000           81                578.588408  \n",
      "233              6.600000           99                433.500702  \n",
      "234              6.250000           75                514.192288  \n",
      "235              8.444444           76               2129.033014  \n",
      "236              6.083333           73               1329.870774  \n",
      "237             11.000000           33                117.042350  \n",
      "238              7.714286           54                104.228772  \n",
      "239              5.875000           47                931.822014  \n",
      "240              6.600000           66                321.146284  \n",
      "241              6.200000           31                 18.426667  \n",
      "242              4.750000           57                 81.477724  \n",
      "243              3.857143           54                 16.897284  \n",
      "244              5.666667           34                140.632077  \n",
      "245              5.500000           33               1529.119518  \n",
      "246              5.857143           41                227.152796  \n",
      "247              8.333333           25                199.027172  \n",
      "248              5.666667           34                386.209366  \n",
      "249              6.750000           27                 93.828936  \n",
      "250              7.333333           22                112.995205  \n",
      "251              4.750000           19                 13.393811  \n",
      "252              4.000000           20                677.313455  \n",
      "253              6.000000           12                119.540362  \n",
      "254              5.000000           20                416.754312  \n",
      "255              3.000000            6                  4.549831  \n",
      "256              6.000000           12                565.698547  \n",
      "257              5.000000            5                  3.581928  \n",
      "258              5.000000            5                528.400458  \n",
      "263              0.000000            0                  0.000000  \n"
     ]
    }
   ],
   "source": [
    "# Get data for only the United States\n",
    "df = df[df['Country'] == 'United States']\n",
    "# display the dataframe\n",
    "print(df)\n"
   ]
  },
  {
   "cell_type": "markdown",
   "metadata": {},
   "source": [
    "2. Sort values in ascending order by number of users and build bar chart of US states by total number of users"
   ]
  },
  {
   "cell_type": "code",
   "execution_count": 150,
   "metadata": {},
   "outputs": [
    {
     "data": {
      "application/vnd.plotly.v1+json": {
       "config": {
        "plotlyServerURL": "https://plot.ly"
       },
       "data": [
        {
         "alignmentgroup": "True",
         "customdata": [
          [
           0,
           0,
           0,
           0
          ],
          [
           0,
           0,
           1,
           3.581928
          ],
          [
           1,
           1,
           1,
           528.400458
          ],
          [
           1,
           2,
           2,
           565.698547
          ],
          [
           0,
           0,
           2,
           4.549831
          ],
          [
           1,
           2,
           4,
           119.540362
          ],
          [
           0.4,
           2,
           7,
           112.995205
          ],
          [
           0.5,
           3,
           8,
           199.0271722
          ],
          [
           0.666666667,
           4,
           16,
           117.0423504
          ],
          [
           0.4,
           2,
           4,
           416.754312
          ],
          [
           0.5,
           2,
           6,
           13.393811
          ],
          [
           0.6,
           3,
           7,
           93.8289362
          ],
          [
           0.142857143,
           1,
           13,
           18.426667
          ],
          [
           0.333333333,
           2,
           5,
           677.3134545
          ],
          [
           0.52631579,
           10,
           31,
           1192.576476
          ],
          [
           0.833333333,
           5,
           10,
           1529.119518
          ],
          [
           0.333333333,
           3,
           8,
           386.2093657
          ],
          [
           0.571428571,
           4,
           10,
           140.6320768
          ],
          [
           0.0625,
           1,
           16,
           104.2287717
          ],
          [
           0.6,
           6,
           9,
           227.1527956
          ],
          [
           0.363636364,
           4,
           16,
           931.822014
          ],
          [
           0.545454546,
           6,
           21,
           2129.033014
          ],
          [
           0.4,
           6,
           15,
           321.1462845
          ],
          [
           0.666666667,
           8,
           28,
           578.5884081
          ],
          [
           0.095238095,
           2,
           17,
           1329.870774
          ],
          [
           0.466666667,
           7,
           23,
           514.1922877
          ],
          [
           0,
           0,
           12,
           16.89728387
          ],
          [
           0.619047619,
           13,
           24,
           433.5007017
          ],
          [
           0.347826087,
           8,
           43,
           936.6891016
          ],
          [
           0.631578947,
           12,
           33,
           836.8016446
          ],
          [
           0.571428571,
           16,
           64,
           1208.500878
          ],
          [
           0.5,
           13,
           37,
           368.175531
          ],
          [
           0.487804878,
           20,
           115,
           451.911877
          ],
          [
           0.586206897,
           17,
           43,
           1363.873982
          ],
          [
           0.416666667,
           20,
           78,
           663.6661803
          ],
          [
           0.402985075,
           27,
           127,
           1962.560314
          ],
          [
           0.303370787,
           27,
           93,
           464.7738941
          ],
          [
           0.49,
           49,
           150,
           1454.478118
          ],
          [
           0.42,
           42,
           119,
           1098.075168
          ],
          [
           0.460176991,
           52,
           241,
           1173.223076
          ],
          [
           0.483870968,
           60,
           161,
           1328.322556
          ],
          [
           0.561904762,
           59,
           164,
           1527.048128
          ],
          [
           0.1796875,
           23,
           55,
           24.02202022
          ],
          [
           0.242236025,
           39,
           121,
           552.1637997
          ],
          [
           0.457142857,
           112,
           372,
           1258.481638
          ],
          [
           0.411290323,
           102,
           382,
           1023.440592
          ],
          [
           0.089201878,
           19,
           93,
           14.70555932
          ],
          [
           0.178947368,
           51,
           258,
           391.5638517
          ],
          [
           0.548449612,
           283,
           923,
           2064.383103
          ],
          [
           0.227272727,
           70,
           320,
           867.4251133
          ],
          [
           0.461734694,
           181,
           663,
           1580.710931
          ]
         ],
         "hovertemplate": "Region=%{x}<br>Total users=%{y}<br>Engagement rate=%{marker.color}<br>Engaged sessions=%{customdata[1]}<br>Views=%{customdata[2]}<br>Average session duration=%{customdata[3]}<extra></extra>",
         "legendgroup": "",
         "marker": {
          "color": [
           0,
           0,
           1,
           1,
           0,
           1,
           0.4,
           0.5,
           0.666666667,
           0.4,
           0.5,
           0.6,
           0.142857143,
           0.333333333,
           0.52631579,
           0.833333333,
           0.333333333,
           0.571428571,
           0.0625,
           0.6,
           0.363636364,
           0.545454546,
           0.4,
           0.666666667,
           0.095238095,
           0.466666667,
           0,
           0.619047619,
           0.347826087,
           0.631578947,
           0.571428571,
           0.5,
           0.487804878,
           0.586206897,
           0.416666667,
           0.402985075,
           0.303370787,
           0.49,
           0.42,
           0.460176991,
           0.483870968,
           0.561904762,
           0.1796875,
           0.242236025,
           0.457142857,
           0.411290323,
           0.089201878,
           0.178947368,
           0.548449612,
           0.227272727,
           0.461734694
          ],
          "coloraxis": "coloraxis",
          "line": {
           "color": "rgb(8,40,107)",
           "width": 1.5
          },
          "pattern": {
           "shape": ""
          }
         },
         "name": "",
         "offsetgroup": "",
         "orientation": "v",
         "showlegend": false,
         "textposition": "auto",
         "type": "bar",
         "x": [
          "South Dakota",
          "North Dakota",
          "Vermont",
          "Utah",
          "West Virginia",
          "Arkansas",
          "Rhode Island",
          "Montana",
          "Idaho",
          "New Mexico",
          "Nevada",
          "Delaware",
          "Alaska",
          "Oklahoma",
          "Nebraska",
          "Maine",
          "New Hampshire",
          "Connecticut",
          "Kentucky",
          "Alabama",
          "Tennessee",
          "Indiana",
          "Mississippi",
          "Missouri",
          "Wisconsin",
          "Arizona",
          "Kansas",
          "Michigan",
          "Ohio",
          "Louisiana",
          "Minnesota",
          "New Jersey",
          "Pennsylvania",
          "Illinois",
          "Georgia",
          "Colorado",
          "Oregon",
          "North Carolina",
          "New York",
          "South Carolina",
          "District of Columbia",
          "Massachusetts",
          "Iowa",
          "Texas",
          "Hawaii",
          "California",
          "Wyoming",
          "Washington",
          "Maryland",
          "Virginia",
          "Florida"
         ],
         "xaxis": "x",
         "y": [
          0,
          1,
          1,
          2,
          2,
          2,
          3,
          3,
          3,
          4,
          4,
          4,
          5,
          5,
          5,
          6,
          6,
          7,
          7,
          7,
          8,
          10,
          10,
          10,
          12,
          12,
          14,
          15,
          16,
          17,
          17,
          21,
          24,
          26,
          38,
          43,
          55,
          65,
          74,
          74,
          76,
          81,
          128,
          152,
          159,
          183,
          212,
          252,
          263,
          264,
          264
         ],
         "yaxis": "y"
        }
       ],
       "layout": {
        "barmode": "relative",
        "coloraxis": {
         "colorbar": {
          "title": {
           "text": "Engagement rate"
          }
         },
         "colorscale": [
          [
           0,
           "rgb(247,251,255)"
          ],
          [
           0.125,
           "rgb(222,235,247)"
          ],
          [
           0.25,
           "rgb(198,219,239)"
          ],
          [
           0.375,
           "rgb(158,202,225)"
          ],
          [
           0.5,
           "rgb(107,174,214)"
          ],
          [
           0.625,
           "rgb(66,146,198)"
          ],
          [
           0.75,
           "rgb(33,113,181)"
          ],
          [
           0.875,
           "rgb(8,81,156)"
          ],
          [
           1,
           "rgb(8,48,107)"
          ]
         ]
        },
        "height": 400,
        "legend": {
         "tracegroupgap": 0
        },
        "margin": {
         "t": 60
        },
        "template": {
         "data": {
          "bar": [
           {
            "error_x": {
             "color": "#2a3f5f"
            },
            "error_y": {
             "color": "#2a3f5f"
            },
            "marker": {
             "line": {
              "color": "#E5ECF6",
              "width": 0.5
             },
             "pattern": {
              "fillmode": "overlay",
              "size": 10,
              "solidity": 0.2
             }
            },
            "type": "bar"
           }
          ],
          "barpolar": [
           {
            "marker": {
             "line": {
              "color": "#E5ECF6",
              "width": 0.5
             },
             "pattern": {
              "fillmode": "overlay",
              "size": 10,
              "solidity": 0.2
             }
            },
            "type": "barpolar"
           }
          ],
          "carpet": [
           {
            "aaxis": {
             "endlinecolor": "#2a3f5f",
             "gridcolor": "white",
             "linecolor": "white",
             "minorgridcolor": "white",
             "startlinecolor": "#2a3f5f"
            },
            "baxis": {
             "endlinecolor": "#2a3f5f",
             "gridcolor": "white",
             "linecolor": "white",
             "minorgridcolor": "white",
             "startlinecolor": "#2a3f5f"
            },
            "type": "carpet"
           }
          ],
          "choropleth": [
           {
            "colorbar": {
             "outlinewidth": 0,
             "ticks": ""
            },
            "type": "choropleth"
           }
          ],
          "contour": [
           {
            "colorbar": {
             "outlinewidth": 0,
             "ticks": ""
            },
            "colorscale": [
             [
              0,
              "#0d0887"
             ],
             [
              0.1111111111111111,
              "#46039f"
             ],
             [
              0.2222222222222222,
              "#7201a8"
             ],
             [
              0.3333333333333333,
              "#9c179e"
             ],
             [
              0.4444444444444444,
              "#bd3786"
             ],
             [
              0.5555555555555556,
              "#d8576b"
             ],
             [
              0.6666666666666666,
              "#ed7953"
             ],
             [
              0.7777777777777778,
              "#fb9f3a"
             ],
             [
              0.8888888888888888,
              "#fdca26"
             ],
             [
              1,
              "#f0f921"
             ]
            ],
            "type": "contour"
           }
          ],
          "contourcarpet": [
           {
            "colorbar": {
             "outlinewidth": 0,
             "ticks": ""
            },
            "type": "contourcarpet"
           }
          ],
          "heatmap": [
           {
            "colorbar": {
             "outlinewidth": 0,
             "ticks": ""
            },
            "colorscale": [
             [
              0,
              "#0d0887"
             ],
             [
              0.1111111111111111,
              "#46039f"
             ],
             [
              0.2222222222222222,
              "#7201a8"
             ],
             [
              0.3333333333333333,
              "#9c179e"
             ],
             [
              0.4444444444444444,
              "#bd3786"
             ],
             [
              0.5555555555555556,
              "#d8576b"
             ],
             [
              0.6666666666666666,
              "#ed7953"
             ],
             [
              0.7777777777777778,
              "#fb9f3a"
             ],
             [
              0.8888888888888888,
              "#fdca26"
             ],
             [
              1,
              "#f0f921"
             ]
            ],
            "type": "heatmap"
           }
          ],
          "heatmapgl": [
           {
            "colorbar": {
             "outlinewidth": 0,
             "ticks": ""
            },
            "colorscale": [
             [
              0,
              "#0d0887"
             ],
             [
              0.1111111111111111,
              "#46039f"
             ],
             [
              0.2222222222222222,
              "#7201a8"
             ],
             [
              0.3333333333333333,
              "#9c179e"
             ],
             [
              0.4444444444444444,
              "#bd3786"
             ],
             [
              0.5555555555555556,
              "#d8576b"
             ],
             [
              0.6666666666666666,
              "#ed7953"
             ],
             [
              0.7777777777777778,
              "#fb9f3a"
             ],
             [
              0.8888888888888888,
              "#fdca26"
             ],
             [
              1,
              "#f0f921"
             ]
            ],
            "type": "heatmapgl"
           }
          ],
          "histogram": [
           {
            "marker": {
             "pattern": {
              "fillmode": "overlay",
              "size": 10,
              "solidity": 0.2
             }
            },
            "type": "histogram"
           }
          ],
          "histogram2d": [
           {
            "colorbar": {
             "outlinewidth": 0,
             "ticks": ""
            },
            "colorscale": [
             [
              0,
              "#0d0887"
             ],
             [
              0.1111111111111111,
              "#46039f"
             ],
             [
              0.2222222222222222,
              "#7201a8"
             ],
             [
              0.3333333333333333,
              "#9c179e"
             ],
             [
              0.4444444444444444,
              "#bd3786"
             ],
             [
              0.5555555555555556,
              "#d8576b"
             ],
             [
              0.6666666666666666,
              "#ed7953"
             ],
             [
              0.7777777777777778,
              "#fb9f3a"
             ],
             [
              0.8888888888888888,
              "#fdca26"
             ],
             [
              1,
              "#f0f921"
             ]
            ],
            "type": "histogram2d"
           }
          ],
          "histogram2dcontour": [
           {
            "colorbar": {
             "outlinewidth": 0,
             "ticks": ""
            },
            "colorscale": [
             [
              0,
              "#0d0887"
             ],
             [
              0.1111111111111111,
              "#46039f"
             ],
             [
              0.2222222222222222,
              "#7201a8"
             ],
             [
              0.3333333333333333,
              "#9c179e"
             ],
             [
              0.4444444444444444,
              "#bd3786"
             ],
             [
              0.5555555555555556,
              "#d8576b"
             ],
             [
              0.6666666666666666,
              "#ed7953"
             ],
             [
              0.7777777777777778,
              "#fb9f3a"
             ],
             [
              0.8888888888888888,
              "#fdca26"
             ],
             [
              1,
              "#f0f921"
             ]
            ],
            "type": "histogram2dcontour"
           }
          ],
          "mesh3d": [
           {
            "colorbar": {
             "outlinewidth": 0,
             "ticks": ""
            },
            "type": "mesh3d"
           }
          ],
          "parcoords": [
           {
            "line": {
             "colorbar": {
              "outlinewidth": 0,
              "ticks": ""
             }
            },
            "type": "parcoords"
           }
          ],
          "pie": [
           {
            "automargin": true,
            "type": "pie"
           }
          ],
          "scatter": [
           {
            "fillpattern": {
             "fillmode": "overlay",
             "size": 10,
             "solidity": 0.2
            },
            "type": "scatter"
           }
          ],
          "scatter3d": [
           {
            "line": {
             "colorbar": {
              "outlinewidth": 0,
              "ticks": ""
             }
            },
            "marker": {
             "colorbar": {
              "outlinewidth": 0,
              "ticks": ""
             }
            },
            "type": "scatter3d"
           }
          ],
          "scattercarpet": [
           {
            "marker": {
             "colorbar": {
              "outlinewidth": 0,
              "ticks": ""
             }
            },
            "type": "scattercarpet"
           }
          ],
          "scattergeo": [
           {
            "marker": {
             "colorbar": {
              "outlinewidth": 0,
              "ticks": ""
             }
            },
            "type": "scattergeo"
           }
          ],
          "scattergl": [
           {
            "marker": {
             "colorbar": {
              "outlinewidth": 0,
              "ticks": ""
             }
            },
            "type": "scattergl"
           }
          ],
          "scattermapbox": [
           {
            "marker": {
             "colorbar": {
              "outlinewidth": 0,
              "ticks": ""
             }
            },
            "type": "scattermapbox"
           }
          ],
          "scatterpolar": [
           {
            "marker": {
             "colorbar": {
              "outlinewidth": 0,
              "ticks": ""
             }
            },
            "type": "scatterpolar"
           }
          ],
          "scatterpolargl": [
           {
            "marker": {
             "colorbar": {
              "outlinewidth": 0,
              "ticks": ""
             }
            },
            "type": "scatterpolargl"
           }
          ],
          "scatterternary": [
           {
            "marker": {
             "colorbar": {
              "outlinewidth": 0,
              "ticks": ""
             }
            },
            "type": "scatterternary"
           }
          ],
          "surface": [
           {
            "colorbar": {
             "outlinewidth": 0,
             "ticks": ""
            },
            "colorscale": [
             [
              0,
              "#0d0887"
             ],
             [
              0.1111111111111111,
              "#46039f"
             ],
             [
              0.2222222222222222,
              "#7201a8"
             ],
             [
              0.3333333333333333,
              "#9c179e"
             ],
             [
              0.4444444444444444,
              "#bd3786"
             ],
             [
              0.5555555555555556,
              "#d8576b"
             ],
             [
              0.6666666666666666,
              "#ed7953"
             ],
             [
              0.7777777777777778,
              "#fb9f3a"
             ],
             [
              0.8888888888888888,
              "#fdca26"
             ],
             [
              1,
              "#f0f921"
             ]
            ],
            "type": "surface"
           }
          ],
          "table": [
           {
            "cells": {
             "fill": {
              "color": "#EBF0F8"
             },
             "line": {
              "color": "white"
             }
            },
            "header": {
             "fill": {
              "color": "#C8D4E3"
             },
             "line": {
              "color": "white"
             }
            },
            "type": "table"
           }
          ]
         },
         "layout": {
          "annotationdefaults": {
           "arrowcolor": "#2a3f5f",
           "arrowhead": 0,
           "arrowwidth": 1
          },
          "autotypenumbers": "strict",
          "coloraxis": {
           "colorbar": {
            "outlinewidth": 0,
            "ticks": ""
           }
          },
          "colorscale": {
           "diverging": [
            [
             0,
             "#8e0152"
            ],
            [
             0.1,
             "#c51b7d"
            ],
            [
             0.2,
             "#de77ae"
            ],
            [
             0.3,
             "#f1b6da"
            ],
            [
             0.4,
             "#fde0ef"
            ],
            [
             0.5,
             "#f7f7f7"
            ],
            [
             0.6,
             "#e6f5d0"
            ],
            [
             0.7,
             "#b8e186"
            ],
            [
             0.8,
             "#7fbc41"
            ],
            [
             0.9,
             "#4d9221"
            ],
            [
             1,
             "#276419"
            ]
           ],
           "sequential": [
            [
             0,
             "#0d0887"
            ],
            [
             0.1111111111111111,
             "#46039f"
            ],
            [
             0.2222222222222222,
             "#7201a8"
            ],
            [
             0.3333333333333333,
             "#9c179e"
            ],
            [
             0.4444444444444444,
             "#bd3786"
            ],
            [
             0.5555555555555556,
             "#d8576b"
            ],
            [
             0.6666666666666666,
             "#ed7953"
            ],
            [
             0.7777777777777778,
             "#fb9f3a"
            ],
            [
             0.8888888888888888,
             "#fdca26"
            ],
            [
             1,
             "#f0f921"
            ]
           ],
           "sequentialminus": [
            [
             0,
             "#0d0887"
            ],
            [
             0.1111111111111111,
             "#46039f"
            ],
            [
             0.2222222222222222,
             "#7201a8"
            ],
            [
             0.3333333333333333,
             "#9c179e"
            ],
            [
             0.4444444444444444,
             "#bd3786"
            ],
            [
             0.5555555555555556,
             "#d8576b"
            ],
            [
             0.6666666666666666,
             "#ed7953"
            ],
            [
             0.7777777777777778,
             "#fb9f3a"
            ],
            [
             0.8888888888888888,
             "#fdca26"
            ],
            [
             1,
             "#f0f921"
            ]
           ]
          },
          "colorway": [
           "#636efa",
           "#EF553B",
           "#00cc96",
           "#ab63fa",
           "#FFA15A",
           "#19d3f3",
           "#FF6692",
           "#B6E880",
           "#FF97FF",
           "#FECB52"
          ],
          "font": {
           "color": "#2a3f5f"
          },
          "geo": {
           "bgcolor": "white",
           "lakecolor": "white",
           "landcolor": "#E5ECF6",
           "showlakes": true,
           "showland": true,
           "subunitcolor": "white"
          },
          "hoverlabel": {
           "align": "left"
          },
          "hovermode": "closest",
          "mapbox": {
           "style": "light"
          },
          "paper_bgcolor": "white",
          "plot_bgcolor": "#E5ECF6",
          "polar": {
           "angularaxis": {
            "gridcolor": "white",
            "linecolor": "white",
            "ticks": ""
           },
           "bgcolor": "#E5ECF6",
           "radialaxis": {
            "gridcolor": "white",
            "linecolor": "white",
            "ticks": ""
           }
          },
          "scene": {
           "xaxis": {
            "backgroundcolor": "#E5ECF6",
            "gridcolor": "white",
            "gridwidth": 2,
            "linecolor": "white",
            "showbackground": true,
            "ticks": "",
            "zerolinecolor": "white"
           },
           "yaxis": {
            "backgroundcolor": "#E5ECF6",
            "gridcolor": "white",
            "gridwidth": 2,
            "linecolor": "white",
            "showbackground": true,
            "ticks": "",
            "zerolinecolor": "white"
           },
           "zaxis": {
            "backgroundcolor": "#E5ECF6",
            "gridcolor": "white",
            "gridwidth": 2,
            "linecolor": "white",
            "showbackground": true,
            "ticks": "",
            "zerolinecolor": "white"
           }
          },
          "shapedefaults": {
           "line": {
            "color": "#2a3f5f"
           }
          },
          "ternary": {
           "aaxis": {
            "gridcolor": "white",
            "linecolor": "white",
            "ticks": ""
           },
           "baxis": {
            "gridcolor": "white",
            "linecolor": "white",
            "ticks": ""
           },
           "bgcolor": "#E5ECF6",
           "caxis": {
            "gridcolor": "white",
            "linecolor": "white",
            "ticks": ""
           }
          },
          "title": {
           "x": 0.05
          },
          "xaxis": {
           "automargin": true,
           "gridcolor": "white",
           "linecolor": "white",
           "ticks": "",
           "title": {
            "standoff": 15
           },
           "zerolinecolor": "white",
           "zerolinewidth": 2
          },
          "yaxis": {
           "automargin": true,
           "gridcolor": "white",
           "linecolor": "white",
           "ticks": "",
           "title": {
            "standoff": 15
           },
           "zerolinecolor": "white",
           "zerolinewidth": 2
          }
         }
        },
        "xaxis": {
         "anchor": "y",
         "categoryorder": "total ascending",
         "domain": [
          0,
          1
         ],
         "title": {
          "text": "Region"
         }
        },
        "yaxis": {
         "anchor": "x",
         "domain": [
          0,
          1
         ],
         "title": {
          "text": "Total users"
         }
        }
       }
      }
     },
     "metadata": {},
     "output_type": "display_data"
    }
   ],
   "source": [
    "# Sort values in ascending order by number of users\n",
    "df.sort_values(by='Total users', inplace=True)\n",
    "\n",
    "df.sort_values(by= 'Total users', inplace=True)\n",
    "df = df[df.Region != '(not set)']\n",
    "#myMaxValue = float(df['Engagement rate'].max())\n",
    "#print(str(myMaxValue))\n",
    "# Build bar chart\n",
    "fig = px.bar(df, x='Region', y='Total users',\n",
    "             hover_data=['Region','Engagement rate','Engaged sessions','Total users','Views','Average session duration'], color='Engagement rate', color_continuous_scale=px.colors.sequential.Blues,\n",
    "             height=400).update_xaxes(categoryorder=\"total ascending\")\n",
    "\n",
    "#fig.update_layout({'plot_bgcolor': 'rgba(0,0,0,0)','paper_bgcolor': 'rgba(0,0,0,0)',\n",
    "#})\n",
    "#fig.update_layout(font_color=\"white\")\n",
    "\n",
    "fig.update_traces(marker_line_color='rgb(8,40,107)',\n",
    "                  marker_line_width=1.5)\n",
    "fig.show()"
   ]
  },
  {
   "cell_type": "markdown",
   "metadata": {},
   "source": [
    "3. Convert long state names to 2 letter abbreviations. Filter out entries with no state or region name."
   ]
  },
  {
   "cell_type": "code",
   "execution_count": 145,
   "metadata": {},
   "outputs": [],
   "source": [
    "\n",
    "stateDict = {\n",
    "    \"Alabama\": \"AL\",\n",
    "    \"Alaska\": \"AK\",\n",
    "    \"Arizona\": \"AZ\",\n",
    "    \"Arkansas\": \"AR\",\n",
    "    \"California\": \"CA\",\n",
    "    \"Colorado\": \"CO\",\n",
    "    \"Connecticut\": \"CT\",\n",
    "    \"Delaware\": \"DE\",\n",
    "    \"Florida\": \"FL\",\n",
    "    \"Georgia\": \"GA\",\n",
    "    \"Hawaii\": \"HI\",\n",
    "    \"Idaho\": \"ID\",\n",
    "    \"Illinois\": \"IL\",\n",
    "    \"Indiana\": \"IN\",\n",
    "    \"Iowa\": \"IA\",\n",
    "    \"Kansas\": \"KS\",\n",
    "    \"Kentucky\": \"KY\",\n",
    "    \"Louisiana\": \"LA\",\n",
    "    \"Maine\": \"ME\",\n",
    "    \"Maryland\": \"MD\",\n",
    "    \"Massachusetts\": \"MA\",\n",
    "    \"Michigan\": \"MI\",\n",
    "    \"Minnesota\": \"MN\",\n",
    "    \"Mississippi\": \"MS\",\n",
    "    \"Missouri\": \"MO\",\n",
    "    \"Montana\": \"MT\",\n",
    "    \"Nebraska\": \"NE\",\n",
    "    \"Nevada\": \"NV\",\n",
    "    \"New Hampshire\": \"NH\",\n",
    "    \"New Jersey\": \"NJ\",\n",
    "    \"New Mexico\": \"NM\",\n",
    "    \"New York\": \"NY\",\n",
    "    \"North Carolina\": \"NC\",\n",
    "    \"North Dakota\": \"ND\",\n",
    "    \"Ohio\": \"OH\",\n",
    "    \"Oklahoma\": \"OK\",\n",
    "    \"Oregon\": \"OR\",\n",
    "    \"Pennsylvania\": \"PA\",\n",
    "    \"Rhode Island\": \"RI\",\n",
    "    \"South Carolina\": \"SC\",\n",
    "    \"South Dakota\": \"SD\",\n",
    "    \"Tennessee\": \"TN\",\n",
    "    \"Texas\": \"TX\",\n",
    "    \"Utah\": \"UT\",\n",
    "    \"Vermont\": \"VT\",\n",
    "    \"Virginia\": \"VA\",\n",
    "    \"Washington\": \"WA\",\n",
    "    \"West Virginia\": \"WV\",\n",
    "    \"Wisconsin\": \"WI\",\n",
    "    \"Wyoming\": \"WY\",\n",
    "    \"District of Columbia\": \"DC\",\n",
    "    \"American Samoa\": \"AS\",\n",
    "    \"Guam\": \"GU\",\n",
    "    \"Northern Mariana Islands\": \"MP\",\n",
    "    \"Puerto Rico\": \"PR\",\n",
    "    \"United States Minor Outlying Islands\": \"UM\",\n",
    "    \"U.S. Virgin Islands\": \"VI\",\n",
    "}\n",
    "\n",
    "df = df[df.Region != '(not set)']\n",
    "#print(df)\n",
    "\n",
    "stateList = []\n",
    "regionList = df['Region'].tolist()\n",
    "for region in regionList:\n",
    "    calculatedState = stateDict[region]\n",
    "    stateList.append(calculatedState)\n",
    "#countList = df['Users'].tolist()\n",
    "countList = df['Total users'].tolist()\n"
   ]
  },
  {
   "cell_type": "markdown",
   "metadata": {},
   "source": [
    "4. Build a US map of total users per state"
   ]
  },
  {
   "cell_type": "code",
   "execution_count": 146,
   "metadata": {},
   "outputs": [
    {
     "data": {
      "application/vnd.plotly.v1+json": {
       "config": {
        "plotlyServerURL": "https://plot.ly"
       },
       "data": [
        {
         "coloraxis": "coloraxis",
         "customdata": [
          [
           0
          ],
          [
           1
          ],
          [
           1
          ],
          [
           2
          ],
          [
           2
          ],
          [
           2
          ],
          [
           3
          ],
          [
           3
          ],
          [
           3
          ],
          [
           4
          ],
          [
           4
          ],
          [
           4
          ],
          [
           5
          ],
          [
           5
          ],
          [
           5
          ],
          [
           6
          ],
          [
           6
          ],
          [
           7
          ],
          [
           7
          ],
          [
           7
          ],
          [
           8
          ],
          [
           10
          ],
          [
           10
          ],
          [
           10
          ],
          [
           12
          ],
          [
           12
          ],
          [
           14
          ],
          [
           15
          ],
          [
           16
          ],
          [
           17
          ],
          [
           17
          ],
          [
           21
          ],
          [
           24
          ],
          [
           26
          ],
          [
           38
          ],
          [
           43
          ],
          [
           55
          ],
          [
           65
          ],
          [
           74
          ],
          [
           74
          ],
          [
           76
          ],
          [
           81
          ],
          [
           128
          ],
          [
           152
          ],
          [
           159
          ],
          [
           183
          ],
          [
           212
          ],
          [
           252
          ],
          [
           263
          ],
          [
           264
          ],
          [
           264
          ]
         ],
         "geo": "geo",
         "hovertemplate": "locations=%{location}<br>Total users=%{z}<extra></extra>",
         "locationmode": "USA-states",
         "locations": [
          "SD",
          "ND",
          "VT",
          "UT",
          "WV",
          "AR",
          "RI",
          "MT",
          "ID",
          "NM",
          "NV",
          "DE",
          "AK",
          "OK",
          "NE",
          "ME",
          "NH",
          "CT",
          "KY",
          "AL",
          "TN",
          "IN",
          "MS",
          "MO",
          "WI",
          "AZ",
          "KS",
          "MI",
          "OH",
          "LA",
          "MN",
          "NJ",
          "PA",
          "IL",
          "GA",
          "CO",
          "OR",
          "NC",
          "NY",
          "SC",
          "DC",
          "MA",
          "IA",
          "TX",
          "HI",
          "CA",
          "WY",
          "WA",
          "MD",
          "VA",
          "FL"
         ],
         "name": "",
         "type": "choropleth",
         "z": [
          0,
          1,
          1,
          2,
          2,
          2,
          3,
          3,
          3,
          4,
          4,
          4,
          5,
          5,
          5,
          6,
          6,
          7,
          7,
          7,
          8,
          10,
          10,
          10,
          12,
          12,
          14,
          15,
          16,
          17,
          17,
          21,
          24,
          26,
          38,
          43,
          55,
          65,
          74,
          74,
          76,
          81,
          128,
          152,
          159,
          183,
          212,
          252,
          263,
          264,
          264
         ]
        }
       ],
       "layout": {
        "coloraxis": {
         "colorbar": {
          "title": {
           "text": "Total users"
          }
         },
         "colorscale": [
          [
           0,
           "rgb(247,251,255)"
          ],
          [
           0.125,
           "rgb(222,235,247)"
          ],
          [
           0.25,
           "rgb(198,219,239)"
          ],
          [
           0.375,
           "rgb(158,202,225)"
          ],
          [
           0.5,
           "rgb(107,174,214)"
          ],
          [
           0.625,
           "rgb(66,146,198)"
          ],
          [
           0.75,
           "rgb(33,113,181)"
          ],
          [
           0.875,
           "rgb(8,81,156)"
          ],
          [
           1,
           "rgb(8,48,107)"
          ]
         ]
        },
        "geo": {
         "center": {},
         "domain": {
          "x": [
           0,
           1
          ],
          "y": [
           0,
           1
          ]
         },
         "scope": "usa"
        },
        "legend": {
         "tracegroupgap": 0
        },
        "margin": {
         "t": 60
        },
        "template": {
         "data": {
          "bar": [
           {
            "error_x": {
             "color": "#2a3f5f"
            },
            "error_y": {
             "color": "#2a3f5f"
            },
            "marker": {
             "line": {
              "color": "#E5ECF6",
              "width": 0.5
             },
             "pattern": {
              "fillmode": "overlay",
              "size": 10,
              "solidity": 0.2
             }
            },
            "type": "bar"
           }
          ],
          "barpolar": [
           {
            "marker": {
             "line": {
              "color": "#E5ECF6",
              "width": 0.5
             },
             "pattern": {
              "fillmode": "overlay",
              "size": 10,
              "solidity": 0.2
             }
            },
            "type": "barpolar"
           }
          ],
          "carpet": [
           {
            "aaxis": {
             "endlinecolor": "#2a3f5f",
             "gridcolor": "white",
             "linecolor": "white",
             "minorgridcolor": "white",
             "startlinecolor": "#2a3f5f"
            },
            "baxis": {
             "endlinecolor": "#2a3f5f",
             "gridcolor": "white",
             "linecolor": "white",
             "minorgridcolor": "white",
             "startlinecolor": "#2a3f5f"
            },
            "type": "carpet"
           }
          ],
          "choropleth": [
           {
            "colorbar": {
             "outlinewidth": 0,
             "ticks": ""
            },
            "type": "choropleth"
           }
          ],
          "contour": [
           {
            "colorbar": {
             "outlinewidth": 0,
             "ticks": ""
            },
            "colorscale": [
             [
              0,
              "#0d0887"
             ],
             [
              0.1111111111111111,
              "#46039f"
             ],
             [
              0.2222222222222222,
              "#7201a8"
             ],
             [
              0.3333333333333333,
              "#9c179e"
             ],
             [
              0.4444444444444444,
              "#bd3786"
             ],
             [
              0.5555555555555556,
              "#d8576b"
             ],
             [
              0.6666666666666666,
              "#ed7953"
             ],
             [
              0.7777777777777778,
              "#fb9f3a"
             ],
             [
              0.8888888888888888,
              "#fdca26"
             ],
             [
              1,
              "#f0f921"
             ]
            ],
            "type": "contour"
           }
          ],
          "contourcarpet": [
           {
            "colorbar": {
             "outlinewidth": 0,
             "ticks": ""
            },
            "type": "contourcarpet"
           }
          ],
          "heatmap": [
           {
            "colorbar": {
             "outlinewidth": 0,
             "ticks": ""
            },
            "colorscale": [
             [
              0,
              "#0d0887"
             ],
             [
              0.1111111111111111,
              "#46039f"
             ],
             [
              0.2222222222222222,
              "#7201a8"
             ],
             [
              0.3333333333333333,
              "#9c179e"
             ],
             [
              0.4444444444444444,
              "#bd3786"
             ],
             [
              0.5555555555555556,
              "#d8576b"
             ],
             [
              0.6666666666666666,
              "#ed7953"
             ],
             [
              0.7777777777777778,
              "#fb9f3a"
             ],
             [
              0.8888888888888888,
              "#fdca26"
             ],
             [
              1,
              "#f0f921"
             ]
            ],
            "type": "heatmap"
           }
          ],
          "heatmapgl": [
           {
            "colorbar": {
             "outlinewidth": 0,
             "ticks": ""
            },
            "colorscale": [
             [
              0,
              "#0d0887"
             ],
             [
              0.1111111111111111,
              "#46039f"
             ],
             [
              0.2222222222222222,
              "#7201a8"
             ],
             [
              0.3333333333333333,
              "#9c179e"
             ],
             [
              0.4444444444444444,
              "#bd3786"
             ],
             [
              0.5555555555555556,
              "#d8576b"
             ],
             [
              0.6666666666666666,
              "#ed7953"
             ],
             [
              0.7777777777777778,
              "#fb9f3a"
             ],
             [
              0.8888888888888888,
              "#fdca26"
             ],
             [
              1,
              "#f0f921"
             ]
            ],
            "type": "heatmapgl"
           }
          ],
          "histogram": [
           {
            "marker": {
             "pattern": {
              "fillmode": "overlay",
              "size": 10,
              "solidity": 0.2
             }
            },
            "type": "histogram"
           }
          ],
          "histogram2d": [
           {
            "colorbar": {
             "outlinewidth": 0,
             "ticks": ""
            },
            "colorscale": [
             [
              0,
              "#0d0887"
             ],
             [
              0.1111111111111111,
              "#46039f"
             ],
             [
              0.2222222222222222,
              "#7201a8"
             ],
             [
              0.3333333333333333,
              "#9c179e"
             ],
             [
              0.4444444444444444,
              "#bd3786"
             ],
             [
              0.5555555555555556,
              "#d8576b"
             ],
             [
              0.6666666666666666,
              "#ed7953"
             ],
             [
              0.7777777777777778,
              "#fb9f3a"
             ],
             [
              0.8888888888888888,
              "#fdca26"
             ],
             [
              1,
              "#f0f921"
             ]
            ],
            "type": "histogram2d"
           }
          ],
          "histogram2dcontour": [
           {
            "colorbar": {
             "outlinewidth": 0,
             "ticks": ""
            },
            "colorscale": [
             [
              0,
              "#0d0887"
             ],
             [
              0.1111111111111111,
              "#46039f"
             ],
             [
              0.2222222222222222,
              "#7201a8"
             ],
             [
              0.3333333333333333,
              "#9c179e"
             ],
             [
              0.4444444444444444,
              "#bd3786"
             ],
             [
              0.5555555555555556,
              "#d8576b"
             ],
             [
              0.6666666666666666,
              "#ed7953"
             ],
             [
              0.7777777777777778,
              "#fb9f3a"
             ],
             [
              0.8888888888888888,
              "#fdca26"
             ],
             [
              1,
              "#f0f921"
             ]
            ],
            "type": "histogram2dcontour"
           }
          ],
          "mesh3d": [
           {
            "colorbar": {
             "outlinewidth": 0,
             "ticks": ""
            },
            "type": "mesh3d"
           }
          ],
          "parcoords": [
           {
            "line": {
             "colorbar": {
              "outlinewidth": 0,
              "ticks": ""
             }
            },
            "type": "parcoords"
           }
          ],
          "pie": [
           {
            "automargin": true,
            "type": "pie"
           }
          ],
          "scatter": [
           {
            "fillpattern": {
             "fillmode": "overlay",
             "size": 10,
             "solidity": 0.2
            },
            "type": "scatter"
           }
          ],
          "scatter3d": [
           {
            "line": {
             "colorbar": {
              "outlinewidth": 0,
              "ticks": ""
             }
            },
            "marker": {
             "colorbar": {
              "outlinewidth": 0,
              "ticks": ""
             }
            },
            "type": "scatter3d"
           }
          ],
          "scattercarpet": [
           {
            "marker": {
             "colorbar": {
              "outlinewidth": 0,
              "ticks": ""
             }
            },
            "type": "scattercarpet"
           }
          ],
          "scattergeo": [
           {
            "marker": {
             "colorbar": {
              "outlinewidth": 0,
              "ticks": ""
             }
            },
            "type": "scattergeo"
           }
          ],
          "scattergl": [
           {
            "marker": {
             "colorbar": {
              "outlinewidth": 0,
              "ticks": ""
             }
            },
            "type": "scattergl"
           }
          ],
          "scattermapbox": [
           {
            "marker": {
             "colorbar": {
              "outlinewidth": 0,
              "ticks": ""
             }
            },
            "type": "scattermapbox"
           }
          ],
          "scatterpolar": [
           {
            "marker": {
             "colorbar": {
              "outlinewidth": 0,
              "ticks": ""
             }
            },
            "type": "scatterpolar"
           }
          ],
          "scatterpolargl": [
           {
            "marker": {
             "colorbar": {
              "outlinewidth": 0,
              "ticks": ""
             }
            },
            "type": "scatterpolargl"
           }
          ],
          "scatterternary": [
           {
            "marker": {
             "colorbar": {
              "outlinewidth": 0,
              "ticks": ""
             }
            },
            "type": "scatterternary"
           }
          ],
          "surface": [
           {
            "colorbar": {
             "outlinewidth": 0,
             "ticks": ""
            },
            "colorscale": [
             [
              0,
              "#0d0887"
             ],
             [
              0.1111111111111111,
              "#46039f"
             ],
             [
              0.2222222222222222,
              "#7201a8"
             ],
             [
              0.3333333333333333,
              "#9c179e"
             ],
             [
              0.4444444444444444,
              "#bd3786"
             ],
             [
              0.5555555555555556,
              "#d8576b"
             ],
             [
              0.6666666666666666,
              "#ed7953"
             ],
             [
              0.7777777777777778,
              "#fb9f3a"
             ],
             [
              0.8888888888888888,
              "#fdca26"
             ],
             [
              1,
              "#f0f921"
             ]
            ],
            "type": "surface"
           }
          ],
          "table": [
           {
            "cells": {
             "fill": {
              "color": "#EBF0F8"
             },
             "line": {
              "color": "white"
             }
            },
            "header": {
             "fill": {
              "color": "#C8D4E3"
             },
             "line": {
              "color": "white"
             }
            },
            "type": "table"
           }
          ]
         },
         "layout": {
          "annotationdefaults": {
           "arrowcolor": "#2a3f5f",
           "arrowhead": 0,
           "arrowwidth": 1
          },
          "autotypenumbers": "strict",
          "coloraxis": {
           "colorbar": {
            "outlinewidth": 0,
            "ticks": ""
           }
          },
          "colorscale": {
           "diverging": [
            [
             0,
             "#8e0152"
            ],
            [
             0.1,
             "#c51b7d"
            ],
            [
             0.2,
             "#de77ae"
            ],
            [
             0.3,
             "#f1b6da"
            ],
            [
             0.4,
             "#fde0ef"
            ],
            [
             0.5,
             "#f7f7f7"
            ],
            [
             0.6,
             "#e6f5d0"
            ],
            [
             0.7,
             "#b8e186"
            ],
            [
             0.8,
             "#7fbc41"
            ],
            [
             0.9,
             "#4d9221"
            ],
            [
             1,
             "#276419"
            ]
           ],
           "sequential": [
            [
             0,
             "#0d0887"
            ],
            [
             0.1111111111111111,
             "#46039f"
            ],
            [
             0.2222222222222222,
             "#7201a8"
            ],
            [
             0.3333333333333333,
             "#9c179e"
            ],
            [
             0.4444444444444444,
             "#bd3786"
            ],
            [
             0.5555555555555556,
             "#d8576b"
            ],
            [
             0.6666666666666666,
             "#ed7953"
            ],
            [
             0.7777777777777778,
             "#fb9f3a"
            ],
            [
             0.8888888888888888,
             "#fdca26"
            ],
            [
             1,
             "#f0f921"
            ]
           ],
           "sequentialminus": [
            [
             0,
             "#0d0887"
            ],
            [
             0.1111111111111111,
             "#46039f"
            ],
            [
             0.2222222222222222,
             "#7201a8"
            ],
            [
             0.3333333333333333,
             "#9c179e"
            ],
            [
             0.4444444444444444,
             "#bd3786"
            ],
            [
             0.5555555555555556,
             "#d8576b"
            ],
            [
             0.6666666666666666,
             "#ed7953"
            ],
            [
             0.7777777777777778,
             "#fb9f3a"
            ],
            [
             0.8888888888888888,
             "#fdca26"
            ],
            [
             1,
             "#f0f921"
            ]
           ]
          },
          "colorway": [
           "#636efa",
           "#EF553B",
           "#00cc96",
           "#ab63fa",
           "#FFA15A",
           "#19d3f3",
           "#FF6692",
           "#B6E880",
           "#FF97FF",
           "#FECB52"
          ],
          "font": {
           "color": "#2a3f5f"
          },
          "geo": {
           "bgcolor": "white",
           "lakecolor": "white",
           "landcolor": "#E5ECF6",
           "showlakes": true,
           "showland": true,
           "subunitcolor": "white"
          },
          "hoverlabel": {
           "align": "left"
          },
          "hovermode": "closest",
          "mapbox": {
           "style": "light"
          },
          "paper_bgcolor": "white",
          "plot_bgcolor": "#E5ECF6",
          "polar": {
           "angularaxis": {
            "gridcolor": "white",
            "linecolor": "white",
            "ticks": ""
           },
           "bgcolor": "#E5ECF6",
           "radialaxis": {
            "gridcolor": "white",
            "linecolor": "white",
            "ticks": ""
           }
          },
          "scene": {
           "xaxis": {
            "backgroundcolor": "#E5ECF6",
            "gridcolor": "white",
            "gridwidth": 2,
            "linecolor": "white",
            "showbackground": true,
            "ticks": "",
            "zerolinecolor": "white"
           },
           "yaxis": {
            "backgroundcolor": "#E5ECF6",
            "gridcolor": "white",
            "gridwidth": 2,
            "linecolor": "white",
            "showbackground": true,
            "ticks": "",
            "zerolinecolor": "white"
           },
           "zaxis": {
            "backgroundcolor": "#E5ECF6",
            "gridcolor": "white",
            "gridwidth": 2,
            "linecolor": "white",
            "showbackground": true,
            "ticks": "",
            "zerolinecolor": "white"
           }
          },
          "shapedefaults": {
           "line": {
            "color": "#2a3f5f"
           }
          },
          "ternary": {
           "aaxis": {
            "gridcolor": "white",
            "linecolor": "white",
            "ticks": ""
           },
           "baxis": {
            "gridcolor": "white",
            "linecolor": "white",
            "ticks": ""
           },
           "bgcolor": "#E5ECF6",
           "caxis": {
            "gridcolor": "white",
            "linecolor": "white",
            "ticks": ""
           }
          },
          "title": {
           "x": 0.05
          },
          "xaxis": {
           "automargin": true,
           "gridcolor": "white",
           "linecolor": "white",
           "ticks": "",
           "title": {
            "standoff": 15
           },
           "zerolinecolor": "white",
           "zerolinewidth": 2
          },
          "yaxis": {
           "automargin": true,
           "gridcolor": "white",
           "linecolor": "white",
           "ticks": "",
           "title": {
            "standoff": 15
           },
           "zerolinecolor": "white",
           "zerolinewidth": 2
          }
         }
        }
       }
      }
     },
     "metadata": {},
     "output_type": "display_data"
    }
   ],
   "source": [
    "#fig = px.choropleth(df, locations=stateList, locationmode=\"USA-states\", hover_data=['Users','Engaged sessions','Engagement rate','Average engagement time'], color=df['Engagement rate'], scope=\"usa\")\n",
    "\n",
    "fig = px.choropleth(df, locations=stateList, locationmode=\"USA-states\", hover_data=['Total users'], color=df['Total users'], color_continuous_scale=px.colors.sequential.Blues, scope=\"usa\")\n",
    "\n",
    "fig.show()"
   ]
  },
  {
   "cell_type": "markdown",
   "metadata": {},
   "source": [
    "5. Build map of total engaged sessions per state"
   ]
  },
  {
   "cell_type": "code",
   "execution_count": 87,
   "metadata": {},
   "outputs": [
    {
     "data": {
      "application/vnd.plotly.v1+json": {
       "config": {
        "plotlyServerURL": "https://plot.ly"
       },
       "data": [
        {
         "coloraxis": "coloraxis",
         "customdata": [
          [
           1,
           1,
           528.400458
          ],
          [
           1,
           0,
           3.581928
          ],
          [
           2,
           2,
           565.698547
          ],
          [
           2,
           0,
           4.549831
          ],
          [
           2,
           2,
           119.540362
          ],
          [
           3,
           4,
           117.0423504
          ],
          [
           3,
           3,
           199.0271722
          ],
          [
           3,
           2,
           112.995205
          ],
          [
           4,
           3,
           93.8289362
          ],
          [
           4,
           2,
           13.393811
          ],
          [
           4,
           2,
           416.754312
          ],
          [
           5,
           1,
           18.426667
          ],
          [
           5,
           10,
           1192.576476
          ],
          [
           5,
           2,
           677.3134545
          ],
          [
           6,
           3,
           386.2093657
          ],
          [
           6,
           5,
           1529.119518
          ],
          [
           7,
           1,
           104.2287717
          ],
          [
           7,
           4,
           140.6320768
          ],
          [
           7,
           6,
           227.1527956
          ],
          [
           8,
           4,
           931.822014
          ],
          [
           10,
           8,
           578.5884081
          ],
          [
           10,
           6,
           2129.033014
          ],
          [
           10,
           6,
           321.1462845
          ],
          [
           12,
           7,
           514.1922877
          ],
          [
           12,
           2,
           1329.870774
          ],
          [
           14,
           0,
           16.89728387
          ],
          [
           15,
           13,
           433.5007017
          ],
          [
           16,
           8,
           936.6891016
          ],
          [
           17,
           12,
           836.8016446
          ],
          [
           17,
           16,
           1208.500878
          ],
          [
           21,
           13,
           368.175531
          ],
          [
           24,
           20,
           451.911877
          ],
          [
           26,
           17,
           1363.873982
          ],
          [
           38,
           20,
           663.6661803
          ],
          [
           43,
           27,
           1962.560314
          ],
          [
           55,
           27,
           464.7738941
          ],
          [
           65,
           49,
           1454.478118
          ],
          [
           74,
           42,
           1098.075168
          ],
          [
           74,
           52,
           1173.223076
          ],
          [
           76,
           60,
           1328.322556
          ],
          [
           81,
           59,
           1527.048128
          ],
          [
           128,
           23,
           24.02202022
          ],
          [
           152,
           39,
           552.1637997
          ],
          [
           159,
           112,
           1258.481638
          ],
          [
           183,
           102,
           1023.440592
          ],
          [
           212,
           19,
           14.70555932
          ],
          [
           252,
           51,
           391.5638517
          ],
          [
           263,
           283,
           2064.383103
          ],
          [
           264,
           70,
           867.4251133
          ],
          [
           264,
           181,
           1580.710931
          ]
         ],
         "geo": "geo",
         "hovertemplate": "locations=%{location}<br>Total users=%{customdata[0]}<br>Engaged sessions=%{customdata[1]}<br>Average session duration=%{customdata[2]}<br>Engagement rate=%{z}<extra></extra>",
         "locationmode": "USA-states",
         "locations": [
          "VT",
          "ND",
          "UT",
          "WV",
          "AR",
          "ID",
          "MT",
          "RI",
          "DE",
          "NV",
          "NM",
          "AK",
          "NE",
          "OK",
          "NH",
          "ME",
          "KY",
          "CT",
          "AL",
          "TN",
          "MO",
          "IN",
          "MS",
          "AZ",
          "WI",
          "KS",
          "MI",
          "OH",
          "LA",
          "MN",
          "NJ",
          "PA",
          "IL",
          "GA",
          "CO",
          "OR",
          "NC",
          "NY",
          "SC",
          "DC",
          "MA",
          "IA",
          "TX",
          "HI",
          "CA",
          "WY",
          "WA",
          "MD",
          "VA",
          "FL"
         ],
         "name": "",
         "type": "choropleth",
         "z": [
          1,
          0,
          1,
          0,
          1,
          0.6666666667,
          0.5,
          0.4,
          0.6,
          0.5,
          0.4,
          0.1428571429,
          0.5263157895,
          0.3333333333,
          0.3333333333,
          0.8333333333,
          0.0625,
          0.5714285714,
          0.6,
          0.3636363636,
          0.6666666667,
          0.5454545455,
          0.4,
          0.4666666667,
          0.09523809524,
          0,
          0.619047619,
          0.347826087,
          0.6315789474,
          0.5714285714,
          0.5,
          0.487804878,
          0.5862068966,
          0.4166666667,
          0.4029850746,
          0.3033707865,
          0.49,
          0.42,
          0.4601769912,
          0.4838709677,
          0.5619047619,
          0.1796875,
          0.2422360248,
          0.4571428571,
          0.4112903226,
          0.08920187793,
          0.1789473684,
          0.5484496124,
          0.2272727273,
          0.4617346939
         ]
        }
       ],
       "layout": {
        "coloraxis": {
         "colorbar": {
          "title": {
           "text": "Engagement rate"
          }
         },
         "colorscale": [
          [
           0,
           "rgb(247,251,255)"
          ],
          [
           0.125,
           "rgb(222,235,247)"
          ],
          [
           0.25,
           "rgb(198,219,239)"
          ],
          [
           0.375,
           "rgb(158,202,225)"
          ],
          [
           0.5,
           "rgb(107,174,214)"
          ],
          [
           0.625,
           "rgb(66,146,198)"
          ],
          [
           0.75,
           "rgb(33,113,181)"
          ],
          [
           0.875,
           "rgb(8,81,156)"
          ],
          [
           1,
           "rgb(8,48,107)"
          ]
         ]
        },
        "geo": {
         "center": {},
         "domain": {
          "x": [
           0,
           1
          ],
          "y": [
           0,
           1
          ]
         },
         "scope": "usa"
        },
        "legend": {
         "tracegroupgap": 0
        },
        "margin": {
         "t": 60
        },
        "template": {
         "data": {
          "bar": [
           {
            "error_x": {
             "color": "#2a3f5f"
            },
            "error_y": {
             "color": "#2a3f5f"
            },
            "marker": {
             "line": {
              "color": "#E5ECF6",
              "width": 0.5
             },
             "pattern": {
              "fillmode": "overlay",
              "size": 10,
              "solidity": 0.2
             }
            },
            "type": "bar"
           }
          ],
          "barpolar": [
           {
            "marker": {
             "line": {
              "color": "#E5ECF6",
              "width": 0.5
             },
             "pattern": {
              "fillmode": "overlay",
              "size": 10,
              "solidity": 0.2
             }
            },
            "type": "barpolar"
           }
          ],
          "carpet": [
           {
            "aaxis": {
             "endlinecolor": "#2a3f5f",
             "gridcolor": "white",
             "linecolor": "white",
             "minorgridcolor": "white",
             "startlinecolor": "#2a3f5f"
            },
            "baxis": {
             "endlinecolor": "#2a3f5f",
             "gridcolor": "white",
             "linecolor": "white",
             "minorgridcolor": "white",
             "startlinecolor": "#2a3f5f"
            },
            "type": "carpet"
           }
          ],
          "choropleth": [
           {
            "colorbar": {
             "outlinewidth": 0,
             "ticks": ""
            },
            "type": "choropleth"
           }
          ],
          "contour": [
           {
            "colorbar": {
             "outlinewidth": 0,
             "ticks": ""
            },
            "colorscale": [
             [
              0,
              "#0d0887"
             ],
             [
              0.1111111111111111,
              "#46039f"
             ],
             [
              0.2222222222222222,
              "#7201a8"
             ],
             [
              0.3333333333333333,
              "#9c179e"
             ],
             [
              0.4444444444444444,
              "#bd3786"
             ],
             [
              0.5555555555555556,
              "#d8576b"
             ],
             [
              0.6666666666666666,
              "#ed7953"
             ],
             [
              0.7777777777777778,
              "#fb9f3a"
             ],
             [
              0.8888888888888888,
              "#fdca26"
             ],
             [
              1,
              "#f0f921"
             ]
            ],
            "type": "contour"
           }
          ],
          "contourcarpet": [
           {
            "colorbar": {
             "outlinewidth": 0,
             "ticks": ""
            },
            "type": "contourcarpet"
           }
          ],
          "heatmap": [
           {
            "colorbar": {
             "outlinewidth": 0,
             "ticks": ""
            },
            "colorscale": [
             [
              0,
              "#0d0887"
             ],
             [
              0.1111111111111111,
              "#46039f"
             ],
             [
              0.2222222222222222,
              "#7201a8"
             ],
             [
              0.3333333333333333,
              "#9c179e"
             ],
             [
              0.4444444444444444,
              "#bd3786"
             ],
             [
              0.5555555555555556,
              "#d8576b"
             ],
             [
              0.6666666666666666,
              "#ed7953"
             ],
             [
              0.7777777777777778,
              "#fb9f3a"
             ],
             [
              0.8888888888888888,
              "#fdca26"
             ],
             [
              1,
              "#f0f921"
             ]
            ],
            "type": "heatmap"
           }
          ],
          "heatmapgl": [
           {
            "colorbar": {
             "outlinewidth": 0,
             "ticks": ""
            },
            "colorscale": [
             [
              0,
              "#0d0887"
             ],
             [
              0.1111111111111111,
              "#46039f"
             ],
             [
              0.2222222222222222,
              "#7201a8"
             ],
             [
              0.3333333333333333,
              "#9c179e"
             ],
             [
              0.4444444444444444,
              "#bd3786"
             ],
             [
              0.5555555555555556,
              "#d8576b"
             ],
             [
              0.6666666666666666,
              "#ed7953"
             ],
             [
              0.7777777777777778,
              "#fb9f3a"
             ],
             [
              0.8888888888888888,
              "#fdca26"
             ],
             [
              1,
              "#f0f921"
             ]
            ],
            "type": "heatmapgl"
           }
          ],
          "histogram": [
           {
            "marker": {
             "pattern": {
              "fillmode": "overlay",
              "size": 10,
              "solidity": 0.2
             }
            },
            "type": "histogram"
           }
          ],
          "histogram2d": [
           {
            "colorbar": {
             "outlinewidth": 0,
             "ticks": ""
            },
            "colorscale": [
             [
              0,
              "#0d0887"
             ],
             [
              0.1111111111111111,
              "#46039f"
             ],
             [
              0.2222222222222222,
              "#7201a8"
             ],
             [
              0.3333333333333333,
              "#9c179e"
             ],
             [
              0.4444444444444444,
              "#bd3786"
             ],
             [
              0.5555555555555556,
              "#d8576b"
             ],
             [
              0.6666666666666666,
              "#ed7953"
             ],
             [
              0.7777777777777778,
              "#fb9f3a"
             ],
             [
              0.8888888888888888,
              "#fdca26"
             ],
             [
              1,
              "#f0f921"
             ]
            ],
            "type": "histogram2d"
           }
          ],
          "histogram2dcontour": [
           {
            "colorbar": {
             "outlinewidth": 0,
             "ticks": ""
            },
            "colorscale": [
             [
              0,
              "#0d0887"
             ],
             [
              0.1111111111111111,
              "#46039f"
             ],
             [
              0.2222222222222222,
              "#7201a8"
             ],
             [
              0.3333333333333333,
              "#9c179e"
             ],
             [
              0.4444444444444444,
              "#bd3786"
             ],
             [
              0.5555555555555556,
              "#d8576b"
             ],
             [
              0.6666666666666666,
              "#ed7953"
             ],
             [
              0.7777777777777778,
              "#fb9f3a"
             ],
             [
              0.8888888888888888,
              "#fdca26"
             ],
             [
              1,
              "#f0f921"
             ]
            ],
            "type": "histogram2dcontour"
           }
          ],
          "mesh3d": [
           {
            "colorbar": {
             "outlinewidth": 0,
             "ticks": ""
            },
            "type": "mesh3d"
           }
          ],
          "parcoords": [
           {
            "line": {
             "colorbar": {
              "outlinewidth": 0,
              "ticks": ""
             }
            },
            "type": "parcoords"
           }
          ],
          "pie": [
           {
            "automargin": true,
            "type": "pie"
           }
          ],
          "scatter": [
           {
            "fillpattern": {
             "fillmode": "overlay",
             "size": 10,
             "solidity": 0.2
            },
            "type": "scatter"
           }
          ],
          "scatter3d": [
           {
            "line": {
             "colorbar": {
              "outlinewidth": 0,
              "ticks": ""
             }
            },
            "marker": {
             "colorbar": {
              "outlinewidth": 0,
              "ticks": ""
             }
            },
            "type": "scatter3d"
           }
          ],
          "scattercarpet": [
           {
            "marker": {
             "colorbar": {
              "outlinewidth": 0,
              "ticks": ""
             }
            },
            "type": "scattercarpet"
           }
          ],
          "scattergeo": [
           {
            "marker": {
             "colorbar": {
              "outlinewidth": 0,
              "ticks": ""
             }
            },
            "type": "scattergeo"
           }
          ],
          "scattergl": [
           {
            "marker": {
             "colorbar": {
              "outlinewidth": 0,
              "ticks": ""
             }
            },
            "type": "scattergl"
           }
          ],
          "scattermapbox": [
           {
            "marker": {
             "colorbar": {
              "outlinewidth": 0,
              "ticks": ""
             }
            },
            "type": "scattermapbox"
           }
          ],
          "scatterpolar": [
           {
            "marker": {
             "colorbar": {
              "outlinewidth": 0,
              "ticks": ""
             }
            },
            "type": "scatterpolar"
           }
          ],
          "scatterpolargl": [
           {
            "marker": {
             "colorbar": {
              "outlinewidth": 0,
              "ticks": ""
             }
            },
            "type": "scatterpolargl"
           }
          ],
          "scatterternary": [
           {
            "marker": {
             "colorbar": {
              "outlinewidth": 0,
              "ticks": ""
             }
            },
            "type": "scatterternary"
           }
          ],
          "surface": [
           {
            "colorbar": {
             "outlinewidth": 0,
             "ticks": ""
            },
            "colorscale": [
             [
              0,
              "#0d0887"
             ],
             [
              0.1111111111111111,
              "#46039f"
             ],
             [
              0.2222222222222222,
              "#7201a8"
             ],
             [
              0.3333333333333333,
              "#9c179e"
             ],
             [
              0.4444444444444444,
              "#bd3786"
             ],
             [
              0.5555555555555556,
              "#d8576b"
             ],
             [
              0.6666666666666666,
              "#ed7953"
             ],
             [
              0.7777777777777778,
              "#fb9f3a"
             ],
             [
              0.8888888888888888,
              "#fdca26"
             ],
             [
              1,
              "#f0f921"
             ]
            ],
            "type": "surface"
           }
          ],
          "table": [
           {
            "cells": {
             "fill": {
              "color": "#EBF0F8"
             },
             "line": {
              "color": "white"
             }
            },
            "header": {
             "fill": {
              "color": "#C8D4E3"
             },
             "line": {
              "color": "white"
             }
            },
            "type": "table"
           }
          ]
         },
         "layout": {
          "annotationdefaults": {
           "arrowcolor": "#2a3f5f",
           "arrowhead": 0,
           "arrowwidth": 1
          },
          "autotypenumbers": "strict",
          "coloraxis": {
           "colorbar": {
            "outlinewidth": 0,
            "ticks": ""
           }
          },
          "colorscale": {
           "diverging": [
            [
             0,
             "#8e0152"
            ],
            [
             0.1,
             "#c51b7d"
            ],
            [
             0.2,
             "#de77ae"
            ],
            [
             0.3,
             "#f1b6da"
            ],
            [
             0.4,
             "#fde0ef"
            ],
            [
             0.5,
             "#f7f7f7"
            ],
            [
             0.6,
             "#e6f5d0"
            ],
            [
             0.7,
             "#b8e186"
            ],
            [
             0.8,
             "#7fbc41"
            ],
            [
             0.9,
             "#4d9221"
            ],
            [
             1,
             "#276419"
            ]
           ],
           "sequential": [
            [
             0,
             "#0d0887"
            ],
            [
             0.1111111111111111,
             "#46039f"
            ],
            [
             0.2222222222222222,
             "#7201a8"
            ],
            [
             0.3333333333333333,
             "#9c179e"
            ],
            [
             0.4444444444444444,
             "#bd3786"
            ],
            [
             0.5555555555555556,
             "#d8576b"
            ],
            [
             0.6666666666666666,
             "#ed7953"
            ],
            [
             0.7777777777777778,
             "#fb9f3a"
            ],
            [
             0.8888888888888888,
             "#fdca26"
            ],
            [
             1,
             "#f0f921"
            ]
           ],
           "sequentialminus": [
            [
             0,
             "#0d0887"
            ],
            [
             0.1111111111111111,
             "#46039f"
            ],
            [
             0.2222222222222222,
             "#7201a8"
            ],
            [
             0.3333333333333333,
             "#9c179e"
            ],
            [
             0.4444444444444444,
             "#bd3786"
            ],
            [
             0.5555555555555556,
             "#d8576b"
            ],
            [
             0.6666666666666666,
             "#ed7953"
            ],
            [
             0.7777777777777778,
             "#fb9f3a"
            ],
            [
             0.8888888888888888,
             "#fdca26"
            ],
            [
             1,
             "#f0f921"
            ]
           ]
          },
          "colorway": [
           "#636efa",
           "#EF553B",
           "#00cc96",
           "#ab63fa",
           "#FFA15A",
           "#19d3f3",
           "#FF6692",
           "#B6E880",
           "#FF97FF",
           "#FECB52"
          ],
          "font": {
           "color": "#2a3f5f"
          },
          "geo": {
           "bgcolor": "white",
           "lakecolor": "white",
           "landcolor": "#E5ECF6",
           "showlakes": true,
           "showland": true,
           "subunitcolor": "white"
          },
          "hoverlabel": {
           "align": "left"
          },
          "hovermode": "closest",
          "mapbox": {
           "style": "light"
          },
          "paper_bgcolor": "white",
          "plot_bgcolor": "#E5ECF6",
          "polar": {
           "angularaxis": {
            "gridcolor": "white",
            "linecolor": "white",
            "ticks": ""
           },
           "bgcolor": "#E5ECF6",
           "radialaxis": {
            "gridcolor": "white",
            "linecolor": "white",
            "ticks": ""
           }
          },
          "scene": {
           "xaxis": {
            "backgroundcolor": "#E5ECF6",
            "gridcolor": "white",
            "gridwidth": 2,
            "linecolor": "white",
            "showbackground": true,
            "ticks": "",
            "zerolinecolor": "white"
           },
           "yaxis": {
            "backgroundcolor": "#E5ECF6",
            "gridcolor": "white",
            "gridwidth": 2,
            "linecolor": "white",
            "showbackground": true,
            "ticks": "",
            "zerolinecolor": "white"
           },
           "zaxis": {
            "backgroundcolor": "#E5ECF6",
            "gridcolor": "white",
            "gridwidth": 2,
            "linecolor": "white",
            "showbackground": true,
            "ticks": "",
            "zerolinecolor": "white"
           }
          },
          "shapedefaults": {
           "line": {
            "color": "#2a3f5f"
           }
          },
          "ternary": {
           "aaxis": {
            "gridcolor": "white",
            "linecolor": "white",
            "ticks": ""
           },
           "baxis": {
            "gridcolor": "white",
            "linecolor": "white",
            "ticks": ""
           },
           "bgcolor": "#E5ECF6",
           "caxis": {
            "gridcolor": "white",
            "linecolor": "white",
            "ticks": ""
           }
          },
          "title": {
           "x": 0.05
          },
          "xaxis": {
           "automargin": true,
           "gridcolor": "white",
           "linecolor": "white",
           "ticks": "",
           "title": {
            "standoff": 15
           },
           "zerolinecolor": "white",
           "zerolinewidth": 2
          },
          "yaxis": {
           "automargin": true,
           "gridcolor": "white",
           "linecolor": "white",
           "ticks": "",
           "title": {
            "standoff": 15
           },
           "zerolinecolor": "white",
           "zerolinewidth": 2
          }
         }
        }
       }
      }
     },
     "metadata": {},
     "output_type": "display_data"
    }
   ],
   "source": [
    "#fig = px.choropleth(df, locations=stateList, locationmode=\"USA-states\", hover_data=['Users','Engaged sessions','Engagement rate','Average engagement time'], color=df['Engaged sessions'], scope=\"usa\")\n",
    "\n",
    "fig = px.choropleth(df, locations=stateList, locationmode=\"USA-states\", hover_data=['Total users','Engaged sessions','Average session duration'], color=df['Engagement rate'], color_continuous_scale=px.colors.sequential.Blues, scope=\"usa\")\n",
    "\n",
    "fig.show()"
   ]
  },
  {
   "cell_type": "code",
   "execution_count": 46,
   "metadata": {},
   "outputs": [
    {
     "name": "stdout",
     "output_type": "stream",
     "text": [
      "            Views  Total users  Engaged sessions  Engagement rate  \\\n",
      "count   50.000000    50.000000         50.000000        50.000000   \n",
      "mean    99.420000    53.440000         28.020000         0.441725   \n",
      "std    174.043285    79.576727         50.346753         0.238022   \n",
      "min      1.000000     1.000000          0.000000         0.000000   \n",
      "25%      9.250000     5.000000          2.250000         0.333333   \n",
      "50%     26.000000    13.000000          8.000000         0.460956   \n",
      "75%    118.000000    71.750000         27.000000         0.569048   \n",
      "max    923.000000   264.000000        283.000000         1.000000   \n",
      "\n",
      "       Views per user  Sessions per user  Event count per user  Event count  \\\n",
      "count       50.000000          50.000000             50.000000    50.000000   \n",
      "mean         2.057759           1.418110              6.843881   350.060000   \n",
      "std          1.162143           0.462489              2.791820   571.275387   \n",
      "min          0.429688           1.000000              3.000000     5.000000   \n",
      "25%          1.297619           1.161667              5.541667    33.000000   \n",
      "50%          1.839286           1.341182              6.225000    90.000000   \n",
      "75%          2.385937           1.576109              7.691964   468.250000   \n",
      "max          6.200000           3.800000             21.400000  2857.000000   \n",
      "\n",
      "       Average session duration  \n",
      "count                 50.000000  \n",
      "mean                 706.410397  \n",
      "std                  598.735351  \n",
      "min                    3.581928  \n",
      "25%                  155.230851  \n",
      "50%                  540.282129  \n",
      "75%                 1187.738126  \n",
      "max                 2129.033014  \n",
      "TOTAL NUMBER OF USERS: 2672\n",
      "TOTAL NUMBER OF SESSIONS: 1401\n",
      "MEDIAN ENGAGEMENT RATE: 0.44172523481139997\n"
     ]
    }
   ],
   "source": [
    "description = df.describe()\n",
    "print(description)\n",
    "\n",
    "totalUsers = df['Total users'].sum()\n",
    "averageEngagementRate = df['Engagement rate'].mean()\n",
    "#totalUsers = df.Users.sum()\n",
    "totalSessions = df['Engaged sessions'].sum()\n",
    "print(\"TOTAL NUMBER OF USERS: \" + str(totalUsers))\n",
    "print(\"TOTAL NUMBER OF SESSIONS: \" + str(totalSessions))\n",
    "print(\"MEAN ENGAGEMENT RATE: \" + str(averageEngagementRate))"
   ]
  },
  {
   "cell_type": "markdown",
   "metadata": {},
   "source": [
    "This workflow is to visualize the geographic extent of users outside of the United States.\n",
    "\n",
    "1. Filter out United States data.\n",
    "2. Create bar chart of Users by country with a region breakdown."
   ]
  },
  {
   "cell_type": "code",
   "execution_count": 154,
   "metadata": {},
   "outputs": [
    {
     "data": {
      "application/vnd.plotly.v1+json": {
       "config": {
        "plotlyServerURL": "https://plot.ly"
       },
       "data": [
        {
         "alignmentgroup": "True",
         "customdata": [
          [
           "St. Ann Parish",
           0
          ],
          [
           "Le Marin",
           0
          ],
          [
           "Fort-de-France",
           0
          ],
          [
           "Baja California",
           1
          ],
          [
           "Yucatan",
           0
          ],
          [
           "San Luis Potosi",
           0
          ],
          [
           "Maputo",
           1
          ],
          [
           "Shan",
           1
          ],
          [
           "(not set)",
           0
          ],
          [
           "South Holland",
           1
          ],
          [
           "Otago",
           1
          ],
          [
           "(not set)",
           1
          ],
          [
           "More og Romsdal",
           1
          ],
          [
           "Rogaland",
           0
          ],
          [
           "Troms og Finnmark fylke",
           1
          ],
          [
           "East New Britain Province",
           0.125
          ],
          [
           "Lima Province",
           0.5
          ],
          [
           "Auckland",
           1
          ],
          [
           "La Libertad",
           1
          ],
          [
           "Terengganu",
           0
          ],
          [
           "Niigata",
           0
          ],
          [
           "Delhi",
           0
          ],
          [
           "Kerala",
           0
          ],
          [
           "West Papua",
           0.5
          ],
          [
           "North Sumatra",
           0
          ],
          [
           "West Nusa Tenggara",
           0
          ],
          [
           "East Java",
           0
          ],
          [
           "West Kalimantan",
           1
          ],
          [
           "Hokkaido",
           0
          ],
          [
           "County Kildare",
           0
          ],
          [
           "Lazio",
           1
          ],
          [
           "Emilia-Romagna",
           1
          ],
          [
           "Tuscany",
           0
          ],
          [
           "Westmoreland Parish",
           0
          ],
          [
           "Da Nang",
           0
          ],
          [
           "Hiroshima",
           1
          ],
          [
           "Shimane",
           0
          ],
          [
           "County Galway",
           0
          ],
          [
           "Bicol",
           1
          ],
          [
           "Central Luzon",
           1
          ],
          [
           "Northern Mindanao",
           1
          ],
          [
           "Vastra Gotaland County",
           0.5
          ],
          [
           "Geneva",
           0
          ],
          [
           "Yilan County",
           0
          ],
          [
           "Arusha Region",
           0
          ],
          [
           "(not set)",
           1
          ],
          [
           "Chumphon",
           1
          ],
          [
           "Narathiwat",
           0
          ],
          [
           "Stockholm County",
           1
          ],
          [
           "Prachuap Khiri Khan",
           0
          ],
          [
           "Chanthaburi",
           0
          ],
          [
           "Krabi",
           0
          ],
          [
           "Satun",
           0
          ],
          [
           "Abu Dhabi",
           0
          ],
          [
           "(not set)",
           0
          ],
          [
           "Northern Ireland",
           1
          ],
          [
           "Sucre",
           1
          ],
          [
           "Pattani",
           0
          ],
          [
           "(not set)",
           1
          ],
          [
           "Galicia",
           0
          ],
          [
           "Catalonia",
           1
          ],
          [
           "Calabarzon",
           1
          ],
          [
           "Western Visayas",
           0
          ],
          [
           "Coimbra District",
           0
          ],
          [
           "Guayama",
           0
          ],
          [
           "Bayamon",
           1
          ],
          [
           "Cabo Rojo",
           0
          ],
          [
           "Caguas",
           1
          ],
          [
           "Saint-Pierre",
           0
          ],
          [
           "Cluj County",
           1
          ],
          [
           "Saint Petersburg",
           0
          ],
          [
           "(not set)",
           0
          ],
          [
           "(not set)",
           1
          ],
          [
           "Ljubljana",
           0
          ],
          [
           "Western Cape",
           0
          ],
          [
           "Gyeonggi-do",
           0
          ],
          [
           "Valencian Community",
           1
          ],
          [
           "Community of Madrid",
           1
          ],
          [
           "Karnataka",
           1
          ],
          [
           "Telangana",
           1
          ],
          [
           "Khanh Hoa",
           1
          ],
          [
           "San Andres and Providencia",
           0
          ],
          [
           "Wallonia",
           0
          ],
          [
           "Zhejiang",
           0
          ],
          [
           "Mendoza Province",
           0
          ],
          [
           "Nova Scotia",
           0
          ],
          [
           "(not set)",
           1
          ],
          [
           "Bourgogne-Franche-Comte",
           0
          ],
          [
           "(not set)",
           0
          ],
          [
           "(not set)",
           1
          ],
          [
           "La Altagracia Province",
           1
          ],
          [
           "Grand Est",
           1
          ],
          [
           "(not set)",
           1
          ],
          [
           "Santiago Metropolitan Region",
           0
          ],
          [
           "Barahona Province",
           0
          ],
          [
           "Western Australia",
           0
          ],
          [
           "Jiangsu",
           0
          ],
          [
           "Suez Governorate",
           0
          ],
          [
           "Beijing",
           1
          ],
          [
           "Rhineland-Palatinate",
           0
          ],
          [
           "Sofia City Province",
           0
          ],
          [
           "State of Pernambuco",
           1
          ],
          [
           "Hajdu-Bihar",
           0
          ],
          [
           "Pembroke Parish",
           0
          ],
          [
           "Split-Dalmatia County",
           0
          ],
          [
           "Eastern District",
           1
          ],
          [
           "(not set)",
           1
          ],
          [
           "Nicosia",
           0
          ],
          [
           "State of Ceara",
           0
          ],
          [
           "State of Espirito Santo",
           1
          ],
          [
           "Basse-Terre",
           1
          ],
          [
           "(not set)",
           0
          ],
          [
           "Decentralized Administration of Attica",
           0
          ],
          [
           "Limassol",
           0
          ],
          [
           "Hamburg",
           0
          ],
          [
           "Baden-Wurttemberg",
           0
          ],
          [
           "Decentralized Administration of Macedonia and Thrace",
           1
          ],
          [
           "Red Sea Governorate",
           0
          ],
          [
           "(not set)",
           1
          ],
          [
           "Region XII",
           0.5
          ],
          [
           "Central Visayas",
           0
          ],
          [
           "Davao Region",
           0.666666667
          ],
          [
           "(not set)",
           0.6
          ],
          [
           "(not set)",
           0
          ],
          [
           "Shanghai",
           0.5
          ],
          [
           "(not set)",
           0.666666667
          ],
          [
           "Bonaire",
           0
          ],
          [
           "Newfoundland and Labrador",
           0.6
          ],
          [
           "Region of Murcia",
           1
          ],
          [
           "Ceara",
           0
          ],
          [
           "Norrbotten County",
           0
          ],
          [
           "Ankara",
           0.333333333
          ],
          [
           "Istanbul",
           0.5
          ],
          [
           "Kaohsiung City",
           1
          ],
          [
           "State of Bahia",
           0.666666667
          ],
          [
           "(not set)",
           0.333333333
          ],
          [
           "Masovian Voivodeship",
           0.5
          ],
          [
           "(not set)",
           0.5
          ],
          [
           "Bangkok",
           0.666666667
          ],
          [
           "National Capital District",
           0.333333333
          ],
          [
           "Male",
           0.333333333
          ],
          [
           "Selangor",
           1
          ],
          [
           "Nouvelle-Aquitaine",
           0.5
          ],
          [
           "Uusimaa",
           0.5
          ],
          [
           "(not set)",
           0
          ],
          [
           "Dili",
           1
          ],
          [
           "Menofia Governorate",
           0
          ],
          [
           "Prague",
           1
          ],
          [
           "Banten",
           0.5
          ],
          [
           "East Nusa Tenggara",
           0.125
          ],
          [
           "Attica",
           0.4
          ],
          [
           "Vienna",
           0
          ],
          [
           "Lombardy",
           0.333333333
          ],
          [
           "Saxony",
           0
          ],
          [
           "Ontario",
           1
          ],
          [
           "Taipei City",
           0.666666667
          ],
          [
           "Provence-Alpes-Cote d'Azur",
           0.666666667
          ],
          [
           "Ho Chi Minh City",
           0.666666667
          ],
          [
           "South District",
           0.25
          ],
          [
           "Wales",
           0.333333333
          ],
          [
           "(not set)",
           0
          ],
          [
           "Hebei",
           0.666666667
          ],
          [
           "Oslo",
           0
          ],
          [
           "Vestland",
           0.333333333
          ],
          [
           "Magdalena",
           0.2
          ],
          [
           "Tamil Nadu",
           1
          ],
          [
           "Tianjin",
           1
          ],
          [
           "Quintana Roo",
           0.333333333
          ],
          [
           "Scotland",
           0.333333333
          ],
          [
           "Mexico City",
           0.666666667
          ],
          [
           "Fujian",
           1
          ],
          [
           "Ponce",
           0.333333333
          ],
          [
           "Carolina",
           0.666666667
          ],
          [
           "Berlin",
           0.333333333
          ],
          [
           "(not set)",
           0.833333333
          ],
          [
           "Bogota",
           0.8
          ],
          [
           "Guangdong Province",
           0.75
          ],
          [
           "Bali",
           0.444444444
          ],
          [
           "State of Sao Paulo",
           0.75
          ],
          [
           "Zurich",
           0.4
          ],
          [
           "St. Andrew Parish",
           0
          ],
          [
           "West Java",
           0.5
          ],
          [
           "Metro Manila",
           0.4
          ],
          [
           "Hessen",
           0.2
          ],
          [
           "Quebec",
           1
          ],
          [
           "State of Rio de Janeiro",
           0.8
          ],
          [
           "Antioquia",
           0.333333333
          ],
          [
           "Tokyo",
           0.7
          ],
          [
           "County Dublin",
           0.166666667
          ],
          [
           "Mayaguez",
           0.333333333
          ],
          [
           "Victoria",
           0
          ],
          [
           "Maharashtra",
           0.857142857
          ],
          [
           "Jakarta",
           0.222222222
          ],
          [
           "North Rhine-Westphalia",
           0.7
          ],
          [
           "British Columbia",
           0.5
          ],
          [
           "Makkah Province",
           0.379310345
          ],
          [
           "St. Croix",
           0.4
          ],
          [
           "North Holland",
           0.444444444
          ],
          [
           "San Jose Province",
           0.555555556
          ],
          [
           "Western District",
           0.3
          ],
          [
           "(not set)",
           0.066666667
          ],
          [
           "Australian Capital Territory",
           0.071428571
          ],
          [
           "New South Wales",
           0.5
          ],
          [
           "(not set)",
           0
          ],
          [
           "(not set)",
           0.588235294
          ],
          [
           "Queensland",
           0.5
          ],
          [
           "(not set)",
           0.636363636
          ],
          [
           "St. Thomas",
           0.5
          ],
          [
           "(not set)",
           0.365853659
          ],
          [
           "England",
           0.5
          ],
          [
           "Ile-de-France",
           0
          ],
          [
           "San Juan",
           0.245098039
          ]
         ],
         "hovertemplate": "Country=%{x}<br>Total users=%{y}<br>Region=%{customdata[0]}<br>Engagement rate=%{marker.color}<extra></extra>",
         "legendgroup": "",
         "marker": {
          "color": [
           0,
           0,
           0,
           1,
           0,
           0,
           1,
           1,
           0,
           1,
           1,
           1,
           1,
           0,
           1,
           0.125,
           0.5,
           1,
           1,
           0,
           0,
           0,
           0,
           0.5,
           0,
           0,
           0,
           1,
           0,
           0,
           1,
           1,
           0,
           0,
           0,
           1,
           0,
           0,
           1,
           1,
           1,
           0.5,
           0,
           0,
           0,
           1,
           1,
           0,
           1,
           0,
           0,
           0,
           0,
           0,
           0,
           1,
           1,
           0,
           1,
           0,
           1,
           1,
           0,
           0,
           0,
           1,
           0,
           1,
           0,
           1,
           0,
           0,
           1,
           0,
           0,
           0,
           1,
           1,
           1,
           1,
           1,
           0,
           0,
           0,
           0,
           0,
           1,
           0,
           0,
           1,
           1,
           1,
           1,
           0,
           0,
           0,
           0,
           0,
           1,
           0,
           0,
           1,
           0,
           0,
           0,
           1,
           1,
           0,
           0,
           1,
           1,
           0,
           0,
           0,
           0,
           0,
           1,
           0,
           1,
           0.5,
           0,
           0.666666667,
           0.6,
           0,
           0.5,
           0.666666667,
           0,
           0.6,
           1,
           0,
           0,
           0.333333333,
           0.5,
           1,
           0.666666667,
           0.333333333,
           0.5,
           0.5,
           0.666666667,
           0.333333333,
           0.333333333,
           1,
           0.5,
           0.5,
           0,
           1,
           0,
           1,
           0.5,
           0.125,
           0.4,
           0,
           0.333333333,
           0,
           1,
           0.666666667,
           0.666666667,
           0.666666667,
           0.25,
           0.333333333,
           0,
           0.666666667,
           0,
           0.333333333,
           0.2,
           1,
           1,
           0.333333333,
           0.333333333,
           0.666666667,
           1,
           0.333333333,
           0.666666667,
           0.333333333,
           0.833333333,
           0.8,
           0.75,
           0.444444444,
           0.75,
           0.4,
           0,
           0.5,
           0.4,
           0.2,
           1,
           0.8,
           0.333333333,
           0.7,
           0.166666667,
           0.333333333,
           0,
           0.857142857,
           0.222222222,
           0.7,
           0.5,
           0.379310345,
           0.4,
           0.444444444,
           0.555555556,
           0.3,
           0.066666667,
           0.071428571,
           0.5,
           0,
           0.588235294,
           0.5,
           0.636363636,
           0.5,
           0.365853659,
           0.5,
           0,
           0.245098039
          ],
          "coloraxis": "coloraxis",
          "line": {
           "color": "rgb(8,40,107)",
           "width": 1.5
          },
          "pattern": {
           "shape": ""
          }
         },
         "name": "",
         "offsetgroup": "",
         "orientation": "v",
         "showlegend": false,
         "textposition": "auto",
         "type": "bar",
         "x": [
          "Jamaica",
          "Martinique",
          "Martinique",
          "Mexico",
          "Mexico",
          "Mexico",
          "Mozambique",
          "Myanmar (Burma)",
          "Marshall Islands",
          "Netherlands",
          "New Zealand",
          "Norfolk Island",
          "Norway",
          "Norway",
          "Norway",
          "Papua New Guinea",
          "Peru",
          "New Zealand",
          "Peru",
          "Malaysia",
          "Japan",
          "India",
          "India",
          "Indonesia",
          "Indonesia",
          "Indonesia",
          "Indonesia",
          "Indonesia",
          "Japan",
          "Ireland",
          "Italy",
          "Italy",
          "Italy",
          "Jamaica",
          "Vietnam",
          "Japan",
          "Japan",
          "Ireland",
          "Philippines",
          "Philippines",
          "Philippines",
          "Sweden",
          "Switzerland",
          "Taiwan",
          "Tanzania",
          "Thailand",
          "Thailand",
          "Thailand",
          "Sweden",
          "Thailand",
          "Thailand",
          "Thailand",
          "Thailand",
          "United Arab Emirates",
          "United Kingdom",
          "United Kingdom",
          "Venezuela",
          "Thailand",
          "St. Martin",
          "Spain",
          "Spain",
          "Philippines",
          "Philippines",
          "Portugal",
          "Puerto Rico",
          "Puerto Rico",
          "Puerto Rico",
          "Puerto Rico",
          "Réunion",
          "Romania",
          "Russia",
          "Samoa",
          "Seychelles",
          "Slovenia",
          "South Africa",
          "South Korea",
          "Spain",
          "Spain",
          "India",
          "India",
          "Vietnam",
          "Colombia",
          "Belgium",
          "China",
          "Argentina",
          "Canada",
          "French Polynesia",
          "France",
          "Costa Rica",
          "Ethiopia",
          "Dominican Republic",
          "France",
          "Cayman Islands",
          "Chile",
          "Dominican Republic",
          "Australia",
          "China",
          "Egypt",
          "China",
          "Germany",
          "Bulgaria",
          "Brazil",
          "Hungary",
          "Bermuda",
          "Croatia",
          "American Samoa",
          "Curaçao",
          "Cyprus",
          "Brazil",
          "Brazil",
          "Guadeloupe",
          "Greece",
          "Greece",
          "Cyprus",
          "Germany",
          "Germany",
          "Greece",
          "Egypt",
          "Philippines",
          "Philippines",
          "Philippines",
          "Philippines",
          "Panama",
          "Australia",
          "China",
          "Barbados",
          "Caribbean Netherlands",
          "Canada",
          "Spain",
          "Brazil",
          "Sweden",
          "Türkiye",
          "Türkiye",
          "Taiwan",
          "Brazil",
          "Tanzania",
          "Poland",
          "Singapore",
          "Thailand",
          "Papua New Guinea",
          "Maldives",
          "Malaysia",
          "France",
          "Finland",
          "Trinidad & Tobago",
          "Timor-Leste",
          "Egypt",
          "Czechia",
          "Indonesia",
          "Indonesia",
          "Greece",
          "Austria",
          "Italy",
          "Germany",
          "Canada",
          "Taiwan",
          "France",
          "Vietnam",
          "Israel",
          "United Kingdom",
          "Maldives",
          "China",
          "Norway",
          "Norway",
          "Colombia",
          "India",
          "China",
          "Mexico",
          "United Kingdom",
          "Mexico",
          "China",
          "Puerto Rico",
          "Puerto Rico",
          "Germany",
          "Hong Kong",
          "Colombia",
          "China",
          "Indonesia",
          "Brazil",
          "Switzerland",
          "Jamaica",
          "Indonesia",
          "Philippines",
          "Germany",
          "Canada",
          "Brazil",
          "Colombia",
          "Japan",
          "Ireland",
          "Puerto Rico",
          "Australia",
          "India",
          "Indonesia",
          "Germany",
          "Canada",
          "Saudi Arabia",
          "U.S. Virgin Islands",
          "Netherlands",
          "Costa Rica",
          "American Samoa",
          "Dominican Republic",
          "Australia",
          "Australia",
          "France",
          "Puerto Rico",
          "Australia",
          "China",
          "U.S. Virgin Islands",
          "Guam",
          "United Kingdom",
          "France",
          "Puerto Rico"
         ],
         "xaxis": "x",
         "y": [
          1,
          1,
          1,
          1,
          1,
          1,
          1,
          1,
          1,
          1,
          1,
          1,
          1,
          1,
          1,
          1,
          1,
          1,
          1,
          1,
          1,
          1,
          1,
          1,
          1,
          1,
          1,
          1,
          1,
          1,
          1,
          1,
          1,
          1,
          1,
          1,
          1,
          1,
          1,
          1,
          1,
          1,
          1,
          1,
          1,
          1,
          1,
          1,
          1,
          1,
          1,
          1,
          1,
          1,
          1,
          1,
          1,
          1,
          1,
          1,
          1,
          1,
          1,
          1,
          1,
          1,
          1,
          1,
          1,
          1,
          1,
          1,
          1,
          1,
          1,
          1,
          1,
          1,
          1,
          1,
          1,
          1,
          1,
          1,
          1,
          1,
          1,
          1,
          1,
          1,
          1,
          1,
          1,
          1,
          1,
          1,
          1,
          1,
          1,
          1,
          1,
          1,
          1,
          1,
          1,
          1,
          1,
          1,
          1,
          1,
          1,
          1,
          1,
          1,
          1,
          1,
          1,
          1,
          2,
          2,
          2,
          2,
          2,
          2,
          2,
          2,
          2,
          2,
          2,
          2,
          2,
          2,
          2,
          2,
          2,
          2,
          2,
          2,
          2,
          2,
          2,
          2,
          2,
          2,
          2,
          2,
          2,
          2,
          2,
          2,
          3,
          3,
          3,
          3,
          3,
          3,
          3,
          3,
          3,
          3,
          3,
          3,
          3,
          3,
          3,
          3,
          3,
          3,
          3,
          3,
          3,
          3,
          3,
          4,
          4,
          4,
          4,
          4,
          4,
          4,
          4,
          4,
          5,
          5,
          5,
          5,
          5,
          6,
          6,
          6,
          7,
          7,
          7,
          7,
          7,
          8,
          8,
          9,
          9,
          9,
          10,
          11,
          11,
          12,
          14,
          17,
          17,
          20,
          26,
          33,
          34,
          85
         ],
         "yaxis": "y"
        }
       ],
       "layout": {
        "barmode": "relative",
        "coloraxis": {
         "colorbar": {
          "title": {
           "text": "Engagement rate"
          }
         },
         "colorscale": [
          [
           0,
           "rgb(247,251,255)"
          ],
          [
           0.125,
           "rgb(222,235,247)"
          ],
          [
           0.25,
           "rgb(198,219,239)"
          ],
          [
           0.375,
           "rgb(158,202,225)"
          ],
          [
           0.5,
           "rgb(107,174,214)"
          ],
          [
           0.625,
           "rgb(66,146,198)"
          ],
          [
           0.75,
           "rgb(33,113,181)"
          ],
          [
           0.875,
           "rgb(8,81,156)"
          ],
          [
           1,
           "rgb(8,48,107)"
          ]
         ]
        },
        "height": 400,
        "legend": {
         "tracegroupgap": 0
        },
        "margin": {
         "t": 60
        },
        "template": {
         "data": {
          "bar": [
           {
            "error_x": {
             "color": "#2a3f5f"
            },
            "error_y": {
             "color": "#2a3f5f"
            },
            "marker": {
             "line": {
              "color": "#E5ECF6",
              "width": 0.5
             },
             "pattern": {
              "fillmode": "overlay",
              "size": 10,
              "solidity": 0.2
             }
            },
            "type": "bar"
           }
          ],
          "barpolar": [
           {
            "marker": {
             "line": {
              "color": "#E5ECF6",
              "width": 0.5
             },
             "pattern": {
              "fillmode": "overlay",
              "size": 10,
              "solidity": 0.2
             }
            },
            "type": "barpolar"
           }
          ],
          "carpet": [
           {
            "aaxis": {
             "endlinecolor": "#2a3f5f",
             "gridcolor": "white",
             "linecolor": "white",
             "minorgridcolor": "white",
             "startlinecolor": "#2a3f5f"
            },
            "baxis": {
             "endlinecolor": "#2a3f5f",
             "gridcolor": "white",
             "linecolor": "white",
             "minorgridcolor": "white",
             "startlinecolor": "#2a3f5f"
            },
            "type": "carpet"
           }
          ],
          "choropleth": [
           {
            "colorbar": {
             "outlinewidth": 0,
             "ticks": ""
            },
            "type": "choropleth"
           }
          ],
          "contour": [
           {
            "colorbar": {
             "outlinewidth": 0,
             "ticks": ""
            },
            "colorscale": [
             [
              0,
              "#0d0887"
             ],
             [
              0.1111111111111111,
              "#46039f"
             ],
             [
              0.2222222222222222,
              "#7201a8"
             ],
             [
              0.3333333333333333,
              "#9c179e"
             ],
             [
              0.4444444444444444,
              "#bd3786"
             ],
             [
              0.5555555555555556,
              "#d8576b"
             ],
             [
              0.6666666666666666,
              "#ed7953"
             ],
             [
              0.7777777777777778,
              "#fb9f3a"
             ],
             [
              0.8888888888888888,
              "#fdca26"
             ],
             [
              1,
              "#f0f921"
             ]
            ],
            "type": "contour"
           }
          ],
          "contourcarpet": [
           {
            "colorbar": {
             "outlinewidth": 0,
             "ticks": ""
            },
            "type": "contourcarpet"
           }
          ],
          "heatmap": [
           {
            "colorbar": {
             "outlinewidth": 0,
             "ticks": ""
            },
            "colorscale": [
             [
              0,
              "#0d0887"
             ],
             [
              0.1111111111111111,
              "#46039f"
             ],
             [
              0.2222222222222222,
              "#7201a8"
             ],
             [
              0.3333333333333333,
              "#9c179e"
             ],
             [
              0.4444444444444444,
              "#bd3786"
             ],
             [
              0.5555555555555556,
              "#d8576b"
             ],
             [
              0.6666666666666666,
              "#ed7953"
             ],
             [
              0.7777777777777778,
              "#fb9f3a"
             ],
             [
              0.8888888888888888,
              "#fdca26"
             ],
             [
              1,
              "#f0f921"
             ]
            ],
            "type": "heatmap"
           }
          ],
          "heatmapgl": [
           {
            "colorbar": {
             "outlinewidth": 0,
             "ticks": ""
            },
            "colorscale": [
             [
              0,
              "#0d0887"
             ],
             [
              0.1111111111111111,
              "#46039f"
             ],
             [
              0.2222222222222222,
              "#7201a8"
             ],
             [
              0.3333333333333333,
              "#9c179e"
             ],
             [
              0.4444444444444444,
              "#bd3786"
             ],
             [
              0.5555555555555556,
              "#d8576b"
             ],
             [
              0.6666666666666666,
              "#ed7953"
             ],
             [
              0.7777777777777778,
              "#fb9f3a"
             ],
             [
              0.8888888888888888,
              "#fdca26"
             ],
             [
              1,
              "#f0f921"
             ]
            ],
            "type": "heatmapgl"
           }
          ],
          "histogram": [
           {
            "marker": {
             "pattern": {
              "fillmode": "overlay",
              "size": 10,
              "solidity": 0.2
             }
            },
            "type": "histogram"
           }
          ],
          "histogram2d": [
           {
            "colorbar": {
             "outlinewidth": 0,
             "ticks": ""
            },
            "colorscale": [
             [
              0,
              "#0d0887"
             ],
             [
              0.1111111111111111,
              "#46039f"
             ],
             [
              0.2222222222222222,
              "#7201a8"
             ],
             [
              0.3333333333333333,
              "#9c179e"
             ],
             [
              0.4444444444444444,
              "#bd3786"
             ],
             [
              0.5555555555555556,
              "#d8576b"
             ],
             [
              0.6666666666666666,
              "#ed7953"
             ],
             [
              0.7777777777777778,
              "#fb9f3a"
             ],
             [
              0.8888888888888888,
              "#fdca26"
             ],
             [
              1,
              "#f0f921"
             ]
            ],
            "type": "histogram2d"
           }
          ],
          "histogram2dcontour": [
           {
            "colorbar": {
             "outlinewidth": 0,
             "ticks": ""
            },
            "colorscale": [
             [
              0,
              "#0d0887"
             ],
             [
              0.1111111111111111,
              "#46039f"
             ],
             [
              0.2222222222222222,
              "#7201a8"
             ],
             [
              0.3333333333333333,
              "#9c179e"
             ],
             [
              0.4444444444444444,
              "#bd3786"
             ],
             [
              0.5555555555555556,
              "#d8576b"
             ],
             [
              0.6666666666666666,
              "#ed7953"
             ],
             [
              0.7777777777777778,
              "#fb9f3a"
             ],
             [
              0.8888888888888888,
              "#fdca26"
             ],
             [
              1,
              "#f0f921"
             ]
            ],
            "type": "histogram2dcontour"
           }
          ],
          "mesh3d": [
           {
            "colorbar": {
             "outlinewidth": 0,
             "ticks": ""
            },
            "type": "mesh3d"
           }
          ],
          "parcoords": [
           {
            "line": {
             "colorbar": {
              "outlinewidth": 0,
              "ticks": ""
             }
            },
            "type": "parcoords"
           }
          ],
          "pie": [
           {
            "automargin": true,
            "type": "pie"
           }
          ],
          "scatter": [
           {
            "fillpattern": {
             "fillmode": "overlay",
             "size": 10,
             "solidity": 0.2
            },
            "type": "scatter"
           }
          ],
          "scatter3d": [
           {
            "line": {
             "colorbar": {
              "outlinewidth": 0,
              "ticks": ""
             }
            },
            "marker": {
             "colorbar": {
              "outlinewidth": 0,
              "ticks": ""
             }
            },
            "type": "scatter3d"
           }
          ],
          "scattercarpet": [
           {
            "marker": {
             "colorbar": {
              "outlinewidth": 0,
              "ticks": ""
             }
            },
            "type": "scattercarpet"
           }
          ],
          "scattergeo": [
           {
            "marker": {
             "colorbar": {
              "outlinewidth": 0,
              "ticks": ""
             }
            },
            "type": "scattergeo"
           }
          ],
          "scattergl": [
           {
            "marker": {
             "colorbar": {
              "outlinewidth": 0,
              "ticks": ""
             }
            },
            "type": "scattergl"
           }
          ],
          "scattermapbox": [
           {
            "marker": {
             "colorbar": {
              "outlinewidth": 0,
              "ticks": ""
             }
            },
            "type": "scattermapbox"
           }
          ],
          "scatterpolar": [
           {
            "marker": {
             "colorbar": {
              "outlinewidth": 0,
              "ticks": ""
             }
            },
            "type": "scatterpolar"
           }
          ],
          "scatterpolargl": [
           {
            "marker": {
             "colorbar": {
              "outlinewidth": 0,
              "ticks": ""
             }
            },
            "type": "scatterpolargl"
           }
          ],
          "scatterternary": [
           {
            "marker": {
             "colorbar": {
              "outlinewidth": 0,
              "ticks": ""
             }
            },
            "type": "scatterternary"
           }
          ],
          "surface": [
           {
            "colorbar": {
             "outlinewidth": 0,
             "ticks": ""
            },
            "colorscale": [
             [
              0,
              "#0d0887"
             ],
             [
              0.1111111111111111,
              "#46039f"
             ],
             [
              0.2222222222222222,
              "#7201a8"
             ],
             [
              0.3333333333333333,
              "#9c179e"
             ],
             [
              0.4444444444444444,
              "#bd3786"
             ],
             [
              0.5555555555555556,
              "#d8576b"
             ],
             [
              0.6666666666666666,
              "#ed7953"
             ],
             [
              0.7777777777777778,
              "#fb9f3a"
             ],
             [
              0.8888888888888888,
              "#fdca26"
             ],
             [
              1,
              "#f0f921"
             ]
            ],
            "type": "surface"
           }
          ],
          "table": [
           {
            "cells": {
             "fill": {
              "color": "#EBF0F8"
             },
             "line": {
              "color": "white"
             }
            },
            "header": {
             "fill": {
              "color": "#C8D4E3"
             },
             "line": {
              "color": "white"
             }
            },
            "type": "table"
           }
          ]
         },
         "layout": {
          "annotationdefaults": {
           "arrowcolor": "#2a3f5f",
           "arrowhead": 0,
           "arrowwidth": 1
          },
          "autotypenumbers": "strict",
          "coloraxis": {
           "colorbar": {
            "outlinewidth": 0,
            "ticks": ""
           }
          },
          "colorscale": {
           "diverging": [
            [
             0,
             "#8e0152"
            ],
            [
             0.1,
             "#c51b7d"
            ],
            [
             0.2,
             "#de77ae"
            ],
            [
             0.3,
             "#f1b6da"
            ],
            [
             0.4,
             "#fde0ef"
            ],
            [
             0.5,
             "#f7f7f7"
            ],
            [
             0.6,
             "#e6f5d0"
            ],
            [
             0.7,
             "#b8e186"
            ],
            [
             0.8,
             "#7fbc41"
            ],
            [
             0.9,
             "#4d9221"
            ],
            [
             1,
             "#276419"
            ]
           ],
           "sequential": [
            [
             0,
             "#0d0887"
            ],
            [
             0.1111111111111111,
             "#46039f"
            ],
            [
             0.2222222222222222,
             "#7201a8"
            ],
            [
             0.3333333333333333,
             "#9c179e"
            ],
            [
             0.4444444444444444,
             "#bd3786"
            ],
            [
             0.5555555555555556,
             "#d8576b"
            ],
            [
             0.6666666666666666,
             "#ed7953"
            ],
            [
             0.7777777777777778,
             "#fb9f3a"
            ],
            [
             0.8888888888888888,
             "#fdca26"
            ],
            [
             1,
             "#f0f921"
            ]
           ],
           "sequentialminus": [
            [
             0,
             "#0d0887"
            ],
            [
             0.1111111111111111,
             "#46039f"
            ],
            [
             0.2222222222222222,
             "#7201a8"
            ],
            [
             0.3333333333333333,
             "#9c179e"
            ],
            [
             0.4444444444444444,
             "#bd3786"
            ],
            [
             0.5555555555555556,
             "#d8576b"
            ],
            [
             0.6666666666666666,
             "#ed7953"
            ],
            [
             0.7777777777777778,
             "#fb9f3a"
            ],
            [
             0.8888888888888888,
             "#fdca26"
            ],
            [
             1,
             "#f0f921"
            ]
           ]
          },
          "colorway": [
           "#636efa",
           "#EF553B",
           "#00cc96",
           "#ab63fa",
           "#FFA15A",
           "#19d3f3",
           "#FF6692",
           "#B6E880",
           "#FF97FF",
           "#FECB52"
          ],
          "font": {
           "color": "#2a3f5f"
          },
          "geo": {
           "bgcolor": "white",
           "lakecolor": "white",
           "landcolor": "#E5ECF6",
           "showlakes": true,
           "showland": true,
           "subunitcolor": "white"
          },
          "hoverlabel": {
           "align": "left"
          },
          "hovermode": "closest",
          "mapbox": {
           "style": "light"
          },
          "paper_bgcolor": "white",
          "plot_bgcolor": "#E5ECF6",
          "polar": {
           "angularaxis": {
            "gridcolor": "white",
            "linecolor": "white",
            "ticks": ""
           },
           "bgcolor": "#E5ECF6",
           "radialaxis": {
            "gridcolor": "white",
            "linecolor": "white",
            "ticks": ""
           }
          },
          "scene": {
           "xaxis": {
            "backgroundcolor": "#E5ECF6",
            "gridcolor": "white",
            "gridwidth": 2,
            "linecolor": "white",
            "showbackground": true,
            "ticks": "",
            "zerolinecolor": "white"
           },
           "yaxis": {
            "backgroundcolor": "#E5ECF6",
            "gridcolor": "white",
            "gridwidth": 2,
            "linecolor": "white",
            "showbackground": true,
            "ticks": "",
            "zerolinecolor": "white"
           },
           "zaxis": {
            "backgroundcolor": "#E5ECF6",
            "gridcolor": "white",
            "gridwidth": 2,
            "linecolor": "white",
            "showbackground": true,
            "ticks": "",
            "zerolinecolor": "white"
           }
          },
          "shapedefaults": {
           "line": {
            "color": "#2a3f5f"
           }
          },
          "ternary": {
           "aaxis": {
            "gridcolor": "white",
            "linecolor": "white",
            "ticks": ""
           },
           "baxis": {
            "gridcolor": "white",
            "linecolor": "white",
            "ticks": ""
           },
           "bgcolor": "#E5ECF6",
           "caxis": {
            "gridcolor": "white",
            "linecolor": "white",
            "ticks": ""
           }
          },
          "title": {
           "x": 0.05
          },
          "xaxis": {
           "automargin": true,
           "gridcolor": "white",
           "linecolor": "white",
           "ticks": "",
           "title": {
            "standoff": 15
           },
           "zerolinecolor": "white",
           "zerolinewidth": 2
          },
          "yaxis": {
           "automargin": true,
           "gridcolor": "white",
           "linecolor": "white",
           "ticks": "",
           "title": {
            "standoff": 15
           },
           "zerolinecolor": "white",
           "zerolinewidth": 2
          }
         }
        },
        "xaxis": {
         "anchor": "y",
         "categoryorder": "total ascending",
         "domain": [
          0,
          1
         ],
         "title": {
          "text": "Country"
         }
        },
        "yaxis": {
         "anchor": "x",
         "domain": [
          0,
          1
         ],
         "title": {
          "text": "Total users"
         }
        }
       }
      }
     },
     "metadata": {},
     "output_type": "display_data"
    }
   ],
   "source": [
    "#df = pd.read_csv(\"VizTool_users.csv\")\n",
    "df = pd.read_csv(\"VizTool_Users.csv\")\n",
    "#print(myData)\n",
    "\n",
    "df = df[df.Country != 'United States']\n",
    "#df = df[df.Region != '(not set)']\n",
    "#df = df[df.totalUsers >=1]\n",
    "df = df[df.Country != 'RÃ©union']\n",
    "df = df[df.Country != 'TÃ¼rkiye']\n",
    "#df = df[df['Engagement rate']>0.1]\n",
    "df.sort_values(by='Total users', inplace=True)\n",
    "\n",
    "\n",
    "#fig = px.bar(df, x='Country', y='Users',\n",
    "#             hover_data=['Users','Region','Engaged sessions','Engagement rate','Average engagement time'], color='Users',\n",
    "#             height=400).update_xaxes(categoryorder=\"total ascending\")\n",
    "\n",
    "fig = px.bar(df, x='Country', y='Total users',\n",
    "             hover_data=['Total users','Region','Engagement rate'], color='Engagement rate',color_continuous_scale=px.colors.sequential.Blues,\n",
    "             height=400).update_xaxes(categoryorder=\"total ascending\")\n",
    "fig.update_traces(marker_line_color='rgb(8,40,107)',\n",
    "                  marker_line_width=1.5)\n",
    "fig.show()"
   ]
  },
  {
   "cell_type": "markdown",
   "metadata": {},
   "source": [
    "3. Use country_converter to update the country names to machine readable country codes.\n",
    "4. Use the country codes to generate a world map of international users."
   ]
  },
  {
   "cell_type": "code",
   "execution_count": 156,
   "metadata": {},
   "outputs": [
    {
     "name": "stdout",
     "output_type": "stream",
     "text": [
      "Country\n",
      "American Samoa          0.650000\n",
      "Argentina               0.000000\n",
      "Australia               0.178571\n",
      "Austria                 0.000000\n",
      "Barbados                0.666667\n",
      "                          ...   \n",
      "U.S. Virgin Islands     0.450000\n",
      "United Arab Emirates    0.000000\n",
      "United Kingdom          0.433333\n",
      "Venezuela               1.000000\n",
      "Vietnam                 0.555556\n",
      "Name: Engagement rate, Length: 82, dtype: float64\n",
      "American Samoa: 10\n",
      "Argentina: 1\n",
      "Australia: 49\n",
      "Austria: 3\n",
      "Barbados: 2\n",
      "Belgium: 1\n",
      "Bermuda: 1\n",
      "Brazil: 16\n",
      "Bulgaria: 1\n",
      "Canada: 18\n",
      "Caribbean Netherlands: 2\n",
      "Cayman Islands: 1\n",
      "Chile: 1\n",
      "China: 35\n",
      "Colombia: 13\n",
      "Costa Rica: 10\n",
      "Croatia: 1\n",
      "Curaçao: 1\n",
      "Cyprus: 2\n",
      "Czechia: 2\n",
      "Dominican Republic: 12\n",
      "Egypt: 4\n",
      "Ethiopia: 1\n",
      "Finland: 2\n",
      "France: 53\n",
      "French Polynesia: 1\n",
      "Germany: 22\n",
      "Greece: 6\n",
      "Guadeloupe: 1\n",
      "Guam: 26\n",
      "Hong Kong: 4\n",
      "Hungary: 1\n",
      "India: 14\n",
      "Indonesia: 24\n",
      "Ireland: 8\n",
      "Israel: 3\n",
      "Italy: 6\n",
      "Jamaica: 6\n",
      "Japan: 10\n",
      "Malaysia: 3\n",
      "Maldives: 5\n",
      "Marshall Islands: 1\n",
      "Martinique: 2\n",
      "Mexico: 9\n",
      "Mozambique: 1\n",
      "Myanmar (Burma): 1\n",
      "Netherlands: 10\n",
      "New Zealand: 2\n",
      "Norfolk Island: 1\n",
      "Norway: 9\n",
      "Panama: 2\n",
      "Papua New Guinea: 3\n",
      "Peru: 2\n",
      "Philippines: 18\n",
      "Poland: 2\n",
      "Portugal: 1\n",
      "Puerto Rico: 115\n",
      "Romania: 1\n",
      "Russia: 1\n",
      "Réunion: 1\n",
      "Samoa: 1\n",
      "Saudi Arabia: 8\n",
      "Seychelles: 1\n",
      "Singapore: 2\n",
      "Slovenia: 1\n",
      "South Africa: 1\n",
      "South Korea: 1\n",
      "Spain: 6\n",
      "St. Martin: 1\n",
      "Sweden: 4\n",
      "Switzerland: 5\n",
      "Taiwan: 6\n",
      "Tanzania: 3\n",
      "Thailand: 10\n",
      "Timor-Leste: 2\n",
      "Trinidad & Tobago: 2\n",
      "Türkiye: 4\n",
      "U.S. Virgin Islands: 28\n",
      "United Arab Emirates: 1\n",
      "United Kingdom: 41\n",
      "Venezuela: 1\n",
      "Vietnam: 5\n"
     ]
    },
    {
     "data": {
      "application/vnd.plotly.v1+json": {
       "config": {
        "plotlyServerURL": "https://plot.ly"
       },
       "data": [
        {
         "coloraxis": "coloraxis",
         "customdata": [
          [
           10,
           4,
           325.68897096499995
          ],
          [
           1,
           0,
           4.741734
          ],
          [
           49,
           19,
           131.821732886
          ],
          [
           3,
           0,
           4.891628
          ],
          [
           2,
           2,
           218.121815
          ],
          [
           1,
           0,
           4.95103
          ],
          [
           1,
           0,
           2.6776435
          ],
          [
           16,
           11,
           216.57878364285716
          ],
          [
           1,
           0,
           7.217464
          ],
          [
           18,
           15,
           264.12743172
          ],
          [
           2,
           0,
           2.624101
          ],
          [
           1,
           1,
           121.944549
          ],
          [
           1,
           0,
           2.7400915
          ],
          [
           35,
           30,
           338.0705203333334
          ],
          [
           13,
           7,
           336.55255225
          ],
          [
           10,
           5,
           1033.7718455
          ],
          [
           1,
           0,
           9.374793
          ],
          [
           1,
           1,
           74.667251
          ],
          [
           2,
           0,
           3.7000029999999997
          ],
          [
           2,
           2,
           770.786823
          ],
          [
           12,
           2,
           43.21925085666667
          ],
          [
           4,
           0,
           3.417660833333333
          ],
          [
           1,
           1,
           918.140972
          ],
          [
           2,
           1,
           44.986698
          ],
          [
           53,
           4,
           125.02824220833332
          ],
          [
           1,
           1,
           24.163673
          ],
          [
           22,
           11,
           123.1670150242857
          ],
          [
           6,
           3,
           38.742752075
          ],
          [
           1,
           1,
           14.368825
          ],
          [
           26,
           15,
           566.5680334
          ],
          [
           4,
           5,
           1315.757653
          ],
          [
           1,
           0,
           5.108512
          ],
          [
           14,
           11,
           720.9447927499999
          ],
          [
           24,
           13,
           181.5306607083
          ],
          [
           8,
           1,
           8.47096511
          ],
          [
           3,
           1,
           680.910066
          ],
          [
           6,
           3,
           24.905824625
          ],
          [
           6,
           0,
           6.2134342233333335
          ],
          [
           10,
           8,
           131.43465658
          ],
          [
           3,
           2,
           331.670307
          ],
          [
           5,
           1,
           45.751822
          ],
          [
           1,
           0,
           4.861522
          ],
          [
           2,
           0,
           2.1055875
          ],
          [
           9,
           4,
           82.0189779
          ],
          [
           1,
           1,
           1539.417615
          ],
          [
           1,
           1,
           841.193612
          ],
          [
           10,
           5,
           465.061992335
          ],
          [
           2,
           2,
           232.321996
          ],
          [
           1,
           1,
           141.380245
          ],
          [
           9,
           3,
           94.4468693334
          ],
          [
           2,
           3,
           362.065617
          ],
          [
           3,
           2,
           337.598617375
          ],
          [
           2,
           3,
           81.1422219
          ],
          [
           18,
           13,
           202.330338917
          ],
          [
           2,
           1,
           8.668884
          ],
          [
           1,
           0,
           4.642956
          ],
          [
           115,
           42,
           450.88677304444445
          ],
          [
           1,
           1,
           214.467446
          ],
          [
           1,
           0,
           5.334915
          ],
          [
           1,
           0,
           2.5385625
          ],
          [
           1,
           0,
           2.299605
          ],
          [
           8,
           11,
           345.8698404
          ],
          [
           1,
           1,
           30.531251
          ],
          [
           2,
           2,
           31.93632933
          ],
          [
           1,
           0,
           3.953418
          ],
          [
           1,
           0,
           3.593087
          ],
          [
           1,
           0,
           9.24709
          ],
          [
           6,
           5,
           816.0958640000001
          ],
          [
           1,
           1,
           454.407682
          ],
          [
           4,
           2,
           63.93787683333334
          ],
          [
           5,
           2,
           239.6370205
          ],
          [
           6,
           4,
           202.366437
          ],
          [
           3,
           1,
           29.5727425
          ],
          [
           10,
           4,
           105.68847907444444
          ],
          [
           2,
           2,
           170.959174
          ],
          [
           2,
           0,
           4.835492
          ],
          [
           4,
           2,
           40.590914165
          ],
          [
           28,
           16,
           347.95215425000004
          ],
          [
           1,
           0,
           5.565921
          ],
          [
           41,
           28,
           292.6804904
          ],
          [
           1,
           1,
           199.141696
          ],
          [
           5,
           3,
           349.0144063333334
          ]
         ],
         "geo": "geo",
         "hovertemplate": "<b>%{hovertext}</b><br><br>locations=%{location}<br>Total users=%{z}<br>Engaged sessions=%{customdata[1]}<br>Average session duration=%{customdata[2]}<extra></extra>",
         "hovertext": [
          "American Samoa",
          "Argentina",
          "Australia",
          "Austria",
          "Barbados",
          "Belgium",
          "Bermuda",
          "Brazil",
          "Bulgaria",
          "Canada",
          "Caribbean Netherlands",
          "Cayman Islands",
          "Chile",
          "China",
          "Colombia",
          "Costa Rica",
          "Croatia",
          "Curaçao",
          "Cyprus",
          "Czechia",
          "Dominican Republic",
          "Egypt",
          "Ethiopia",
          "Finland",
          "France",
          "French Polynesia",
          "Germany",
          "Greece",
          "Guadeloupe",
          "Guam",
          "Hong Kong",
          "Hungary",
          "India",
          "Indonesia",
          "Ireland",
          "Israel",
          "Italy",
          "Jamaica",
          "Japan",
          "Malaysia",
          "Maldives",
          "Marshall Islands",
          "Martinique",
          "Mexico",
          "Mozambique",
          "Myanmar (Burma)",
          "Netherlands",
          "New Zealand",
          "Norfolk Island",
          "Norway",
          "Panama",
          "Papua New Guinea",
          "Peru",
          "Philippines",
          "Poland",
          "Portugal",
          "Puerto Rico",
          "Romania",
          "Russia",
          "Réunion",
          "Samoa",
          "Saudi Arabia",
          "Seychelles",
          "Singapore",
          "Slovenia",
          "South Africa",
          "South Korea",
          "Spain",
          "St. Martin",
          "Sweden",
          "Switzerland",
          "Taiwan",
          "Tanzania",
          "Thailand",
          "Timor-Leste",
          "Trinidad & Tobago",
          "Türkiye",
          "U.S. Virgin Islands",
          "United Arab Emirates",
          "United Kingdom",
          "Venezuela",
          "Vietnam"
         ],
         "locations": [
          "ASM",
          "ARG",
          "AUS",
          "AUT",
          "BRB",
          "BEL",
          "BMU",
          "BRA",
          "BGR",
          "CAN",
          "BES",
          "CYM",
          "CHL",
          "CHN",
          "COL",
          "CRI",
          "HRV",
          "CUW",
          "CYP",
          "CZE",
          "DOM",
          "EGY",
          "ETH",
          "FIN",
          "FRA",
          "PYF",
          "DEU",
          "GRC",
          "GLP",
          "GUM",
          "HKG",
          "HUN",
          "IND",
          "IDN",
          "IRL",
          "ISR",
          "ITA",
          "JAM",
          "JPN",
          "MYS",
          "MDV",
          "MHL",
          "MTQ",
          "MEX",
          "MOZ",
          "MMR",
          "NLD",
          "NZL",
          "NFK",
          "NOR",
          "PAN",
          "PNG",
          "PER",
          "PHL",
          "POL",
          "PRT",
          "PRI",
          "ROU",
          "RUS",
          "REU",
          "WSM",
          "SAU",
          "SYC",
          "SGP",
          "SVN",
          "ZAF",
          "KOR",
          "ESP",
          "MAF",
          "SWE",
          "CHE",
          "TWN",
          "TZA",
          "THA",
          "TLS",
          "TTO",
          "TUR",
          "VIR",
          "ARE",
          "GBR",
          "VEN",
          "VNM"
         ],
         "name": "",
         "type": "choropleth",
         "z": [
          10,
          1,
          49,
          3,
          2,
          1,
          1,
          16,
          1,
          18,
          2,
          1,
          1,
          35,
          13,
          10,
          1,
          1,
          2,
          2,
          12,
          4,
          1,
          2,
          53,
          1,
          22,
          6,
          1,
          26,
          4,
          1,
          14,
          24,
          8,
          3,
          6,
          6,
          10,
          3,
          5,
          1,
          2,
          9,
          1,
          1,
          10,
          2,
          1,
          9,
          2,
          3,
          2,
          18,
          2,
          1,
          115,
          1,
          1,
          1,
          1,
          8,
          1,
          2,
          1,
          1,
          1,
          6,
          1,
          4,
          5,
          6,
          3,
          10,
          2,
          2,
          4,
          28,
          1,
          41,
          1,
          5
         ]
        }
       ],
       "layout": {
        "coloraxis": {
         "cmax": 120,
         "cmin": 0,
         "colorbar": {
          "title": {
           "text": "Total users"
          }
         },
         "colorscale": [
          [
           0,
           "rgb(247,251,255)"
          ],
          [
           0.125,
           "rgb(222,235,247)"
          ],
          [
           0.25,
           "rgb(198,219,239)"
          ],
          [
           0.375,
           "rgb(158,202,225)"
          ],
          [
           0.5,
           "rgb(107,174,214)"
          ],
          [
           0.625,
           "rgb(66,146,198)"
          ],
          [
           0.75,
           "rgb(33,113,181)"
          ],
          [
           0.875,
           "rgb(8,81,156)"
          ],
          [
           1,
           "rgb(8,48,107)"
          ]
         ]
        },
        "geo": {
         "center": {},
         "domain": {
          "x": [
           0,
           1
          ],
          "y": [
           0,
           1
          ]
         },
         "resolution": 50
        },
        "legend": {
         "tracegroupgap": 0
        },
        "margin": {
         "t": 60
        },
        "template": {
         "data": {
          "bar": [
           {
            "error_x": {
             "color": "#2a3f5f"
            },
            "error_y": {
             "color": "#2a3f5f"
            },
            "marker": {
             "line": {
              "color": "#E5ECF6",
              "width": 0.5
             },
             "pattern": {
              "fillmode": "overlay",
              "size": 10,
              "solidity": 0.2
             }
            },
            "type": "bar"
           }
          ],
          "barpolar": [
           {
            "marker": {
             "line": {
              "color": "#E5ECF6",
              "width": 0.5
             },
             "pattern": {
              "fillmode": "overlay",
              "size": 10,
              "solidity": 0.2
             }
            },
            "type": "barpolar"
           }
          ],
          "carpet": [
           {
            "aaxis": {
             "endlinecolor": "#2a3f5f",
             "gridcolor": "white",
             "linecolor": "white",
             "minorgridcolor": "white",
             "startlinecolor": "#2a3f5f"
            },
            "baxis": {
             "endlinecolor": "#2a3f5f",
             "gridcolor": "white",
             "linecolor": "white",
             "minorgridcolor": "white",
             "startlinecolor": "#2a3f5f"
            },
            "type": "carpet"
           }
          ],
          "choropleth": [
           {
            "colorbar": {
             "outlinewidth": 0,
             "ticks": ""
            },
            "type": "choropleth"
           }
          ],
          "contour": [
           {
            "colorbar": {
             "outlinewidth": 0,
             "ticks": ""
            },
            "colorscale": [
             [
              0,
              "#0d0887"
             ],
             [
              0.1111111111111111,
              "#46039f"
             ],
             [
              0.2222222222222222,
              "#7201a8"
             ],
             [
              0.3333333333333333,
              "#9c179e"
             ],
             [
              0.4444444444444444,
              "#bd3786"
             ],
             [
              0.5555555555555556,
              "#d8576b"
             ],
             [
              0.6666666666666666,
              "#ed7953"
             ],
             [
              0.7777777777777778,
              "#fb9f3a"
             ],
             [
              0.8888888888888888,
              "#fdca26"
             ],
             [
              1,
              "#f0f921"
             ]
            ],
            "type": "contour"
           }
          ],
          "contourcarpet": [
           {
            "colorbar": {
             "outlinewidth": 0,
             "ticks": ""
            },
            "type": "contourcarpet"
           }
          ],
          "heatmap": [
           {
            "colorbar": {
             "outlinewidth": 0,
             "ticks": ""
            },
            "colorscale": [
             [
              0,
              "#0d0887"
             ],
             [
              0.1111111111111111,
              "#46039f"
             ],
             [
              0.2222222222222222,
              "#7201a8"
             ],
             [
              0.3333333333333333,
              "#9c179e"
             ],
             [
              0.4444444444444444,
              "#bd3786"
             ],
             [
              0.5555555555555556,
              "#d8576b"
             ],
             [
              0.6666666666666666,
              "#ed7953"
             ],
             [
              0.7777777777777778,
              "#fb9f3a"
             ],
             [
              0.8888888888888888,
              "#fdca26"
             ],
             [
              1,
              "#f0f921"
             ]
            ],
            "type": "heatmap"
           }
          ],
          "heatmapgl": [
           {
            "colorbar": {
             "outlinewidth": 0,
             "ticks": ""
            },
            "colorscale": [
             [
              0,
              "#0d0887"
             ],
             [
              0.1111111111111111,
              "#46039f"
             ],
             [
              0.2222222222222222,
              "#7201a8"
             ],
             [
              0.3333333333333333,
              "#9c179e"
             ],
             [
              0.4444444444444444,
              "#bd3786"
             ],
             [
              0.5555555555555556,
              "#d8576b"
             ],
             [
              0.6666666666666666,
              "#ed7953"
             ],
             [
              0.7777777777777778,
              "#fb9f3a"
             ],
             [
              0.8888888888888888,
              "#fdca26"
             ],
             [
              1,
              "#f0f921"
             ]
            ],
            "type": "heatmapgl"
           }
          ],
          "histogram": [
           {
            "marker": {
             "pattern": {
              "fillmode": "overlay",
              "size": 10,
              "solidity": 0.2
             }
            },
            "type": "histogram"
           }
          ],
          "histogram2d": [
           {
            "colorbar": {
             "outlinewidth": 0,
             "ticks": ""
            },
            "colorscale": [
             [
              0,
              "#0d0887"
             ],
             [
              0.1111111111111111,
              "#46039f"
             ],
             [
              0.2222222222222222,
              "#7201a8"
             ],
             [
              0.3333333333333333,
              "#9c179e"
             ],
             [
              0.4444444444444444,
              "#bd3786"
             ],
             [
              0.5555555555555556,
              "#d8576b"
             ],
             [
              0.6666666666666666,
              "#ed7953"
             ],
             [
              0.7777777777777778,
              "#fb9f3a"
             ],
             [
              0.8888888888888888,
              "#fdca26"
             ],
             [
              1,
              "#f0f921"
             ]
            ],
            "type": "histogram2d"
           }
          ],
          "histogram2dcontour": [
           {
            "colorbar": {
             "outlinewidth": 0,
             "ticks": ""
            },
            "colorscale": [
             [
              0,
              "#0d0887"
             ],
             [
              0.1111111111111111,
              "#46039f"
             ],
             [
              0.2222222222222222,
              "#7201a8"
             ],
             [
              0.3333333333333333,
              "#9c179e"
             ],
             [
              0.4444444444444444,
              "#bd3786"
             ],
             [
              0.5555555555555556,
              "#d8576b"
             ],
             [
              0.6666666666666666,
              "#ed7953"
             ],
             [
              0.7777777777777778,
              "#fb9f3a"
             ],
             [
              0.8888888888888888,
              "#fdca26"
             ],
             [
              1,
              "#f0f921"
             ]
            ],
            "type": "histogram2dcontour"
           }
          ],
          "mesh3d": [
           {
            "colorbar": {
             "outlinewidth": 0,
             "ticks": ""
            },
            "type": "mesh3d"
           }
          ],
          "parcoords": [
           {
            "line": {
             "colorbar": {
              "outlinewidth": 0,
              "ticks": ""
             }
            },
            "type": "parcoords"
           }
          ],
          "pie": [
           {
            "automargin": true,
            "type": "pie"
           }
          ],
          "scatter": [
           {
            "fillpattern": {
             "fillmode": "overlay",
             "size": 10,
             "solidity": 0.2
            },
            "type": "scatter"
           }
          ],
          "scatter3d": [
           {
            "line": {
             "colorbar": {
              "outlinewidth": 0,
              "ticks": ""
             }
            },
            "marker": {
             "colorbar": {
              "outlinewidth": 0,
              "ticks": ""
             }
            },
            "type": "scatter3d"
           }
          ],
          "scattercarpet": [
           {
            "marker": {
             "colorbar": {
              "outlinewidth": 0,
              "ticks": ""
             }
            },
            "type": "scattercarpet"
           }
          ],
          "scattergeo": [
           {
            "marker": {
             "colorbar": {
              "outlinewidth": 0,
              "ticks": ""
             }
            },
            "type": "scattergeo"
           }
          ],
          "scattergl": [
           {
            "marker": {
             "colorbar": {
              "outlinewidth": 0,
              "ticks": ""
             }
            },
            "type": "scattergl"
           }
          ],
          "scattermapbox": [
           {
            "marker": {
             "colorbar": {
              "outlinewidth": 0,
              "ticks": ""
             }
            },
            "type": "scattermapbox"
           }
          ],
          "scatterpolar": [
           {
            "marker": {
             "colorbar": {
              "outlinewidth": 0,
              "ticks": ""
             }
            },
            "type": "scatterpolar"
           }
          ],
          "scatterpolargl": [
           {
            "marker": {
             "colorbar": {
              "outlinewidth": 0,
              "ticks": ""
             }
            },
            "type": "scatterpolargl"
           }
          ],
          "scatterternary": [
           {
            "marker": {
             "colorbar": {
              "outlinewidth": 0,
              "ticks": ""
             }
            },
            "type": "scatterternary"
           }
          ],
          "surface": [
           {
            "colorbar": {
             "outlinewidth": 0,
             "ticks": ""
            },
            "colorscale": [
             [
              0,
              "#0d0887"
             ],
             [
              0.1111111111111111,
              "#46039f"
             ],
             [
              0.2222222222222222,
              "#7201a8"
             ],
             [
              0.3333333333333333,
              "#9c179e"
             ],
             [
              0.4444444444444444,
              "#bd3786"
             ],
             [
              0.5555555555555556,
              "#d8576b"
             ],
             [
              0.6666666666666666,
              "#ed7953"
             ],
             [
              0.7777777777777778,
              "#fb9f3a"
             ],
             [
              0.8888888888888888,
              "#fdca26"
             ],
             [
              1,
              "#f0f921"
             ]
            ],
            "type": "surface"
           }
          ],
          "table": [
           {
            "cells": {
             "fill": {
              "color": "#EBF0F8"
             },
             "line": {
              "color": "white"
             }
            },
            "header": {
             "fill": {
              "color": "#C8D4E3"
             },
             "line": {
              "color": "white"
             }
            },
            "type": "table"
           }
          ]
         },
         "layout": {
          "annotationdefaults": {
           "arrowcolor": "#2a3f5f",
           "arrowhead": 0,
           "arrowwidth": 1
          },
          "autotypenumbers": "strict",
          "coloraxis": {
           "colorbar": {
            "outlinewidth": 0,
            "ticks": ""
           }
          },
          "colorscale": {
           "diverging": [
            [
             0,
             "#8e0152"
            ],
            [
             0.1,
             "#c51b7d"
            ],
            [
             0.2,
             "#de77ae"
            ],
            [
             0.3,
             "#f1b6da"
            ],
            [
             0.4,
             "#fde0ef"
            ],
            [
             0.5,
             "#f7f7f7"
            ],
            [
             0.6,
             "#e6f5d0"
            ],
            [
             0.7,
             "#b8e186"
            ],
            [
             0.8,
             "#7fbc41"
            ],
            [
             0.9,
             "#4d9221"
            ],
            [
             1,
             "#276419"
            ]
           ],
           "sequential": [
            [
             0,
             "#0d0887"
            ],
            [
             0.1111111111111111,
             "#46039f"
            ],
            [
             0.2222222222222222,
             "#7201a8"
            ],
            [
             0.3333333333333333,
             "#9c179e"
            ],
            [
             0.4444444444444444,
             "#bd3786"
            ],
            [
             0.5555555555555556,
             "#d8576b"
            ],
            [
             0.6666666666666666,
             "#ed7953"
            ],
            [
             0.7777777777777778,
             "#fb9f3a"
            ],
            [
             0.8888888888888888,
             "#fdca26"
            ],
            [
             1,
             "#f0f921"
            ]
           ],
           "sequentialminus": [
            [
             0,
             "#0d0887"
            ],
            [
             0.1111111111111111,
             "#46039f"
            ],
            [
             0.2222222222222222,
             "#7201a8"
            ],
            [
             0.3333333333333333,
             "#9c179e"
            ],
            [
             0.4444444444444444,
             "#bd3786"
            ],
            [
             0.5555555555555556,
             "#d8576b"
            ],
            [
             0.6666666666666666,
             "#ed7953"
            ],
            [
             0.7777777777777778,
             "#fb9f3a"
            ],
            [
             0.8888888888888888,
             "#fdca26"
            ],
            [
             1,
             "#f0f921"
            ]
           ]
          },
          "colorway": [
           "#636efa",
           "#EF553B",
           "#00cc96",
           "#ab63fa",
           "#FFA15A",
           "#19d3f3",
           "#FF6692",
           "#B6E880",
           "#FF97FF",
           "#FECB52"
          ],
          "font": {
           "color": "#2a3f5f"
          },
          "geo": {
           "bgcolor": "white",
           "lakecolor": "white",
           "landcolor": "#E5ECF6",
           "showlakes": true,
           "showland": true,
           "subunitcolor": "white"
          },
          "hoverlabel": {
           "align": "left"
          },
          "hovermode": "closest",
          "mapbox": {
           "style": "light"
          },
          "paper_bgcolor": "white",
          "plot_bgcolor": "#E5ECF6",
          "polar": {
           "angularaxis": {
            "gridcolor": "white",
            "linecolor": "white",
            "ticks": ""
           },
           "bgcolor": "#E5ECF6",
           "radialaxis": {
            "gridcolor": "white",
            "linecolor": "white",
            "ticks": ""
           }
          },
          "scene": {
           "xaxis": {
            "backgroundcolor": "#E5ECF6",
            "gridcolor": "white",
            "gridwidth": 2,
            "linecolor": "white",
            "showbackground": true,
            "ticks": "",
            "zerolinecolor": "white"
           },
           "yaxis": {
            "backgroundcolor": "#E5ECF6",
            "gridcolor": "white",
            "gridwidth": 2,
            "linecolor": "white",
            "showbackground": true,
            "ticks": "",
            "zerolinecolor": "white"
           },
           "zaxis": {
            "backgroundcolor": "#E5ECF6",
            "gridcolor": "white",
            "gridwidth": 2,
            "linecolor": "white",
            "showbackground": true,
            "ticks": "",
            "zerolinecolor": "white"
           }
          },
          "shapedefaults": {
           "line": {
            "color": "#2a3f5f"
           }
          },
          "ternary": {
           "aaxis": {
            "gridcolor": "white",
            "linecolor": "white",
            "ticks": ""
           },
           "baxis": {
            "gridcolor": "white",
            "linecolor": "white",
            "ticks": ""
           },
           "bgcolor": "#E5ECF6",
           "caxis": {
            "gridcolor": "white",
            "linecolor": "white",
            "ticks": ""
           }
          },
          "title": {
           "x": 0.05
          },
          "xaxis": {
           "automargin": true,
           "gridcolor": "white",
           "linecolor": "white",
           "ticks": "",
           "title": {
            "standoff": 15
           },
           "zerolinecolor": "white",
           "zerolinewidth": 2
          },
          "yaxis": {
           "automargin": true,
           "gridcolor": "white",
           "linecolor": "white",
           "ticks": "",
           "title": {
            "standoff": 15
           },
           "zerolinecolor": "white",
           "zerolinewidth": 2
          }
         }
        }
       }
      }
     },
     "metadata": {},
     "output_type": "display_data"
    }
   ],
   "source": [
    "import country_converter as coco\n",
    "cc = coco.CountryConverter()\n",
    "\n",
    "countryCodeList =[]\n",
    "#print(df)\n",
    "#df = df.groupby('Country', as_index=False)['Users'].sum()\n",
    "\n",
    "sortedData = df.groupby('Country')['Total users'].sum()\n",
    "\n",
    "#sessionsPerUserDF = df.groupby('Country')['Engaged sessions per user'].mean()\n",
    "\n",
    "#engagedSessionDF = df.groupby('Country')['Engaged sessions'].sum()\n",
    "engagedSessionDF = df.groupby('Country')['Engaged sessions'].sum()\n",
    "\n",
    "engagementRateDF = df.groupby('Country')['Engagement rate'].mean()\n",
    "\n",
    "#engagementTimeDF = df.groupby('Country')['Average engagement time'].mean()\n",
    "engagementTimeDF = df.groupby('Country')['Average session duration'].mean()\n",
    "\n",
    "print(engagementRateDF)\n",
    "#print(engagedSessionDF)\n",
    "\n",
    "#sortedDataFrame = pd.DataFrame({'Country':sortedData.index, 'Users':sortedData.values, 'Engaged Sessions':engagedSessionDF.values, 'Engagement Rate':engagementRateDF.values, 'Average session duration':engagementTimeDF.values, 'Engaged Sessions per User':sessionsPerUserDF.values})\n",
    "sortedDataFrame = pd.DataFrame({'Country':sortedData.index, 'Total users':sortedData.values, 'Engaged sessions':engagedSessionDF.values, 'Engagement rate':engagementRateDF.values, 'Average session duration':engagementTimeDF.values})\n",
    "\n",
    "sortedDataFrame = sortedDataFrame[sortedDataFrame.Country != 'RÃ©union']\n",
    "sortedDataFrame = sortedDataFrame[sortedDataFrame.Country != 'TÃ¼rkiye']\n",
    "#print(sortedDataFrame)\n",
    "\n",
    "countryList = sortedDataFrame.Country.tolist()\n",
    "#print(str(countryList))\n",
    "for country in countryList:\n",
    "    countryCode = cc.convert(names = country, to = 'ISO3')\n",
    "    if countryCode not in countryCodeList:\n",
    "        countryCodeList.append(countryCode)\n",
    "\n",
    "#numberOfUsersList = sortedDataFrame.Users.tolist()\n",
    "numberOfUsersList = sortedDataFrame['Total users'].tolist()\n",
    "i=0\n",
    "for item in numberOfUsersList:\n",
    "    print(str(countryList[i])+\": \" + str(item))\n",
    "    i+=1\n",
    "\n",
    "sortedDataFrame = pd.DataFrame({'Country':countryCodeList, 'Total users': numberOfUsersList, 'Engaged sessions':engagedSessionDF.values, 'Engagement rate':engagementRateDF.values, 'Average session duration':engagementTimeDF.values})\n",
    "\n",
    "fig = px.choropleth(sortedDataFrame, locations=countryCodeList,\n",
    "                    hover_data=['Total users','Engaged sessions','Average session duration'],\n",
    "                    color=sortedDataFrame['Total users'],\n",
    "                    #color=sortedDataFrame['Engaged Sessions'],\n",
    "                    hover_name=countryList, # column to add to hover information\n",
    "                    color_continuous_scale=px.colors.sequential.Blues,\n",
    "                    range_color=(0,120)\n",
    "                    )\n",
    "\n",
    "fig.update_geos(\n",
    "    resolution=50,\n",
    "    #showcoastlines=True, coastlinecolor=\"RebeccaPurple\",\n",
    "    #showland=True, landcolor=\"LightGreen\",\n",
    "    #showocean=True, oceancolor=\"LightBlue\",\n",
    "    #showlakes=True, lakecolor=\"Blue\",\n",
    "    #showrivers=True, rivercolor=\"Blue\"\n",
    ")\n",
    "\n",
    "fig.show()\n"
   ]
  },
  {
   "cell_type": "code",
   "execution_count": 41,
   "metadata": {},
   "outputs": [
    {
     "name": "stdout",
     "output_type": "stream",
     "text": [
      "       Total users  Engaged sessions  Engagement rate  \\\n",
      "count    82.000000         82.000000        82.000000   \n",
      "mean      8.512195          4.243902         0.424347   \n",
      "std      15.934468          7.259835         0.362593   \n",
      "min       1.000000          0.000000         0.000000   \n",
      "25%       1.000000          0.000000         0.000000   \n",
      "50%       2.500000          1.500000         0.389655   \n",
      "75%       9.000000          4.000000         0.655000   \n",
      "max     115.000000         42.000000         1.000000   \n",
      "\n",
      "       Average session duration  \n",
      "count                 82.000000  \n",
      "mean                 220.145296  \n",
      "std                  309.052005  \n",
      "min                    2.105587  \n",
      "25%                    7.530839  \n",
      "50%                  100.067674  \n",
      "75%                  330.174973  \n",
      "max                 1539.417615  \n",
      "TOTAL NUMBER OF USERS: 698\n",
      "TOTAL NUMBER OF SESSIONS: 348\n",
      "Number of countries and territories: 82\n",
      "MEDIAN ENGAGEMENT RATE: 0.3896551724\n",
      "MEAN ENGAGEMENT RATE: 0.42434666621333045\n"
     ]
    }
   ],
   "source": [
    "description = sortedDataFrame.describe()\n",
    "print(description)\n",
    "totalUsers = sortedDataFrame['Total users'].sum()\n",
    "totalSessions = sortedDataFrame['Engaged sessions'].sum()\n",
    "medianEngagementRate = sortedDataFrame['Engagement rate'].median()\n",
    "meanEngagementRate = sortedDataFrame['Engagement rate'].mean()\n",
    "\n",
    "\n",
    "print(\"TOTAL NUMBER OF USERS: \" + str(totalUsers))\n",
    "print(\"TOTAL NUMBER OF SESSIONS: \" + str(totalSessions))\n",
    "print(\"Number of countries and territories: \" + str(len(countryCodeList)))\n",
    "print(\"MEDIAN ENGAGEMENT RATE: \" + str(medianEngagementRate))\n",
    "print(\"MEAN ENGAGEMENT RATE: \" + str(meanEngagementRate))\n",
    "\n",
    "#print(\"Mean engagement rate: \" + str(meanEngagementRate))"
   ]
  }
 ],
 "metadata": {
  "interpreter": {
   "hash": "f9ad98e64aabdb23c848b3150f3988bfada987669af20a948f315a09e337818a"
  },
  "kernelspec": {
   "display_name": "Python 3.10.4 64-bit",
   "language": "python",
   "name": "python3"
  },
  "language_info": {
   "codemirror_mode": {
    "name": "ipython",
    "version": 3
   },
   "file_extension": ".py",
   "mimetype": "text/x-python",
   "name": "python",
   "nbconvert_exporter": "python",
   "pygments_lexer": "ipython3",
   "version": "3.12.0"
  },
  "orig_nbformat": 4
 },
 "nbformat": 4,
 "nbformat_minor": 2
}
